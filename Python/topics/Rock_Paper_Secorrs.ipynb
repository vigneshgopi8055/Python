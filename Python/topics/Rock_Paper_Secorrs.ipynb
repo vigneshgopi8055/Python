{
 "cells": [
  {
   "cell_type": "code",
   "execution_count": 5,
   "id": "7b806985",
   "metadata": {},
   "outputs": [
    {
     "name": "stdout",
     "output_type": "stream",
     "text": [
      "0 : rock , 1 : paper , 2 : secorrs 1\n",
      "you :  1\n",
      "computer :  0\n",
      "you lose\n"
     ]
    }
   ],
   "source": [
    "import random\n",
    "user = int(input(\"0 : rock , 1 : paper , 2 : secorrs \"))\n",
    "comp = random.randint(0,2)\n",
    "def check(user,comp):\n",
    "    if(comp == user):\n",
    "        return 0\n",
    "    if(comp ==0 and user == 1 ):\n",
    "        return 1\n",
    "    if(comp == 0 and user == 2):\n",
    "        return -1\n",
    "    if(comp == 1 and user == 2):\n",
    "        return 1\n",
    "    if(comp == 1 and user == 0):\n",
    "        return -1 \n",
    "    if(comp == 2 and user == 0):\n",
    "        return 1\n",
    "    if(comp == 2 and user == 1):\n",
    "        return -1\n",
    "print(\"you : \" , user)\n",
    "print(\"computer : \",comp)\n",
    "result = check(comp,user)\n",
    "if(result == 0):\n",
    "    print(\"its a draw\")\n",
    "if(result == -1):\n",
    "    print(\"you lose\")\n",
    "if(result == 1):\n",
    "    print(\"you won\")\n"
   ]
  },
  {
   "cell_type": "code",
   "execution_count": null,
   "id": "d842e920",
   "metadata": {},
   "outputs": [],
   "source": []
  }
 ],
 "metadata": {
  "kernelspec": {
   "display_name": "Python 3 (ipykernel)",
   "language": "python",
   "name": "python3"
  },
  "language_info": {
   "codemirror_mode": {
    "name": "ipython",
    "version": 3
   },
   "file_extension": ".py",
   "mimetype": "text/x-python",
   "name": "python",
   "nbconvert_exporter": "python",
   "pygments_lexer": "ipython3",
   "version": "3.9.13"
  }
 },
 "nbformat": 4,
 "nbformat_minor": 5
}
