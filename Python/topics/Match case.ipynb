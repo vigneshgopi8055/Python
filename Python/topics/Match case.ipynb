{
 "cells": [
  {
   "cell_type": "code",
   "execution_count": 3,
   "id": "4c4db709",
   "metadata": {},
   "outputs": [
    {
     "ename": "SyntaxError",
     "evalue": "invalid syntax (3647600499.py, line 2)",
     "output_type": "error",
     "traceback": [
      "\u001b[1;36m  File \u001b[1;32m\"C:\\Users\\vigne\\AppData\\Local\\Temp\\ipykernel_14576\\3647600499.py\"\u001b[1;36m, line \u001b[1;32m2\u001b[0m\n\u001b[1;33m    match command:\u001b[0m\n\u001b[1;37m          ^\u001b[0m\n\u001b[1;31mSyntaxError\u001b[0m\u001b[1;31m:\u001b[0m invalid syntax\n"
     ]
    }
   ],
   "source": [
    "command = 'Hello, World!'\n",
    "match command:\n",
    "     case 'Hello, World!':\n",
    "         print('Hello to you too!')\n",
    "     case 'Goodbye, World!':\n",
    "         print('See you later')\n",
    "     case other:\n",
    "         print('No match found')"
   ]
  },
  {
   "cell_type": "markdown",
   "id": "cc16bd07",
   "metadata": {},
   "source": [
    "# Why Use a match case Statement?"
   ]
  },
  {
   "cell_type": "markdown",
   "id": "7ab4bb3a",
   "metadata": {},
   "source": [
    "The example above can just as easily be implemented with an if-elif-else statement. In this section, we’ll see two more examples of how using match case can simplify your flow control statements, making them more readable and less prone to errors. "
   ]
  },
  {
   "cell_type": "markdown",
   "id": "72d00af5",
   "metadata": {},
   "source": [
    "\n",
    "parameter = \"Geeksforgeeks\"\n",
    " \n",
    "match parameter:\n",
    "   \n",
    "    case first  :\n",
    "        do_something(first)\n",
    "     \n",
    "    case second :\n",
    "          do_something(second)\n",
    "         \n",
    "    case third :\n",
    "        do_something(third)\n",
    "        .............\n",
    "        ............\n",
    "    case n :\n",
    "        do_something(n)\n",
    "    case _  :\n",
    "          nothing_matched_function()\n",
    "         "
   ]
  },
  {
   "cell_type": "code",
   "execution_count": 6,
   "id": "78e833bf",
   "metadata": {},
   "outputs": [
    {
     "ename": "SyntaxError",
     "evalue": "invalid syntax (1224328646.py, line 4)",
     "output_type": "error",
     "traceback": [
      "\u001b[1;36m  File \u001b[1;32m\"C:\\Users\\vigne\\AppData\\Local\\Temp\\ipykernel_14576\\1224328646.py\"\u001b[1;36m, line \u001b[1;32m4\u001b[0m\n\u001b[1;33m    match cpuModel:\u001b[0m\n\u001b[1;37m          ^\u001b[0m\n\u001b[1;31mSyntaxError\u001b[0m\u001b[1;31m:\u001b[0m invalid syntax\n"
     ]
    }
   ],
   "source": [
    "\n",
    "cpuModel = str.lower(input(\"Please enter your CPU model: \"))\n",
    " \n",
    "# The match statement evaluates the variable's value\n",
    "match cpuModel:\n",
    "case \"celeron\": # We test for different values and print different messages\n",
    "        print (\"Forget about it and play Minesweeper instead...\")\n",
    "case \"core i3\":\n",
    "        print (\"Good luck with that ;)\")\n",
    "case \"core i5\":\n",
    "        print (\"Yeah, you should be fine.\")\n",
    "case \"core i7\":\n",
    "        print (\"Have fun!\")\n",
    "case \"core i9\":\n",
    "        print (\"Our team designed nice loading screens… Too bad you won't see them...\")\n",
    "case _: # the underscore character is used as a catch-all.\n",
    "        print (\"Is that even a thing?\")"
   ]
  },
  {
   "cell_type": "code",
   "execution_count": null,
   "id": "65be8b8f",
   "metadata": {},
   "outputs": [],
   "source": []
  }
 ],
 "metadata": {
  "kernelspec": {
   "display_name": "Python 3 (ipykernel)",
   "language": "python",
   "name": "python3"
  },
  "language_info": {
   "codemirror_mode": {
    "name": "ipython",
    "version": 3
   },
   "file_extension": ".py",
   "mimetype": "text/x-python",
   "name": "python",
   "nbconvert_exporter": "python",
   "pygments_lexer": "ipython3",
   "version": "3.9.13"
  }
 },
 "nbformat": 4,
 "nbformat_minor": 5
}
