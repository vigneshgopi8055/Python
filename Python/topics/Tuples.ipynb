{
 "cells": [
  {
   "cell_type": "markdown",
   "id": "a01bec28",
   "metadata": {},
   "source": [
    "# Python Tuples\n",
    "A Python Tuple is a group of items that are separated by commas. The indexing, nested objects, and repetitions of a tuple are somewhat like those of a list, however unlike a list, a tuple is immutable.\n",
    "\n",
    "The distinction between the two is that while we can edit the contents of a list, we cannot alter the elements of a tuple once they have been assigned. "
   ]
  },
  {
   "cell_type": "markdown",
   "id": "a39b0bf4",
   "metadata": {},
   "source": [
    "# Features of Python Tuple\n",
    "Tuples are an immutable data type, which means that once they have been generated, their elements cannot be changed.\n",
    "Since tuples are ordered sequences, each element has a specific order that will never change."
   ]
  },
  {
   "cell_type": "code",
   "execution_count": 2,
   "id": "a86b5f93",
   "metadata": {},
   "outputs": [
    {
     "name": "stdout",
     "output_type": "stream",
     "text": [
      "Empty tuple:  ()\n",
      "Tuple with integers:  (4, 6, 8, 10, 40, 14)\n",
      "Tuple with different data types:  (4, 'Python', 9.3)\n",
      "A nested tuple:  ('Python', {4: 5, 6: 2, 8: 2}, (5, 3, 5, 6))\n"
     ]
    }
   ],
   "source": [
    "# Python program to show how to create a tuple    \n",
    "# Creating an empty tuple    \n",
    "empty_tuple = ()    \n",
    "print(\"Empty tuple: \", empty_tuple)    \n",
    "    \n",
    "# Creating tuple having integers    \n",
    "int_tuple = (4, 6, 8, 10, 40, 14)    \n",
    "print(\"Tuple with integers: \", int_tuple)    \n",
    "    \n",
    "# Creating a tuple having objects of different data types    \n",
    "mixed_tuple = (4, \"Python\", 9.3)    \n",
    "print(\"Tuple with different data types: \", mixed_tuple)    \n",
    "    \n",
    "# Creating a nested tuple    \n",
    "nested_tuple = (\"Python\", {4: 5, 6: 2, 8:2}, (5, 3, 5, 6))    \n",
    "print(\"A nested tuple: \", nested_tuple)    "
   ]
  },
  {
   "cell_type": "code",
   "execution_count": 3,
   "id": "7782dc4f",
   "metadata": {},
   "outputs": [
    {
     "data": {
      "text/plain": [
       "(5, 10, 49, 56, 2, 32)"
      ]
     },
     "execution_count": 3,
     "metadata": {},
     "output_type": "execute_result"
    }
   ],
   "source": [
    "tup = (5,10,49,56,2,32)\n",
    "tup"
   ]
  },
  {
   "cell_type": "code",
   "execution_count": 4,
   "id": "574816ab",
   "metadata": {},
   "outputs": [
    {
     "name": "stdout",
     "output_type": "stream",
     "text": [
      "Element at -1 index:  Collection\n",
      "Elements between -4 and -1 are:  ('Python', 'Tuple', 'Ordered')\n"
     ]
    }
   ],
   "source": [
    "tuple_ = (\"Python\", \"Tuple\", \"Ordered\", \"Collection\")    \n",
    "# Printing elements using negative indices    \n",
    "print(\"Element at -1 index: \", tuple_[-1])    \n",
    "print(\"Elements between -4 and -1 are: \", tuple_[-4:-1])    "
   ]
  },
  {
   "cell_type": "code",
   "execution_count": 5,
   "id": "8f9dafb8",
   "metadata": {},
   "outputs": [
    {
     "data": {
      "text/plain": [
       "10"
      ]
     },
     "execution_count": 5,
     "metadata": {},
     "output_type": "execute_result"
    }
   ],
   "source": [
    "tup[1]"
   ]
  },
  {
   "cell_type": "code",
   "execution_count": 6,
   "id": "46cb7767",
   "metadata": {},
   "outputs": [
    {
     "ename": "TypeError",
     "evalue": "'tuple' object does not support item assignment",
     "output_type": "error",
     "traceback": [
      "\u001b[1;31m---------------------------------------------------------------------------\u001b[0m",
      "\u001b[1;31mTypeError\u001b[0m                                 Traceback (most recent call last)",
      "\u001b[1;32m~\\AppData\\Local\\Temp\\ipykernel_7392\\3683847293.py\u001b[0m in \u001b[0;36m<module>\u001b[1;34m\u001b[0m\n\u001b[1;32m----> 1\u001b[1;33m \u001b[0mtup\u001b[0m\u001b[1;33m[\u001b[0m\u001b[1;36m1\u001b[0m\u001b[1;33m]\u001b[0m \u001b[1;33m=\u001b[0m \u001b[1;36m11\u001b[0m\u001b[1;33m\u001b[0m\u001b[1;33m\u001b[0m\u001b[0m\n\u001b[0m",
      "\u001b[1;31mTypeError\u001b[0m: 'tuple' object does not support item assignment"
     ]
    }
   ],
   "source": [
    "tup[1] = 11"
   ]
  },
  {
   "cell_type": "markdown",
   "id": "cd1d9c4f",
   "metadata": {},
   "source": [
    "+ since the objects in tuple are immutable they cannot be changed"
   ]
  },
  {
   "cell_type": "code",
   "execution_count": 7,
   "id": "e7c06769",
   "metadata": {},
   "outputs": [
    {
     "name": "stdout",
     "output_type": "stream",
     "text": [
      "Elements between indices 1 and 3:  ('Tuple', 'Ordered')\n",
      "Elements between indices 0 and -4:  ('Python', 'Tuple')\n",
      "Entire tuple:  ('Python', 'Tuple', 'Ordered', 'Immutable', 'Collection', 'Objects')\n"
     ]
    }
   ],
   "source": [
    "# Python program to show how slicing works in Python tuples    \n",
    "# Creating a tuple    \n",
    "tuple_ = (\"Python\", \"Tuple\", \"Ordered\", \"Immutable\", \"Collection\", \"Objects\")    \n",
    "# Using slicing to access elements of the tuple    \n",
    "print(\"Elements between indices 1 and 3: \", tuple_[1:3])    \n",
    "# Using negative indexing in slicing    \n",
    "print(\"Elements between indices 0 and -4: \", tuple_[:-4])    \n",
    "# Printing the entire tuple by using the default start and end values.     \n",
    "print(\"Entire tuple: \", tuple_[:])    "
   ]
  },
  {
   "cell_type": "code",
   "execution_count": 9,
   "id": "82516b6f",
   "metadata": {},
   "outputs": [
    {
     "name": "stdout",
     "output_type": "stream",
     "text": [
      "'tuple' object doesn't support item deletion\n",
      "name 'tuple_' is not defined\n"
     ]
    }
   ],
   "source": [
    "tup = (1,2,3,4,5)\n",
    "try:\n",
    "    del tup[2]\n",
    "except Exception as e:    \n",
    "    print(e)    \n",
    "# Deleting the variable from the global space of the program    \n",
    "del tuple_    \n",
    "# Trying accessing the tuple after deleting it    \n",
    "try:    \n",
    "    print(tuple_)    \n",
    "except Exception as e:    \n",
    "    print(e)    "
   ]
  },
  {
   "cell_type": "markdown",
   "id": "f4c29094",
   "metadata": {},
   "source": [
    "+ tuple allows duplicate valuesin it"
   ]
  },
  {
   "cell_type": "markdown",
   "id": "f9d35afc",
   "metadata": {},
   "source": [
    "# Tuple Methods"
   ]
  },
  {
   "cell_type": "markdown",
   "id": "74aafac1",
   "metadata": {},
   "source": [
    "#  Count () Method :\n",
    " . The number of times the specified element occurs in the tuple is returned by the count () function of Tuple"
   ]
  },
  {
   "cell_type": "code",
   "execution_count": 16,
   "id": "67c88f02",
   "metadata": {},
   "outputs": [
    {
     "name": "stdout",
     "output_type": "stream",
     "text": [
      "Count of 2 in T1 is: 5\n",
      "Count of Java in T2 is: 2\n"
     ]
    }
   ],
   "source": [
    "T1 = (0, 1, 5, 6, 7, 2, 2, 4, 2, 3, 2, 3, 1, 3, 2)  \n",
    "T2 = ('python', 'java', 'python', 'Tpoint', 'python', 'java')  \n",
    "# counting the appearance of 3  \n",
    "res = T1.count(2)  \n",
    "print('Count of 2 in T1 is:', res)  \n",
    "# counting the appearance of java  \n",
    "res = T2.count('java')  \n",
    "print('Count of Java in T2 is:', res)  "
   ]
  },
  {
   "cell_type": "code",
   "execution_count": 17,
   "id": "eddfecee",
   "metadata": {},
   "outputs": [
    {
     "data": {
      "text/plain": [
       "15"
      ]
     },
     "execution_count": 17,
     "metadata": {},
     "output_type": "execute_result"
    }
   ],
   "source": [
    "len(T1)"
   ]
  },
  {
   "cell_type": "markdown",
   "id": "d9931d5a",
   "metadata": {},
   "source": [
    "# index() Method:\n",
    "The first instance of the requested element from the tuple is returned by the Index() function.\n",
    "\n",
    "Parameters:\n",
    "\n",
    "The element to be looked for.\n",
    "\n",
    "+ begin (Optional): the index used as the starting point for searching\n",
    "+ final (optional): The last index up until which the search is conducted\n",
    "+ Index() Method"
   ]
  },
  {
   "cell_type": "code",
   "execution_count": 18,
   "id": "e019d26c",
   "metadata": {},
   "outputs": [
    {
     "name": "stdout",
     "output_type": "stream",
     "text": [
      "First occurrence of 3 is 3\n",
      "First occurrence of 3 after 4th index is: 5\n"
     ]
    }
   ],
   "source": [
    "Tuple_data = (0, 1, 2, 3, 2, 3, 1, 3, 2)  \n",
    "# getting the index of 3  \n",
    "res = Tuple_data.index(3)  \n",
    "print('First occurrence of 3 is', res)  \n",
    "# getting the index of 3 after 4th  \n",
    "# index  \n",
    "res = Tuple_data.index(3, 4)  \n",
    "print('First occurrence of 3 after 4th index is:', res) "
   ]
  },
  {
   "cell_type": "markdown",
   "id": "e78b6213",
   "metadata": {},
   "source": [
    "tup.index(value,start,end)"
   ]
  },
  {
   "cell_type": "markdown",
   "id": "6b1bc6ea",
   "metadata": {},
   "source": [
    "Following are Some Advantages of Tuples over Lists:\n",
    "Lists take longer than triples.\n",
    "\n",
    "The code is protected from any unintentional changes thanks to tuples. It is preferable to store non-changing data in \"tuples\" rather than \"lists\" if it is required by a programme.\n",
    "\n",
    "If a tuple includes immutable values like strings, numbers, or another tuple, it can be used as a dictionary key. Since \"lists\" are mutable, they cannot be utilized as dictionary keys."
   ]
  },
  {
   "cell_type": "code",
   "execution_count": 19,
   "id": "dcbd98db",
   "metadata": {},
   "outputs": [
    {
     "name": "stdout",
     "output_type": "stream",
     "text": [
      "('Python', 'Tuple', 'Ordered', 'Immutable', 4, 5, 6)\n"
     ]
    }
   ],
   "source": [
    " #Python program to show how to concatenate tuples    \n",
    "# Creating a tuple    \n",
    "tuple_ = (\"Python\", \"Tuple\", \"Ordered\", \"Immutable\")    \n",
    "# Adding a tuple to the tuple_    \n",
    "print(tuple_ + (4, 5, 6))    "
   ]
  },
  {
   "cell_type": "markdown",
   "id": "a8692ff1",
   "metadata": {},
   "source": [
    "# Difference b/w list and tuple"
   ]
  },
  {
   "cell_type": "markdown",
   "id": "2db30559",
   "metadata": {},
   "source": [
    "### List\n"
   ]
  },
  {
   "cell_type": "markdown",
   "id": "22f3137e",
   "metadata": {},
   "source": [
    "+ lists are mutable\n",
    "+ The implication of iterations is Time-consuming\n",
    "+ Lists consume more memory\n",
    "+ Lists have several built-in methods\n",
    "+ Unexpected changes and errors are more likely to occur"
   ]
  },
  {
   "cell_type": "markdown",
   "id": "cb6ac0f2",
   "metadata": {},
   "source": [
    "### Tuple"
   ]
  },
  {
   "cell_type": "markdown",
   "id": "451d56a0",
   "metadata": {},
   "source": [
    "+ tuples are immutable\n",
    "+ The implication of iterations is comparatively Faster\n",
    "+ Tuple consumes less memory as compared to the list\n",
    "+ Tuple does not have many built-in methods.\n",
    "+ In a tuple, it is hard to take place."
   ]
  },
  {
   "cell_type": "markdown",
   "id": "9453d788",
   "metadata": {},
   "source": [
    "# Tuples and Lists: Key Similarities\n",
    "+ They both hold collections of items and are heterogeneous data types, meaning they can contain multiple data types simultaneously.\n",
    "+ They're both ordered, which implies the items or objects are maintained in the same order as they were placed until changed manually.\n",
    "+ Because they're both sequential data structures, we can iterate through the objects they hold; hence, they are iterables.\n",
    "An integer index, enclosed in square brackets [index], can be used to access objects of both data types."
   ]
  },
  {
   "cell_type": "markdown",
   "id": "cb0f59d2",
   "metadata": {},
   "source": [
    "+ Homogeneous Data Structure – Data elements will be of same data type (ex: Array).\n",
    "+ Heterogeneous Data Structure – Data elements may not be of same data type (ex: List, Tuples, Sets etc…)."
   ]
  },
  {
   "cell_type": "code",
   "execution_count": null,
   "id": "ad4be609",
   "metadata": {},
   "outputs": [],
   "source": []
  }
 ],
 "metadata": {
  "kernelspec": {
   "display_name": "Python 3 (ipykernel)",
   "language": "python",
   "name": "python3"
  },
  "language_info": {
   "codemirror_mode": {
    "name": "ipython",
    "version": 3
   },
   "file_extension": ".py",
   "mimetype": "text/x-python",
   "name": "python",
   "nbconvert_exporter": "python",
   "pygments_lexer": "ipython3",
   "version": "3.9.13"
  }
 },
 "nbformat": 4,
 "nbformat_minor": 5
}
