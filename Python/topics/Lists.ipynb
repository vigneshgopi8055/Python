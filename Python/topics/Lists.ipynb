{
 "cells": [
  {
   "cell_type": "markdown",
   "id": "5ddc8cfa",
   "metadata": {},
   "source": [
    "# Python List\n",
    "+ A list in Python is used to store the sequence of various types of data.\n",
    "+ A list can be defined as a collection of values or items of different types.\n",
    "+ Python lists are mutable type which implies that we may modify its element after it has been formed. \n",
    "+ The items in the list are separated with the comma (,) and enclosed with the square brackets [].\n",
    "\n",
    "+ Although Python has six data types that may hold sequences, the list is the most popular and dependable form. \n",
    "+ The collection of data is stored in a list, a sequence data type. \n",
    "+ Similar sequence data formats are Tuples and String.\n",
    "\n",
    "+ Python lists are identical to dynamically scaled arrays that are specified in other languages, such as Java's ArrayList and C++'s vector. A list is a group of items that are denoted by the symbol [] and subdivided by commas."
   ]
  },
  {
   "cell_type": "code",
   "execution_count": 1,
   "id": "a257e597",
   "metadata": {},
   "outputs": [
    {
     "name": "stdout",
     "output_type": "stream",
     "text": [
      "[1, 2, 'Python', 'Program', 15.9]\n",
      "['Amy', 'Ryan', 'Henry', 'Emma']\n",
      "<class 'list'>\n",
      "<class 'list'>\n"
     ]
    }
   ],
   "source": [
    "list1 = [1, 2, \"Python\", \"Program\", 15.9]      \n",
    "list2 = [\"Amy\", \"Ryan\", \"Henry\", \"Emma\"]   \n",
    "  \n",
    "# printing the list  \n",
    "print(list1)  \n",
    "print(list2)  \n",
    "  \n",
    "# printing the type of list  \n",
    "print(type(list1))  \n",
    "print(type(list2))  "
   ]
  },
  {
   "cell_type": "markdown",
   "id": "faf4841c",
   "metadata": {},
   "source": [
    "# Characteristics of Lists\n",
    "The list has the following characteristics:\n",
    "\n",
    "+ The lists are ordered.\n",
    "+ The element of the list can access by index.\n",
    "+ The lists are the mutable type.\n",
    "+ The lists are mutable types.\n",
    "+ A list can store the number of various elements."
   ]
  },
  {
   "cell_type": "code",
   "execution_count": 2,
   "id": "4e287990",
   "metadata": {},
   "outputs": [
    {
     "data": {
      "text/plain": [
       "False"
      ]
     },
     "execution_count": 2,
     "metadata": {},
     "output_type": "execute_result"
    }
   ],
   "source": [
    "#Ordered List Checking\n",
    "  \n",
    "a = [ 1, 2, \"Ram\", 3.50, \"Rahul\", 5, 6 ]    \n",
    "b = [ 1, 2, 5, \"Ram\", 3.50, \"Rahul\", 6 ]    \n",
    "a == b    "
   ]
  },
  {
   "cell_type": "markdown",
   "id": "066c73e6",
   "metadata": {},
   "source": [
    "# List Indexing and Splitting"
   ]
  },
  {
   "cell_type": "markdown",
   "id": "94c1f4ac",
   "metadata": {},
   "source": [
    "The index starts from 0 and goes to length - 1. The first element of the list is stored at the 0th index, the second element of the list is stored at the 1st index, and so on.\n",
    "+ The start denotes the starting index position of the list.\n",
    "+ The stop denotes the last index position of the list.\n",
    "+ The step is used to skip the nth element within a start:stop"
   ]
  },
  {
   "cell_type": "code",
   "execution_count": 3,
   "id": "92b905d3",
   "metadata": {},
   "outputs": [
    {
     "name": "stdout",
     "output_type": "stream",
     "text": [
      "1\n",
      "2\n",
      "3\n",
      "4\n",
      "[1, 2, 3, 4, 5, 6]\n",
      "[1, 2, 3, 4, 5, 6, 7]\n",
      "[3, 4, 5]\n",
      "[2, 4, 6]\n"
     ]
    }
   ],
   "source": [
    "list = [1,2,3,4,5,6,7]    \n",
    "print(list[0])    \n",
    "print(list[1])    \n",
    "print(list[2])    \n",
    "print(list[3])    \n",
    "# Slicing the elements    \n",
    "print(list[0:6])    \n",
    "# By default, the index value is 0 so its starts from the 0th element and go for index -1.    \n",
    "print(list[:])    \n",
    "print(list[2:5])    \n",
    "print(list[1:6:2])    "
   ]
  },
  {
   "cell_type": "code",
   "execution_count": 4,
   "id": "a4b5780c",
   "metadata": {},
   "outputs": [
    {
     "name": "stdout",
     "output_type": "stream",
     "text": [
      "5\n",
      "[3, 4, 5]\n",
      "[1, 2, 3, 4]\n",
      "[3, 4]\n"
     ]
    }
   ],
   "source": [
    "# negative indexing example  \n",
    "list = [1,2,3,4,5]    \n",
    "print(list[-1])    \n",
    "print(list[-3:])    \n",
    "print(list[:-1])    \n",
    "print(list[-3:-1])  "
   ]
  },
  {
   "cell_type": "code",
   "execution_count": 5,
   "id": "241e29d3",
   "metadata": {},
   "outputs": [
    {
     "name": "stdout",
     "output_type": "stream",
     "text": [
      "[1, 2, 3, 4, 5, 6]\n",
      "[1, 2, 10, 4, 5, 6]\n",
      "[1, 89, 78, 4, 5, 6]\n",
      "[1, 89, 78, 4, 5, 25]\n"
     ]
    }
   ],
   "source": [
    "# updating list values  \n",
    "list = [1, 2, 3, 4, 5, 6]       \n",
    "print(list)       \n",
    "# It will assign value to the value to the second index     \n",
    "list[2] = 10     \n",
    "print(list)      \n",
    "# Adding multiple-element     \n",
    "list[1:3] = [89, 78]       \n",
    "print(list)     \n",
    "# It will add value at the end of the list    \n",
    "list[-1] = 25    \n",
    "print(list)    "
   ]
  },
  {
   "cell_type": "markdown",
   "id": "b6317ff7",
   "metadata": {},
   "source": [
    "# Adding Elements to the List "
   ]
  },
  {
   "cell_type": "code",
   "execution_count": 6,
   "id": "12ccbe00",
   "metadata": {},
   "outputs": [
    {
     "name": "stdout",
     "output_type": "stream",
     "text": [
      "Enter the number of elements in the list:5\n",
      "Enter the item:1\n",
      "Enter the item:2\n",
      "Enter the item:3\n",
      "Enter the item:4\n",
      "Enter the item:5\n",
      "printing the list items..\n",
      "1  2  3  4  5  "
     ]
    }
   ],
   "source": [
    "#Declaring the empty list    \n",
    "l =[]    \n",
    "#Number of elements will be entered by the user      \n",
    "n = int(input(\"Enter the number of elements in the list:\"))    \n",
    "# for loop to take the input    \n",
    "for i in range(0,n):       \n",
    "    # The input is taken from the user and added to the list as the item    \n",
    "    l.append(input(\"Enter the item:\"))       \n",
    "print(\"printing the list items..\")     \n",
    "# traversal loop to print the list items      \n",
    "for i in l:     \n",
    "    print(i, end = \"  \")   "
   ]
  },
  {
   "cell_type": "markdown",
   "id": "98f91144",
   "metadata": {},
   "source": [
    "Python List Built-in Functions\n",
    "Python provides the following built-in functions, which can be used with the lists.\n",
    "\n",
    "+ len()\n",
    "+ max()\n",
    "+ min()"
   ]
  },
  {
   "cell_type": "markdown",
   "id": "864e229e",
   "metadata": {},
   "source": [
    "Example: 1- Write the program to remove the duplicate element of the list."
   ]
  },
  {
   "cell_type": "code",
   "execution_count": 8,
   "id": "06739fec",
   "metadata": {},
   "outputs": [
    {
     "name": "stdout",
     "output_type": "stream",
     "text": [
      "[1, 2, 3, 5, 9, 7]\n"
     ]
    }
   ],
   "source": [
    "li = [1,2,3,1,2,5,9,3,7]\n",
    "list2 = []    \n",
    "for i in li:    \n",
    "    if i not in list2:    \n",
    "        list2.append(i)    \n",
    "print(list2)    \n",
    "    "
   ]
  },
  {
   "cell_type": "markdown",
   "id": "96713b94",
   "metadata": {},
   "source": [
    "Example:2- Write a program to find the sum of the element in the list."
   ]
  },
  {
   "cell_type": "code",
   "execution_count": 9,
   "id": "e3a14454",
   "metadata": {},
   "outputs": [
    {
     "name": "stdout",
     "output_type": "stream",
     "text": [
      "67\n"
     ]
    }
   ],
   "source": [
    "list2 = [3,4,5,9,10,12,24]\n",
    "sum = 0\n",
    "for i in list2:\n",
    "    sum = sum + i\n",
    "print(sum)"
   ]
  },
  {
   "cell_type": "markdown",
   "id": "de2306c5",
   "metadata": {},
   "source": [
    "Example: 3- Write the program to find the lists consist of at least one common element."
   ]
  },
  {
   "cell_type": "code",
   "execution_count": 11,
   "id": "f33dc921",
   "metadata": {},
   "outputs": [
    {
     "name": "stdout",
     "output_type": "stream",
     "text": [
      "The common element is: 2\n",
      "The common element is: 10\n"
     ]
    }
   ],
   "source": [
    "list1 = [1,2,3,4,5,6,10]    \n",
    "list2 = [7,8,9,2,10]    \n",
    "for x in list1:    \n",
    "    for y in list2:    \n",
    "        if x == y:    \n",
    "            print(\"The common element is:\",x)    "
   ]
  },
  {
   "cell_type": "code",
   "execution_count": null,
   "id": "e94394e8",
   "metadata": {},
   "outputs": [],
   "source": []
  }
 ],
 "metadata": {
  "kernelspec": {
   "display_name": "Python 3 (ipykernel)",
   "language": "python",
   "name": "python3"
  },
  "language_info": {
   "codemirror_mode": {
    "name": "ipython",
    "version": 3
   },
   "file_extension": ".py",
   "mimetype": "text/x-python",
   "name": "python",
   "nbconvert_exporter": "python",
   "pygments_lexer": "ipython3",
   "version": "3.9.13"
  }
 },
 "nbformat": 4,
 "nbformat_minor": 5
}
