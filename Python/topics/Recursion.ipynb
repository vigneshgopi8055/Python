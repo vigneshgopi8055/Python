{
 "cells": [
  {
   "cell_type": "markdown",
   "id": "c7f738b4",
   "metadata": {},
   "source": [
    "# Recursion"
   ]
  },
  {
   "cell_type": "markdown",
   "id": "35635923",
   "metadata": {},
   "source": [
    "The term Recursion can be defined as the process of defining something in terms of itself. In simple words, it is a process in which a function calls itself directly or indirectly. "
   ]
  },
  {
   "cell_type": "markdown",
   "id": "eab3a983",
   "metadata": {},
   "source": [
    "Advantages of using recursion\n",
    "\n",
    "+ A complicated function can be split down into smaller sub-problems utilizing recursion.\n",
    "+ Sequence creation is simpler through recursion than utilizing any nested iteration.\n",
    "+ Recursive functions render the code look simple and effective."
   ]
  },
  {
   "cell_type": "markdown",
   "id": "5c1b79b3",
   "metadata": {},
   "source": [
    "Disadvantages of using recursion\n",
    "\n",
    "\n",
    "+ A lot of memory and time is taken through recursive calls which makes it expensive for use.\n",
    "+ Recursive functions are challenging to debug.\n",
    "+ The reasoning behind recursion can sometimes be tough to think through."
   ]
  },
  {
   "cell_type": "code",
   "execution_count": 1,
   "id": "c2bedc68",
   "metadata": {},
   "outputs": [],
   "source": [
    "import sys"
   ]
  },
  {
   "cell_type": "code",
   "execution_count": 2,
   "id": "d588fc28",
   "metadata": {},
   "outputs": [
    {
     "name": "stdout",
     "output_type": "stream",
     "text": [
      "3000\n"
     ]
    }
   ],
   "source": [
    "print(sys.getrecursionlimit())"
   ]
  },
  {
   "cell_type": "code",
   "execution_count": 3,
   "id": "08195614",
   "metadata": {},
   "outputs": [],
   "source": [
    "sys.setrecursionlimit(5000)"
   ]
  },
  {
   "cell_type": "code",
   "execution_count": 4,
   "id": "ac60a65b",
   "metadata": {},
   "outputs": [
    {
     "name": "stdout",
     "output_type": "stream",
     "text": [
      "5000\n"
     ]
    }
   ],
   "source": [
    "print(sys.getrecursionlimit())"
   ]
  },
  {
   "cell_type": "markdown",
   "id": "0cc84f08",
   "metadata": {},
   "source": [
    "# Factorial using recursion"
   ]
  },
  {
   "cell_type": "code",
   "execution_count": 5,
   "id": "f86fa8b6",
   "metadata": {},
   "outputs": [],
   "source": [
    "def fact(n):\n",
    "    if(n == 0):\n",
    "        return 1\n",
    "    return n*fact(n-1)"
   ]
  },
  {
   "cell_type": "code",
   "execution_count": 6,
   "id": "87072cce",
   "metadata": {},
   "outputs": [
    {
     "data": {
      "text/plain": [
       "120"
      ]
     },
     "execution_count": 6,
     "metadata": {},
     "output_type": "execute_result"
    }
   ],
   "source": [
    "fact(5)"
   ]
  },
  {
   "cell_type": "markdown",
   "id": "759976af",
   "metadata": {},
   "source": [
    "# Recursion function to print hello world 100 times"
   ]
  },
  {
   "cell_type": "code",
   "execution_count": 16,
   "id": "71e2b41a",
   "metadata": {},
   "outputs": [],
   "source": [
    "def helloworld(n):\n",
    "    if(n == 0):\n",
    "        return\n",
    "    print(\"hello\")\n",
    "    return helloworld(n-1)"
   ]
  },
  {
   "cell_type": "code",
   "execution_count": 17,
   "id": "4c395751",
   "metadata": {},
   "outputs": [
    {
     "name": "stdout",
     "output_type": "stream",
     "text": [
      "hello\n",
      "hello\n",
      "hello\n",
      "hello\n",
      "hello\n",
      "hello\n",
      "hello\n",
      "hello\n",
      "hello\n",
      "hello\n",
      "hello\n",
      "hello\n",
      "hello\n",
      "hello\n",
      "hello\n",
      "hello\n",
      "hello\n",
      "hello\n",
      "hello\n",
      "hello\n",
      "hello\n",
      "hello\n",
      "hello\n",
      "hello\n",
      "hello\n",
      "hello\n",
      "hello\n",
      "hello\n",
      "hello\n",
      "hello\n",
      "hello\n",
      "hello\n",
      "hello\n",
      "hello\n",
      "hello\n",
      "hello\n",
      "hello\n",
      "hello\n",
      "hello\n",
      "hello\n",
      "hello\n",
      "hello\n",
      "hello\n",
      "hello\n",
      "hello\n",
      "hello\n",
      "hello\n",
      "hello\n",
      "hello\n",
      "hello\n",
      "hello\n",
      "hello\n",
      "hello\n",
      "hello\n",
      "hello\n",
      "hello\n",
      "hello\n",
      "hello\n",
      "hello\n",
      "hello\n",
      "hello\n",
      "hello\n",
      "hello\n",
      "hello\n",
      "hello\n",
      "hello\n",
      "hello\n",
      "hello\n",
      "hello\n",
      "hello\n",
      "hello\n",
      "hello\n",
      "hello\n",
      "hello\n",
      "hello\n",
      "hello\n",
      "hello\n",
      "hello\n",
      "hello\n",
      "hello\n",
      "hello\n",
      "hello\n",
      "hello\n",
      "hello\n",
      "hello\n",
      "hello\n",
      "hello\n",
      "hello\n",
      "hello\n",
      "hello\n",
      "hello\n",
      "hello\n",
      "hello\n",
      "hello\n",
      "hello\n",
      "hello\n",
      "hello\n",
      "hello\n",
      "hello\n",
      "hello\n"
     ]
    }
   ],
   "source": [
    "helloworld(100)"
   ]
  },
  {
   "cell_type": "code",
   "execution_count": null,
   "id": "06404247",
   "metadata": {},
   "outputs": [],
   "source": []
  }
 ],
 "metadata": {
  "kernelspec": {
   "display_name": "Python 3 (ipykernel)",
   "language": "python",
   "name": "python3"
  },
  "language_info": {
   "codemirror_mode": {
    "name": "ipython",
    "version": 3
   },
   "file_extension": ".py",
   "mimetype": "text/x-python",
   "name": "python",
   "nbconvert_exporter": "python",
   "pygments_lexer": "ipython3",
   "version": "3.9.13"
  }
 },
 "nbformat": 4,
 "nbformat_minor": 5
}
