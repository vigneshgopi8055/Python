{
 "cells": [
  {
   "cell_type": "markdown",
   "id": "b30e23d6",
   "metadata": {},
   "source": [
    "# Python Functions"
   ]
  },
  {
   "cell_type": "markdown",
   "id": "a683f0e1",
   "metadata": {},
   "source": [
    "A collection of related assertions that carry out a mathematical, analytical, or evaluative operation is known as a function. An assortment of proclamations called Python Capabilities returns the specific errand. Python functions are necessary for intermediate-level programming and are easy to define. Function names meet the same standards as variable names do. The objective is to define a function and group-specific frequently performed actions. Instead of repeatedly creating the same code block for various input variables, we can call the function and reuse the code it contains with different variables."
   ]
  },
  {
   "cell_type": "markdown",
   "id": "571c1b1f",
   "metadata": {},
   "source": [
    "# Advantages of Python Functions"
   ]
  },
  {
   "cell_type": "markdown",
   "id": "d94075ab",
   "metadata": {},
   "source": [
    "+ Once defined, Python functions can be called multiple times and from any location in a program.\n",
    "+ Our Python program can be broken up into numerous, easy-to-follow functions + if it is significant.\n",
    "+ The ability to return as many outputs as we want using a variety of arguments is one of Python's most significant achievements.\n",
    "+ However, Python programs have always incurred overhead when calling functions."
   ]
  },
  {
   "cell_type": "code",
   "execution_count": 1,
   "id": "9795cb92",
   "metadata": {},
   "outputs": [],
   "source": [
    "def square(num):\n",
    "    return num*num"
   ]
  },
  {
   "cell_type": "code",
   "execution_count": 2,
   "id": "fe6cdcb0",
   "metadata": {},
   "outputs": [
    {
     "data": {
      "text/plain": [
       "36"
      ]
     },
     "execution_count": 2,
     "metadata": {},
     "output_type": "execute_result"
    }
   ],
   "source": [
    "square(6)"
   ]
  },
  {
   "cell_type": "markdown",
   "id": "955038d9",
   "metadata": {},
   "source": [
    "### Pass by value"
   ]
  },
  {
   "cell_type": "code",
   "execution_count": 3,
   "id": "095849bc",
   "metadata": {},
   "outputs": [
    {
     "data": {
      "text/plain": [
       "36"
      ]
     },
     "execution_count": 3,
     "metadata": {},
     "output_type": "execute_result"
    }
   ],
   "source": [
    "square(6)"
   ]
  },
  {
   "cell_type": "markdown",
   "id": "163d1f0d",
   "metadata": {},
   "source": [
    "### Pass by reference "
   ]
  },
  {
   "cell_type": "code",
   "execution_count": 4,
   "id": "29948a1c",
   "metadata": {},
   "outputs": [
    {
     "data": {
      "text/plain": [
       "625"
      ]
     },
     "execution_count": 4,
     "metadata": {},
     "output_type": "execute_result"
    }
   ],
   "source": [
    "number = 25\n",
    "square(number)"
   ]
  },
  {
   "cell_type": "code",
   "execution_count": 7,
   "id": "7dea0a19",
   "metadata": {},
   "outputs": [
    {
     "name": "stdout",
     "output_type": "stream",
     "text": [
      "[1, 4, 9, 16, 25, 36]\n"
     ]
    }
   ],
   "source": [
    "list1 = [1,2,3,4,5,6]\n",
    "list2 = []\n",
    "for i in list1:\n",
    "    list2.append(square(i))\n",
    "    \n",
    "print(list2)"
   ]
  },
  {
   "cell_type": "markdown",
   "id": "75478865",
   "metadata": {},
   "source": [
    "# Function Arguments\n",
    "The following are the types of arguments that we can use to call a function:\n",
    "\n",
    "+ Default arguments\n",
    "+ Keyword arguments\n",
    "+ Required arguments\n",
    "+ Variable-length arguments"
   ]
  },
  {
   "cell_type": "markdown",
   "id": "6e280c5a",
   "metadata": {},
   "source": [
    "# 1) Default Arguments\n",
    "A default contention is a boundary that takes as information a default esteem, assuming that no worth is provided for the contention when the capability is called. The following example demonstrates default arguments."
   ]
  },
  {
   "cell_type": "code",
   "execution_count": 8,
   "id": "0a002bfe",
   "metadata": {},
   "outputs": [
    {
     "data": {
      "text/plain": [
       "8"
      ]
     },
     "execution_count": 8,
     "metadata": {},
     "output_type": "execute_result"
    }
   ],
   "source": [
    "def add(n1,n2 = 3):\n",
    "    return n1+n2\n",
    "add(5)"
   ]
  },
  {
   "cell_type": "markdown",
   "id": "b3a99c44",
   "metadata": {},
   "source": [
    "# 2) Keyword Arguments\n",
    "Keyword arguments are linked to the arguments of a called function. While summoning a capability with watchword contentions, the client might tell whose boundary esteem it is by looking at the boundary name."
   ]
  },
  {
   "cell_type": "code",
   "execution_count": 9,
   "id": "a563feea",
   "metadata": {},
   "outputs": [
    {
     "data": {
      "text/plain": [
       "39"
      ]
     },
     "execution_count": 9,
     "metadata": {},
     "output_type": "execute_result"
    }
   ],
   "source": [
    "def add(a,b):\n",
    "    return a+b\n",
    "add(10,29)"
   ]
  },
  {
   "cell_type": "markdown",
   "id": "cf67634e",
   "metadata": {},
   "source": [
    "# 3) Required Arguments\n",
    "Required arguments are those supplied to a function during its call in a predetermined positional sequence. The number of arguments required in the method call must be the same as those provided in the function's definition.\n",
    "\n",
    "We should send two contentions to the capability() all put together; it will return a language structure blunder, as seen beneath."
   ]
  },
  {
   "cell_type": "code",
   "execution_count": 10,
   "id": "f7a0cacc",
   "metadata": {},
   "outputs": [
    {
     "name": "stdout",
     "output_type": "stream",
     "text": [
      "Passing out of order arguments\n",
      "number 1 is:  30\n",
      "number 2 is:  20\n",
      "Passing only one argument\n",
      "Function needs two positional arguments\n"
     ]
    }
   ],
   "source": [
    "def function( n1, n2 ):    \n",
    "    print(\"number 1 is: \", n1)    \n",
    "    print(\"number 2 is: \", n2)    \n",
    "    \n",
    "# Calling function and passing two arguments out of order, we need num1 to be 20 and num2 to be 30    \n",
    "print( \"Passing out of order arguments\" )    \n",
    "function( 30, 20 )       \n",
    "    \n",
    "# Calling function and passing only one argument    \n",
    "print( \"Passing only one argument\" )    \n",
    "try:    \n",
    "    function( 30 )    \n",
    "except:    \n",
    "    print( \"Function needs two positional arguments\" )  "
   ]
  },
  {
   "cell_type": "markdown",
   "id": "14b0c0e3",
   "metadata": {},
   "source": [
    "# 4) Variable-Length Arguments\n",
    "We can involve unique characters in Python capabilities to pass many contentions. However, we need a capability. This can be accomplished with one of two types of characters:\n",
    "\n",
    "\"args\" and \"kwargs\" refer to arguments not based on keywords."
   ]
  },
  {
   "cell_type": "code",
   "execution_count": 11,
   "id": "52ca20e3",
   "metadata": {},
   "outputs": [
    {
     "name": "stdout",
     "output_type": "stream",
     "text": [
      "['PYTHON', 'FUNCTIONS', 'TUTORIAL']\n",
      "[['First', 'Python'], ['Second', 'Functions'], ['Third', 'Tutorial']]\n"
     ]
    }
   ],
   "source": [
    "def function( *args_list ):    \n",
    "    ans = []    \n",
    "    for l in args_list:    \n",
    "        ans.append( l.upper() )    \n",
    "    return ans    \n",
    "# Passing args arguments    \n",
    "object = function('Python', 'Functions', 'tutorial')    \n",
    "print( object )    \n",
    "    \n",
    "# defining a function    \n",
    "def function( **kargs_list ):    \n",
    "    ans = []    \n",
    "    for key, value in kargs_list.items():    \n",
    "        ans.append([key, value])    \n",
    "    return ans    \n",
    "# Paasing kwargs arguments    \n",
    "object = function(First = \"Python\", Second = \"Functions\", Third = \"Tutorial\")    \n",
    "print(object)    "
   ]
  },
  {
   "cell_type": "code",
   "execution_count": 12,
   "id": "30bdd112",
   "metadata": {},
   "outputs": [
    {
     "name": "stdout",
     "output_type": "stream",
     "text": [
      "Python functions tutorial\n",
      "5\n"
     ]
    }
   ],
   "source": [
    "# defining a nested function    \n",
    "def word():    \n",
    "    string = 'Python functions tutorial'    \n",
    "    x = 5     \n",
    "    def number():    \n",
    "        print( string )   \n",
    "        print( x )  \n",
    "             \n",
    "    number()    \n",
    "word()    "
   ]
  },
  {
   "cell_type": "markdown",
   "id": "1c45d4cb",
   "metadata": {},
   "source": [
    "# Python Lambda Functions"
   ]
  },
  {
   "cell_type": "markdown",
   "id": "bcd99ea1",
   "metadata": {},
   "source": [
    "Lambda Functions in Python are anonymous functions, implying they don't have a name. The def keyword is needed to create a typical function in Python, as we already know. We can also use the lambda keyword in Python to define an unnamed function."
   ]
  },
  {
   "cell_type": "code",
   "execution_count": 13,
   "id": "3f1cd5a0",
   "metadata": {},
   "outputs": [
    {
     "name": "stdout",
     "output_type": "stream",
     "text": [
      "10\n"
     ]
    }
   ],
   "source": [
    "# Code to demonstrate how we can use a lambda function  \n",
    "add = lambda num: num + 4  \n",
    "print( add(6) )  "
   ]
  },
  {
   "cell_type": "code",
   "execution_count": 14,
   "id": "832e9170",
   "metadata": {},
   "outputs": [
    {
     "data": {
      "text/plain": [
       "36"
      ]
     },
     "execution_count": 14,
     "metadata": {},
     "output_type": "execute_result"
    }
   ],
   "source": [
    "square = lambda num:num*num\n",
    "square(6)"
   ]
  },
  {
   "cell_type": "code",
   "execution_count": 15,
   "id": "18814800",
   "metadata": {},
   "outputs": [
    {
     "name": "stdout",
     "output_type": "stream",
     "text": [
      "Def keyword:  0.16666666666666666\n",
      "Lambda keyword:  0.16666666666666666\n"
     ]
    }
   ],
   "source": [
    "def reciprocal( num ):  \n",
    "    return 1 / num  \n",
    "   \n",
    "lambda_reciprocal = lambda num: 1 / num  \n",
    "   \n",
    "# using the function defined by def keyword  \n",
    "print( \"Def keyword: \", reciprocal(6) )  \n",
    "   \n",
    "# using the function defined by lambda keyword  \n",
    "print( \"Lambda keyword: \", lambda_reciprocal(6) )  "
   ]
  },
  {
   "cell_type": "code",
   "execution_count": 1,
   "id": "3902eaaa",
   "metadata": {},
   "outputs": [],
   "source": [
    "f = lambda a : a*a\n",
    "result = f(5)"
   ]
  },
  {
   "cell_type": "code",
   "execution_count": 2,
   "id": "0d4e9b4b",
   "metadata": {},
   "outputs": [
    {
     "data": {
      "text/plain": [
       "25"
      ]
     },
     "execution_count": 2,
     "metadata": {},
     "output_type": "execute_result"
    }
   ],
   "source": [
    "result"
   ]
  },
  {
   "cell_type": "code",
   "execution_count": 3,
   "id": "7cec5a5e",
   "metadata": {},
   "outputs": [],
   "source": [
    "f = lambda z : z/3"
   ]
  },
  {
   "cell_type": "code",
   "execution_count": 4,
   "id": "af2d0f92",
   "metadata": {},
   "outputs": [
    {
     "data": {
      "text/plain": [
       "1.3333333333333333"
      ]
     },
     "execution_count": 4,
     "metadata": {},
     "output_type": "execute_result"
    }
   ],
   "source": [
    "f(4)"
   ]
  },
  {
   "cell_type": "code",
   "execution_count": 5,
   "id": "a324676e",
   "metadata": {},
   "outputs": [],
   "source": [
    "f = lambda a,b : a+b"
   ]
  },
  {
   "cell_type": "code",
   "execution_count": 6,
   "id": "f0cbdb9a",
   "metadata": {},
   "outputs": [
    {
     "data": {
      "text/plain": [
       "7"
      ]
     },
     "execution_count": 6,
     "metadata": {},
     "output_type": "execute_result"
    }
   ],
   "source": [
    "f(3,4)"
   ]
  },
  {
   "cell_type": "markdown",
   "id": "4a25f3ba",
   "metadata": {},
   "source": [
    "# special variable \"__name__\""
   ]
  },
  {
   "cell_type": "markdown",
   "id": "de04aeea",
   "metadata": {},
   "source": [
    "+ when the special variable __name__ is called in the same module it returns __main__\n",
    "+ when it is called in another in another module with an imported module it returns the name of the imported module"
   ]
  },
  {
   "cell_type": "code",
   "execution_count": 8,
   "id": "1f788c6c",
   "metadata": {},
   "outputs": [
    {
     "ename": "ModuleNotFoundError",
     "evalue": "No module named 'demo'",
     "output_type": "error",
     "traceback": [
      "\u001b[1;31m---------------------------------------------------------------------------\u001b[0m",
      "\u001b[1;31mModuleNotFoundError\u001b[0m                       Traceback (most recent call last)",
      "\u001b[1;32m~\\AppData\\Local\\Temp\\ipykernel_12984\\1842912209.py\u001b[0m in \u001b[0;36m<module>\u001b[1;34m\u001b[0m\n\u001b[1;32m----> 1\u001b[1;33m \u001b[1;32mimport\u001b[0m \u001b[0mdemo\u001b[0m\u001b[1;33m\u001b[0m\u001b[1;33m\u001b[0m\u001b[0m\n\u001b[0m\u001b[0;32m      2\u001b[0m \u001b[0mprint\u001b[0m\u001b[1;33m(\u001b[0m\u001b[0m__name__\u001b[0m\u001b[1;33m)\u001b[0m\u001b[1;33m\u001b[0m\u001b[1;33m\u001b[0m\u001b[0m\n",
      "\u001b[1;31mModuleNotFoundError\u001b[0m: No module named 'demo'"
     ]
    }
   ],
   "source": [
    "import demo\n",
    "print(__name__)"
   ]
  },
  {
   "cell_type": "code",
   "execution_count": null,
   "id": "8d3ea95d",
   "metadata": {},
   "outputs": [],
   "source": []
  }
 ],
 "metadata": {
  "kernelspec": {
   "display_name": "Python 3 (ipykernel)",
   "language": "python",
   "name": "python3"
  },
  "language_info": {
   "codemirror_mode": {
    "name": "ipython",
    "version": 3
   },
   "file_extension": ".py",
   "mimetype": "text/x-python",
   "name": "python",
   "nbconvert_exporter": "python",
   "pygments_lexer": "ipython3",
   "version": "3.9.13"
  }
 },
 "nbformat": 4,
 "nbformat_minor": 5
}
