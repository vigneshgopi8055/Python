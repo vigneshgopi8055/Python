{
 "cells": [
  {
   "cell_type": "markdown",
   "id": "b7240367",
   "metadata": {},
   "source": [
    "# Python Dictionary\n",
    "Dictionaries are a useful data structure for storing data in Python because they are capable of imitating real-world data arrangements where a certain value exists for a given key.\n",
    "\n",
    "The data is stored as key-value pairs using a Python dictionary.\n",
    "\n",
    "This data structure is mutable\n",
    "The components of dictionary were made using keys and values.\n",
    "Keys must only have one component.\n",
    "Values can be of any type, including integer, list, and tuple.\n",
    "A dictionary is, in other words, a group of key-value pairs, where the values can be any Python object. The keys, in contrast, are immutable Python objects, such as strings, tuples, or numbers. Dictionary entries are ordered as of Python version 3.7. In Python 3.6 and before, dictionaries are generally unordered."
   ]
  },
  {
   "cell_type": "code",
   "execution_count": 1,
   "id": "ff494360",
   "metadata": {},
   "outputs": [],
   "source": [
    "Dict = {\"Name\": \"Gayle\", \"Age\": 25}   "
   ]
  },
  {
   "cell_type": "code",
   "execution_count": 2,
   "id": "08df7c08",
   "metadata": {},
   "outputs": [
    {
     "data": {
      "text/plain": [
       "dict"
      ]
     },
     "execution_count": 2,
     "metadata": {},
     "output_type": "execute_result"
    }
   ],
   "source": [
    "dict"
   ]
  },
  {
   "cell_type": "code",
   "execution_count": 3,
   "id": "9dd75566",
   "metadata": {},
   "outputs": [
    {
     "data": {
      "text/plain": [
       "{'Name': 'Gayle', 'Age': 25}"
      ]
     },
     "execution_count": 3,
     "metadata": {},
     "output_type": "execute_result"
    }
   ],
   "source": [
    "Dict"
   ]
  },
  {
   "cell_type": "code",
   "execution_count": 4,
   "id": "5616f6df",
   "metadata": {},
   "outputs": [
    {
     "name": "stdout",
     "output_type": "stream",
     "text": [
      "<class 'dict'>\n",
      "printing Employee data .... \n",
      "{'Name': 'Johnny', 'Age': 32, 'salary': 26000, 'Company': '^TCS'}\n"
     ]
    }
   ],
   "source": [
    "Employee = {\"Name\": \"Johnny\", \"Age\": 32, \"salary\":26000,\"Company\":\"^TCS\"}        \n",
    "print(type(Employee))        \n",
    "print(\"printing Employee data .... \")        \n",
    "print(Employee) "
   ]
  },
  {
   "cell_type": "code",
   "execution_count": 6,
   "id": "19cb486f",
   "metadata": {},
   "outputs": [
    {
     "name": "stdout",
     "output_type": "stream",
     "text": [
      "Empty Dictionary: \n",
      "{}\n",
      "\n",
      "Create Dictionary by using  dict(): \n",
      "{1: 'Hcl', 2: 'WIPRO', 3: 'Facebook'}\n",
      "\n",
      "Dictionary with each item as a pair: \n",
      "{4: 'Rinku', 2: 'Singh'}\n"
     ]
    }
   ],
   "source": [
    "Dict = {}       \n",
    "print(\"Empty Dictionary: \")       \n",
    "print(Dict)       \n",
    "      \n",
    "# Creating a Dictionary       \n",
    "# with dict() method       \n",
    "Dict = dict({1: 'Hcl', 2: 'WIPRO', 3:'Facebook'})       \n",
    "print(\"\\nCreate Dictionary by using  dict(): \")       \n",
    "print(Dict)       \n",
    "      \n",
    "# Creating a Dictionary       \n",
    "# with each item as a Pair       \n",
    "Dict = dict([(4, 'Rinku'), (2, 'Singh')])       \n",
    "print(\"\\nDictionary with each item as a pair: \")       \n",
    "print(Dict)       "
   ]
  },
  {
   "cell_type": "code",
   "execution_count": 7,
   "id": "d23af202",
   "metadata": {},
   "outputs": [
    {
     "name": "stdout",
     "output_type": "stream",
     "text": [
      "<class 'dict'>\n",
      "printing Employee data .... \n",
      "Name : Dev\n",
      "Age : 20\n",
      "Salary : 45000\n",
      "Company : WIPRO\n"
     ]
    }
   ],
   "source": [
    "Employee = {\"Name\": \"Dev\", \"Age\": 20, \"salary\":45000,\"Company\":\"WIPRO\"}      \n",
    "print(type(Employee))      \n",
    "print(\"printing Employee data .... \")      \n",
    "print(\"Name : %s\" %Employee[\"Name\"])      \n",
    "print(\"Age : %d\" %Employee[\"Age\"])      \n",
    "print(\"Salary : %d\" %Employee[\"salary\"])      \n",
    "print(\"Company : %s\" %Employee[\"Company\"])    "
   ]
  },
  {
   "cell_type": "markdown",
   "id": "e576beb9",
   "metadata": {},
   "source": [
    "# Built-in Dictionary Functions"
   ]
  },
  {
   "cell_type": "markdown",
   "id": "f673360d",
   "metadata": {},
   "source": [
    "+ len()\n",
    "The dictionary's length is returned via the len() function in Python. The string is lengthened by one for each key-value pair."
   ]
  },
  {
   "cell_type": "markdown",
   "id": "9c2ed553",
   "metadata": {},
   "source": [
    "+ any()\n",
    "Like how it does with lists and tuples, the any() method returns True indeed if one dictionary key does have a Boolean expression that evaluates to True."
   ]
  },
  {
   "cell_type": "code",
   "execution_count": 8,
   "id": "b8479164",
   "metadata": {},
   "outputs": [
    {
     "data": {
      "text/plain": [
       "True"
      ]
     },
     "execution_count": 8,
     "metadata": {},
     "output_type": "execute_result"
    }
   ],
   "source": [
    "dict = {1: \"Ayan\", 2: \"Bunny\", 3: \"Ram\", 4: \"Bheem\"}  \n",
    "any({'':'','':'','3':''})  "
   ]
  },
  {
   "cell_type": "code",
   "execution_count": null,
   "id": "b3aee1b1",
   "metadata": {},
   "outputs": [],
   "source": []
  }
 ],
 "metadata": {
  "kernelspec": {
   "display_name": "Python 3 (ipykernel)",
   "language": "python",
   "name": "python3"
  },
  "language_info": {
   "codemirror_mode": {
    "name": "ipython",
    "version": 3
   },
   "file_extension": ".py",
   "mimetype": "text/x-python",
   "name": "python",
   "nbconvert_exporter": "python",
   "pygments_lexer": "ipython3",
   "version": "3.9.13"
  }
 },
 "nbformat": 4,
 "nbformat_minor": 5
}
