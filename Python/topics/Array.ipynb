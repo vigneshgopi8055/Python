{
 "cells": [
  {
   "cell_type": "code",
   "execution_count": 16,
   "id": "92262e7b",
   "metadata": {},
   "outputs": [
    {
     "name": "stdout",
     "output_type": "stream",
     "text": [
      "12 2 13 90 1 23 67 "
     ]
    }
   ],
   "source": [
    "from array import *\n",
    "a = array('i',[12,2,13,90,1,23,67])\n",
    "for i in range(len(a)):\n",
    "    print(a[i],end=\" \")\n"
   ]
  },
  {
   "cell_type": "code",
   "execution_count": 19,
   "id": "e3c76742",
   "metadata": {},
   "outputs": [
    {
     "name": "stdout",
     "output_type": "stream",
     "text": [
      "Elements of original array: \n",
      "5 2 8 7 1 \n",
      "Elements of array sorted in ascending order: \n",
      "1 2 5 7 8 "
     ]
    }
   ],
   "source": [
    "arr = [5, 2, 8, 7, 1];     \n",
    "temp = 0;    \n",
    "     \n",
    "#Displaying elements of original array    \n",
    "print(\"Elements of original array: \");    \n",
    "for i in range(0, len(arr)):    \n",
    "    print(arr[i], end=\" \");    \n",
    "     \n",
    "#Sort the array in ascending order    \n",
    "for i in range(0, len(arr)):    \n",
    "    for j in range(i+1, len(arr)):    \n",
    "        if(arr[i] > arr[j]):    \n",
    "            temp = arr[i];    \n",
    "            arr[i] = arr[j];    \n",
    "            arr[j] = temp;    \n",
    "     \n",
    "print();    \n",
    "     \n",
    "#Displaying elements of the array after sorting    \n",
    "    \n",
    "print(\"Elements of array sorted in ascending order: \");    \n",
    "for i in range(0, len(arr)):    \n",
    "    print(arr[i], end=\" \");       \n",
    "    "
   ]
  },
  {
   "cell_type": "code",
   "execution_count": 20,
   "id": "95b9d89d",
   "metadata": {},
   "outputs": [],
   "source": [
    "from array import *"
   ]
  },
  {
   "cell_type": "code",
   "execution_count": 21,
   "id": "4e343370",
   "metadata": {},
   "outputs": [
    {
     "name": "stdout",
     "output_type": "stream",
     "text": [
      "enter the length of array5\n",
      "enter the value1\n",
      "enter the value2\n",
      "enter the value3\n",
      "enter the value4\n",
      "enter the value5\n",
      "array('i', [1, 2, 3, 4, 5])\n"
     ]
    }
   ],
   "source": [
    "a = array('i',[])\n",
    "n = int(input(\"enter the length of array\"))\n",
    "for i in range(n):\n",
    "    x = int(input(\"enter the value\"))\n",
    "    a.append(x)\n",
    "print(a)"
   ]
  },
  {
   "cell_type": "code",
   "execution_count": 32,
   "id": "e3ce8c25",
   "metadata": {},
   "outputs": [
    {
     "name": "stdout",
     "output_type": "stream",
     "text": [
      "array('i', [2, 56, 27, 99, 40, 50])\n",
      "array('i', [56, 27, 99, 40, 50])\n",
      "enter the value40\n",
      "3\n",
      "3\n"
     ]
    }
   ],
   "source": [
    "arr = array('i',[2,56,27,40,50])\n",
    "arr.insert(3,99)\n",
    "print(arr)\n",
    "arr.remove(2)\n",
    "print(arr)\n",
    "x = int(input(\"enter the value\"))\n",
    "print(arr.index(x))\n",
    "for i in range(len(arr)):\n",
    "    if arr[i]==x:\n",
    "        print(i)\n",
    "        break\n",
    "else:\n",
    "    print(\"not found\")\n"
   ]
  },
  {
   "cell_type": "code",
   "execution_count": null,
   "id": "6f5c0bf3",
   "metadata": {},
   "outputs": [],
   "source": []
  }
 ],
 "metadata": {
  "kernelspec": {
   "display_name": "Python 3 (ipykernel)",
   "language": "python",
   "name": "python3"
  },
  "language_info": {
   "codemirror_mode": {
    "name": "ipython",
    "version": 3
   },
   "file_extension": ".py",
   "mimetype": "text/x-python",
   "name": "python",
   "nbconvert_exporter": "python",
   "pygments_lexer": "ipython3",
   "version": "3.9.13"
  }
 },
 "nbformat": 4,
 "nbformat_minor": 5
}
