{
 "cells": [
  {
   "cell_type": "markdown",
   "id": "da236d05",
   "metadata": {},
   "source": [
    "# Python String\n",
    "+ Till now, we have discussed numbers as the standard data-types in Python. In this section of the tutorial, we will discuss the most popular data type in Python, i.e., string.\n",
    "\n",
    "+ Python string is the collection of the characters surrounded by single quotes, double quotes, or triple quotes. The computer does not understand the characters; internally, it stores manipulated character as the combination of the 0's and 1's.\n",
    "\n",
    "+ Each character is encoded in the ASCII or Unicode character. So we can say that Python strings are also called the collection of Unicode characters.\n",
    "\n",
    "+ In Python, strings can be created by enclosing the character or the sequence of characters in the quotes. Python allows us to use single quotes, double quotes, or triple quotes to create the string.\n"
   ]
  },
  {
   "cell_type": "code",
   "execution_count": 1,
   "id": "4e1e85ae",
   "metadata": {},
   "outputs": [],
   "source": [
    "str1 = \"hello python\""
   ]
  },
  {
   "cell_type": "code",
   "execution_count": 2,
   "id": "3defa35a",
   "metadata": {},
   "outputs": [
    {
     "data": {
      "text/plain": [
       "'hello python'"
      ]
     },
     "execution_count": 2,
     "metadata": {},
     "output_type": "execute_result"
    }
   ],
   "source": [
    "str1"
   ]
  },
  {
   "cell_type": "code",
   "execution_count": 3,
   "id": "afb5f44e",
   "metadata": {},
   "outputs": [
    {
     "data": {
      "text/plain": [
       "str"
      ]
     },
     "execution_count": 3,
     "metadata": {},
     "output_type": "execute_result"
    }
   ],
   "source": [
    "type(str1)"
   ]
  },
  {
   "cell_type": "code",
   "execution_count": 4,
   "id": "82761adc",
   "metadata": {},
   "outputs": [
    {
     "name": "stdout",
     "output_type": "stream",
     "text": [
      "Hello Python\n",
      "Hello Python\n",
      "''Triple quotes are generally used for  \n",
      "    represent the multiline or \n",
      "    docstring\n"
     ]
    }
   ],
   "source": [
    "#Using single quotes  \n",
    "str1 = 'Hello Python'  \n",
    "print(str1)  \n",
    "#Using double quotes  \n",
    "str2 = \"Hello Python\"  \n",
    "print(str2)  \n",
    "  \n",
    "#Using triple quotes  \n",
    "str3 = '''''Triple quotes are generally used for  \n",
    "    represent the multiline or \n",
    "    docstring'''   \n",
    "print(str3)  "
   ]
  },
  {
   "cell_type": "code",
   "execution_count": 8,
   "id": "c30d0f5e",
   "metadata": {},
   "outputs": [
    {
     "name": "stdout",
     "output_type": "stream",
     "text": [
      "E\n",
      "L\n",
      "L\n",
      "O\n"
     ]
    }
   ],
   "source": [
    "str1 = 'HELLO'\n",
    "print(str1[1])\n",
    "print(str1[2])\n",
    "print(str1[3])\n",
    "print(str1[4])"
   ]
  },
  {
   "cell_type": "code",
   "execution_count": 12,
   "id": "81d2eeb6",
   "metadata": {},
   "outputs": [
    {
     "name": "stdout",
     "output_type": "stream",
     "text": [
      "JAVATPOINT\n",
      "AVAT\n",
      "VA\n",
      "JAV\n",
      "TPO\n",
      "T\n",
      "I\n",
      "NT\n",
      "OIN\n",
      "ATPOI\n",
      "TNIOPTAVAJ\n",
      "J\n"
     ]
    }
   ],
   "source": [
    "# Given String  \n",
    "str = \"JAVATPOINT\"  \n",
    "# Start Oth index to end  \n",
    "print(str[0:])  \n",
    "# Starts 1th index to 4th index  \n",
    "print(str[1:5])  \n",
    "# Starts 2nd index to 3rd index  \n",
    "print(str[2:4])  \n",
    "# Starts 0th to 2nd index  \n",
    "print(str[:3])  \n",
    "#Starts 4th to 6th index  \n",
    "print(str[4:7])  \n",
    "print(str[-1])  \n",
    "print(str[-3])  \n",
    "print(str[-2:])  \n",
    "print(str[-4:-1])  \n",
    "print(str[-7:-2])  \n",
    "# Reversing the given string  \n",
    "print(str[::-1])  \n",
    "print(str[-10])  "
   ]
  },
  {
   "cell_type": "markdown",
   "id": "ea6c9d80",
   "metadata": {},
   "source": [
    "# String Operators"
   ]
  },
  {
   "cell_type": "markdown",
   "id": "dcaaaa91",
   "metadata": {},
   "source": [
    "+ '+'\tIt is known as concatenation operator used to join the strings given either side of the operator.\n",
    "+ '*'\tIt is known as repetition operator. It concatenates the multiple copies of the same string.+ + \n",
    "+ []\tIt is known as slice operator. It is used to access the sub-strings of a particular string.\n",
    "+ [:]\tIt is known as range slice operator. It is used to access the characters from the specified range.\n",
    "+ in\tIt is known as membership operator. It returns if a particular sub-string is present in the specified string.\n",
    "+ not in\tIt is also a membership operator and does the exact reverse of in. It returns true if a particular substring is not present in the specified string.\n",
    "+ r/R\tIt is used to specify the raw string. Raw strings are used in the cases where we need to print the actual meaning of escape characters such as \"C://python\". To define any string as a raw string, the character r or R is followed by the string.\n",
    "+ %\tIt is used to perform string formatting. It makes use of the format specifiers used in C programming like %d or %f to map their values in python. We will discuss how formatting is done in python.\n"
   ]
  },
  {
   "cell_type": "code",
   "execution_count": 14,
   "id": "b8cd21cd",
   "metadata": {},
   "outputs": [
    {
     "name": "stdout",
     "output_type": "stream",
     "text": [
      "HelloHelloHello\n",
      "Hello world\n",
      "o\n",
      "ll\n",
      "False\n",
      "False\n",
      "C://python37\n",
      "The string str : Hello\n",
      "olleH\n"
     ]
    }
   ],
   "source": [
    "str = \"Hello\"     \n",
    "str1 = \" world\"    \n",
    "print(str*3) # prints HelloHelloHello    \n",
    "print(str+str1)# prints Hello world     \n",
    "print(str[4]) # prints o                \n",
    "print(str[2:4]); # prints ll                    \n",
    "print('w' in str) # prints false as w is not present in str    \n",
    "print('wo' not in str1) # prints false as wo is present in str1.     \n",
    "print(r'C://python37') # prints C://python37 as it is written    \n",
    "print(\"The string str : %s\"%(str)) # prints The string str : Hello\n",
    "print(str[::-1])"
   ]
  },
  {
   "cell_type": "code",
   "execution_count": 15,
   "id": "850c5df2",
   "metadata": {},
   "outputs": [
    {
     "name": "stdout",
     "output_type": "stream",
     "text": [
      "''They said, \"What's there?\"\n",
      "They said, \"What's going on?\"\n",
      "They said, \"What's going on?\"\n"
     ]
    }
   ],
   "source": [
    "# using triple quotes  \n",
    "print('''''They said, \"What's there?\"''')  \n",
    "  \n",
    "# escaping single quotes  \n",
    "print('They said, \"What\\'s going on?\"')  \n",
    "  \n",
    "# escaping double quotes  \n",
    "print(\"They said, \\\"What's going on?\\\"\")  "
   ]
  },
  {
   "cell_type": "markdown",
   "id": "f913ac4a",
   "metadata": {},
   "source": [
    "# The format() method\n",
    "The format() method is the most flexible and useful method in formatting strings. The curly braces {} are used as the placeholder in the string and replaced by the format() method argument."
   ]
  },
  {
   "cell_type": "code",
   "execution_count": 16,
   "id": "c7c0e611",
   "metadata": {},
   "outputs": [
    {
     "name": "stdout",
     "output_type": "stream",
     "text": [
      "Devansh and Abhishek both are the best friend\n",
      "Rohit and Virat best players \n",
      "James,Peter,Ricky\n"
     ]
    }
   ],
   "source": [
    "# Using Curly braces  \n",
    "print(\"{} and {} both are the best friend\".format(\"Devansh\",\"Abhishek\"))  \n",
    "  \n",
    "#Positional Argument  \n",
    "print(\"{1} and {0} best players \".format(\"Virat\",\"Rohit\"))  \n",
    "  \n",
    "#Keyword Argument  \n",
    "print(\"{a},{b},{c}\".format(a = \"James\", b = \"Peter\", c = \"Ricky\"))  "
   ]
  },
  {
   "cell_type": "markdown",
   "id": "b66e0169",
   "metadata": {},
   "source": [
    "# Python String Formatting Using % Operator\n",
    "Python allows us to use the format specifiers used in C's printf statement. The format specifiers in Python are treated in the same way as they are treated in C. However, Python provides an additional operator %, which is used as an interface between the format specifiers and their values. In other words, we can say that it binds the format specifiers to the values.\n",
    "\n",
    "+ int - %d\n",
    "+ float = %f\n",
    "+ string = % s"
   ]
  },
  {
   "cell_type": "code",
   "execution_count": 17,
   "id": "9667c38a",
   "metadata": {},
   "outputs": [
    {
     "name": "stdout",
     "output_type": "stream",
     "text": [
      "Hi I am Integer ... My value is 10\n",
      "Hi I am float ... My value is 1.290000\n",
      "Hi I am string ... My value is Devansh\n"
     ]
    }
   ],
   "source": [
    "Integer = 10;    \n",
    "Float = 1.290    \n",
    "String = \"Devansh\"    \n",
    "print(\"Hi I am Integer ... My value is %d\\nHi I am float ... My value is %f\\nHi I am string ... My value is %s\"%(Integer,Float,String))    "
   ]
  },
  {
   "cell_type": "markdown",
   "id": "4a4c8a5b",
   "metadata": {},
   "source": [
    "# Python String functions"
   ]
  },
  {
   "cell_type": "markdown",
   "id": "89f71754",
   "metadata": {},
   "source": [
    "Method\tDescription\n",
    "+ capitalize()\tIt capitalizes the first character of the String. This function is deprecated in python3\n",
    "+ casefold()\tIt returns a version of s suitable for case-less comparisons.\n",
    "+ center(width ,fillchar)\tIt returns a space padded string with the original string centred with equal number of left and right spaces.\n",
    "+ count(string,begin,end)\tIt counts the number of occurrences of a substring in a String between begin and end index.\n",
    "+ decode(encoding = 'UTF8', errors = 'strict')\tDecodes the string using codec registered for encoding.\n",
    "+ encode()\tEncode S using the codec registered for encoding. Default encoding is 'utf-8'.\n",
    "+ endswith(suffix ,begin=0,end=len(string))\tIt returns a Boolean value if the string terminates with given suffix between begin and end.\n",
    "+ expandtabs(tabsize = 8)\tIt defines tabs in string to multiple spaces. The default space value is 8.\n",
    "+ find(substring ,beginIndex, endIndex)\tIt returns the index value of the string where substring is found between begin index and end index.\n",
    "+ format(value)\tIt returns a formatted version of S, using the passed value.\n",
    "+ index(subsring, beginIndex, endIndex)\tIt throws an exception if string is not found. It works same as find() method.\n",
    "+ isalnum()\tIt returns true if the characters in the string are alphanumeric i.e., alphabets or numbers and there is at least 1 character. Otherwise, it returns false.\n",
    "+ isalpha()\tIt returns true if all the characters are alphabets and there is at least one character, otherwise False.\n",
    "+ isdecimal()\tIt returns true if all the characters of the string are decimals.\n",
    "+ isdigit()\tIt returns true if all the characters are digits and there is at least one character, otherwise False.\n",
    "+ isidentifier()\tIt returns true if the string is the valid identifier.\n",
    "+ islower()\tIt returns true if the characters of a string are in lower case, otherwise false.\n",
    "+ isnumeric()\tIt returns true if the string contains only numeric characters.\n",
    "+ isprintable()\tIt returns true if all the characters of s are printable or s is empty, false otherwise.\n",
    "+ isupper()\tIt returns false if characters of a string are in Upper case, otherwise False.\n",
    "+ isspace()\tIt returns true if the characters of a string are white-space, otherwise false.\n",
    "+ istitle()\tIt returns true if the string is titled properly and false otherwise. A title string is the one in which the first character is upper-case whereas the other characters are lower-case.\n",
    "+ isupper()\tIt returns true if all the characters of the string(if exists) is true otherwise it returns false.\n",
    "+ join(seq)\tIt merges the strings representation of the given sequence.\n",
    "+ len(string)\tIt returns the length of a string.\n",
    "+ ljust(width[,fillchar])\tIt returns the space padded strings with the original string left justified to the given width.\n",
    "+ lower()\tIt converts all the characters of a string to Lower case.\n",
    "+ lstrip()\tIt removes all leading whitespaces of a string and can also be used to remove particular character from leading.\n",
    "+ partition()\tIt searches for the separator sep in S, and returns the part before it, the separator itself, and the part after it. If the separator is not found, return S and two empty strings.\n",
    "+ maketrans()\tIt returns a translation table to be used in translate function.\n",
    "+ replace(old,new[,count])\tIt replaces the old sequence of characters with the new sequence. The max characters are replaced if max is given.\n",
    "+ rfind(str,beg=0,end=len(str))\tIt is similar to find but it traverses the string in backward direction.\n",
    "+ rindex(str,beg=0,end=len(str))\tIt is same as index but it traverses the string in backward direction.\n",
    "+ rjust(width,[,fillchar])\tReturns a space padded string having original string right justified to the number of characters specified.\n",
    "+ rstrip()\tIt removes all trailing whitespace of a string and can also be used to remove particular character from trailing.\n",
    "+ rsplit(sep=None, maxsplit = -1)\tIt is same as split() but it processes the string from the backward direction. It returns the list of words in the string. If Separator is not specified then the string splits according to the white-space.\n",
    "+ split(str,num=string.count(str))\tSplits the string according to the delimiter str. The string splits according to the space if the delimiter is not provided. It returns the list of substring concatenated with the delimiter.\n",
    "+ splitlines(num=string.count('\\n'))\tIt returns the list of strings at each line with newline removed.\n",
    "+ startswith(str,beg=0,end=len(str))\tIt returns a Boolean value if the string starts with given str between begin and end.\n",
    "+ strip([chars])\tIt is used to perform lstrip() and rstrip() on the string.\n",
    "+ swapcase()\tIt inverts case of all characters in a string.\n",
    "+ title()\tIt is used to convert the string into the title-case i.e., The string meEruT will be converted to Meerut.\n",
    "+ translate(table,deletechars = '')\tIt translates the string according to the translation table passed in the function .\n",
    "+ upper()\tIt converts all the characters of a string to Upper Case.\n",
    "+ zfill(width)\tReturns original string leftpadded with zeros to a total of width characters; intended for numbers, zfill() +  + + retains any sign given (less one zero)."
   ]
  },
  {
   "cell_type": "code",
   "execution_count": null,
   "id": "816da643",
   "metadata": {},
   "outputs": [],
   "source": []
  }
 ],
 "metadata": {
  "kernelspec": {
   "display_name": "Python 3 (ipykernel)",
   "language": "python",
   "name": "python3"
  },
  "language_info": {
   "codemirror_mode": {
    "name": "ipython",
    "version": 3
   },
   "file_extension": ".py",
   "mimetype": "text/x-python",
   "name": "python",
   "nbconvert_exporter": "python",
   "pygments_lexer": "ipython3",
   "version": "3.9.13"
  }
 },
 "nbformat": 4,
 "nbformat_minor": 5
}
