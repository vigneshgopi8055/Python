{
 "cells": [
  {
   "cell_type": "markdown",
   "id": "4b8d8b27",
   "metadata": {},
   "source": [
    "# Python Set\n",
    "A Python set is the collection of the unordered items. Each element in the set must be unique, immutable, and the sets remove the duplicate elements. Sets are mutable which means we can modify it after its creation.\n",
    "\n",
    "Unlike other collections in Python, there is no index attached to the elements of the set, i.e., we cannot directly access any element of the set by the index. However, we can print them all together, or we can get the list of elements by looping through the set."
   ]
  },
  {
   "cell_type": "code",
   "execution_count": 1,
   "id": "bcc84ab0",
   "metadata": {},
   "outputs": [
    {
     "name": "stdout",
     "output_type": "stream",
     "text": [
      "{'Thursday', 'Friday', 'Sunday', 'Monday', 'Saturday', 'Wednesday', 'Tuesday'}\n",
      "<class 'set'>\n",
      "looping through the set elements ... \n",
      "Thursday\n",
      "Friday\n",
      "Sunday\n",
      "Monday\n",
      "Saturday\n",
      "Wednesday\n",
      "Tuesday\n"
     ]
    }
   ],
   "source": [
    "Days = {\"Monday\", \"Tuesday\", \"Wednesday\", \"Thursday\", \"Friday\", \"Saturday\", \"Sunday\"}    \n",
    "print(Days)    \n",
    "print(type(Days))    \n",
    "print(\"looping through the set elements ... \")    \n",
    "for i in Days:    \n",
    "    print(i)   "
   ]
  },
  {
   "cell_type": "code",
   "execution_count": 2,
   "id": "cffef53e",
   "metadata": {},
   "outputs": [
    {
     "name": "stdout",
     "output_type": "stream",
     "text": [
      "<class 'set'>\n"
     ]
    },
    {
     "ename": "TypeError",
     "evalue": "unhashable type: 'list'",
     "output_type": "error",
     "traceback": [
      "\u001b[1;31m---------------------------------------------------------------------------\u001b[0m",
      "\u001b[1;31mTypeError\u001b[0m                                 Traceback (most recent call last)",
      "\u001b[1;32m~\\AppData\\Local\\Temp\\ipykernel_17636\\3965475237.py\u001b[0m in \u001b[0;36m<module>\u001b[1;34m\u001b[0m\n\u001b[0;32m      3\u001b[0m \u001b[0mprint\u001b[0m\u001b[1;33m(\u001b[0m\u001b[0mtype\u001b[0m\u001b[1;33m(\u001b[0m\u001b[0mset1\u001b[0m\u001b[1;33m)\u001b[0m\u001b[1;33m)\u001b[0m\u001b[1;33m\u001b[0m\u001b[1;33m\u001b[0m\u001b[0m\n\u001b[0;32m      4\u001b[0m \u001b[1;31m#Creating a set which have mutable element\u001b[0m\u001b[1;33m\u001b[0m\u001b[1;33m\u001b[0m\u001b[0m\n\u001b[1;32m----> 5\u001b[1;33m \u001b[0mset2\u001b[0m \u001b[1;33m=\u001b[0m \u001b[1;33m{\u001b[0m\u001b[1;36m1\u001b[0m\u001b[1;33m,\u001b[0m\u001b[1;36m2\u001b[0m\u001b[1;33m,\u001b[0m\u001b[1;36m3\u001b[0m\u001b[1;33m,\u001b[0m\u001b[1;33m[\u001b[0m\u001b[1;34m\"Javatpoint\"\u001b[0m\u001b[1;33m,\u001b[0m\u001b[1;36m4\u001b[0m\u001b[1;33m]\u001b[0m\u001b[1;33m}\u001b[0m\u001b[1;33m\u001b[0m\u001b[1;33m\u001b[0m\u001b[0m\n\u001b[0m\u001b[0;32m      6\u001b[0m \u001b[0mprint\u001b[0m\u001b[1;33m(\u001b[0m\u001b[0mtype\u001b[0m\u001b[1;33m(\u001b[0m\u001b[0mset2\u001b[0m\u001b[1;33m)\u001b[0m\u001b[1;33m)\u001b[0m\u001b[1;33m\u001b[0m\u001b[1;33m\u001b[0m\u001b[0m\n",
      "\u001b[1;31mTypeError\u001b[0m: unhashable type: 'list'"
     ]
    }
   ],
   "source": [
    "# Creating a set which have immutable elements  \n",
    "set1 = {1,2,3, \"JavaTpoint\", 20.5, 14}  \n",
    "print(type(set1))  \n",
    "#Creating a set which have mutable element  \n",
    "set2 = {1,2,3,[\"Javatpoint\",4]}  \n",
    "print(type(set2))  "
   ]
  },
  {
   "cell_type": "code",
   "execution_count": 3,
   "id": "0f9d16ec",
   "metadata": {},
   "outputs": [
    {
     "name": "stdout",
     "output_type": "stream",
     "text": [
      "<class 'dict'>\n",
      "<class 'set'>\n"
     ]
    }
   ],
   "source": [
    "# Empty curly braces will create dictionary  \n",
    "set3 = {}  \n",
    "print(type(set3))  \n",
    "  \n",
    "# Empty set using set() function  \n",
    "set4 = set()  \n",
    "print(type(set4))  "
   ]
  },
  {
   "cell_type": "code",
   "execution_count": 5,
   "id": "f58730bc",
   "metadata": {},
   "outputs": [
    {
     "name": "stdout",
     "output_type": "stream",
     "text": [
      "Return set with unique elements: {80, 1, 2, 4, 5, 9, 10}\n"
     ]
    }
   ],
   "source": [
    "set5 = {1,2,4,4,5,80,9,9,10}  \n",
    "print(\"Return set with unique elements:\",set5)  "
   ]
  },
  {
   "cell_type": "markdown",
   "id": "4b76eae5",
   "metadata": {},
   "source": [
    "# Using remove() function "
   ]
  },
  {
   "cell_type": "code",
   "execution_count": 6,
   "id": "076deef0",
   "metadata": {},
   "outputs": [
    {
     "name": "stdout",
     "output_type": "stream",
     "text": [
      "\n",
      "printing the original set ... \n",
      "{'March', 'February', 'January', 'May', 'April', 'June'}\n",
      "\n",
      "Removing some months from the set...\n",
      "\n",
      "Printing the modified set...\n",
      "{'March', 'February', 'April', 'June'}\n"
     ]
    }
   ],
   "source": [
    "months = set([\"January\",\"February\", \"March\", \"April\", \"May\", \"June\"])    \n",
    "print(\"\\nprinting the original set ... \")    \n",
    "print(months)    \n",
    "print(\"\\nRemoving some months from the set...\");    \n",
    "months.remove(\"January\");    \n",
    "months.remove(\"May\");    \n",
    "print(\"\\nPrinting the modified set...\");    \n",
    "print(months)   "
   ]
  },
  {
   "cell_type": "markdown",
   "id": "deb861e9",
   "metadata": {},
   "source": [
    "# Using discard() method"
   ]
  },
  {
   "cell_type": "code",
   "execution_count": 7,
   "id": "12d2b87d",
   "metadata": {},
   "outputs": [
    {
     "name": "stdout",
     "output_type": "stream",
     "text": [
      "\n",
      "printing the original set ... \n",
      "{'March', 'February', 'January', 'May', 'April', 'June'}\n",
      "\n",
      "Removing some months from the set...\n",
      "\n",
      "Printing the modified set...\n",
      "{'March', 'February', 'April', 'June'}\n",
      "\n",
      "looping through the set elements ... \n",
      "March\n",
      "February\n",
      "April\n",
      "June\n"
     ]
    }
   ],
   "source": [
    "months = set([\"January\",\"February\", \"March\", \"April\", \"May\", \"June\"])    \n",
    "print(\"\\nprinting the original set ... \")    \n",
    "print(months)    \n",
    "print(\"\\nRemoving some months from the set...\");    \n",
    "months.discard(\"January\");    \n",
    "months.discard(\"May\");    \n",
    "print(\"\\nPrinting the modified set...\");    \n",
    "print(months)    \n",
    "print(\"\\nlooping through the set elements ... \")    \n",
    "for i in months:    \n",
    "    print(i)    "
   ]
  },
  {
   "cell_type": "markdown",
   "id": "d21f9f5b",
   "metadata": {},
   "source": [
    "# Difference between discard() and remove()\n",
    "Despite the fact that discard() and remove() method both perform the same task, There is one main difference between discard() and remove().\n",
    "\n",
    "+ If the key to be deleted from the set using discard() doesn't exist in the set, the Python will not give the error. The program maintains its control flow.\n",
    "\n",
    "+ On the other hand, if the item to be deleted from the set using remove() doesn't exist in the set, the Python will raise an error."
   ]
  },
  {
   "cell_type": "markdown",
   "id": "63769b6b",
   "metadata": {},
   "source": [
    "# Union of two Sets\n",
    "To combine two or more sets into one set in Python, use the union() function. All of the distinctive characteristics from each combined set are present in the final set. As parameters, one or more sets may be passed to the union() function. The function returns a copy of the set supplied as the lone parameter if there is just one set. The method returns a new set containing all the different items from all the arguments if more than one set is supplied as an argument."
   ]
  },
  {
   "cell_type": "code",
   "execution_count": 8,
   "id": "923cf0e1",
   "metadata": {},
   "outputs": [
    {
     "name": "stdout",
     "output_type": "stream",
     "text": [
      "{'Thursday', 'Sunday', 'Friday', 'Monday', 'Saturday', 'Wednesday', 'Tuesday'}\n"
     ]
    }
   ],
   "source": [
    "#using union | operator\n",
    "\n",
    "Days1 = {\"Monday\",\"Tuesday\",\"Wednesday\",\"Thursday\", \"Sunday\"}    \n",
    "Days2 = {\"Friday\",\"Saturday\",\"Sunday\"}    \n",
    "print(Days1|Days2) #printing the union of the sets     "
   ]
  },
  {
   "cell_type": "code",
   "execution_count": 9,
   "id": "7bb55e91",
   "metadata": {},
   "outputs": [
    {
     "name": "stdout",
     "output_type": "stream",
     "text": [
      "{'Thursday', 'Friday', 'Sunday', 'Monday', 'Saturday', 'Wednesday', 'Tuesday'}\n"
     ]
    }
   ],
   "source": [
    "#using union() method\n",
    "\n",
    "Days1 = {\"Monday\",\"Tuesday\",\"Wednesday\",\"Thursday\"}    \n",
    "Days2 = {\"Friday\",\"Saturday\",\"Sunday\"}    \n",
    "print(Days1.union(Days2)) #printing the union of the sets     "
   ]
  },
  {
   "cell_type": "code",
   "execution_count": 10,
   "id": "8cfea9e4",
   "metadata": {},
   "outputs": [
    {
     "name": "stdout",
     "output_type": "stream",
     "text": [
      "{1, 2, 3, 4, 5}\n"
     ]
    }
   ],
   "source": [
    "set1 = {1, 2, 3}  \n",
    "set2 = {2, 3, 4}  \n",
    "set3 = {3, 4, 5}  \n",
    "  \n",
    "# Find the common elements between the three sets  \n",
    "common_elements = set1.union(set2, set3)  \n",
    "  \n",
    "# Print the common elements  \n",
    "print(common_elements)  "
   ]
  },
  {
   "cell_type": "markdown",
   "id": "d091a66f",
   "metadata": {},
   "source": [
    "# The intersection of two sets\n",
    "To discover what is common between two or more sets in Python, apply the intersection() function. Only the items in all sets being compared are included in the final set. One or more sets can also be used as the intersection() function parameters. The function returns a copy of the set supplied as the lone parameter if there is just one set. The method returns a new set that only contains the elements in all the compared sets if multiple sets are supplied as arguments.\n",
    "\n",
    "The intersection of two sets can be performed by the and & operator or the intersection() function. The intersection of the two sets is given as the set of the elements that common in both sets."
   ]
  },
  {
   "cell_type": "code",
   "execution_count": 11,
   "id": "15684bc1",
   "metadata": {},
   "outputs": [
    {
     "name": "stdout",
     "output_type": "stream",
     "text": [
      "{'Monday', 'Tuesday'}\n"
     ]
    }
   ],
   "source": [
    "#Using & operator\n",
    "\n",
    "Days1 = {\"Monday\",\"Tuesday\", \"Wednesday\", \"Thursday\"}    \n",
    "Days2 = {\"Monday\",\"Tuesday\",\"Sunday\", \"Friday\"}    \n",
    "print(Days1&Days2) #prints the intersection of the two sets   "
   ]
  },
  {
   "cell_type": "code",
   "execution_count": 12,
   "id": "f971558e",
   "metadata": {},
   "outputs": [
    {
     "name": "stdout",
     "output_type": "stream",
     "text": [
      "{'David', 'Martin'}\n"
     ]
    }
   ],
   "source": [
    "#Using intersection() method\n",
    "\n",
    "set1 = {\"Devansh\",\"John\", \"David\", \"Martin\"}    \n",
    "set2 = {\"Steve\", \"Milan\", \"David\", \"Martin\"}    \n",
    "print(set1.intersection(set2)) #prints the intersection of the two sets    "
   ]
  },
  {
   "cell_type": "markdown",
   "id": "df34cbbe",
   "metadata": {},
   "source": [
    "# Set comparisons\n",
    "In Python, you can compare sets to check if they are equal, if one set is a subset or superset of another, or if two sets have elements in common.\n",
    "\n",
    "Here are the set comparison operators available in Python:\n",
    "\n",
    "+ ==: checks if two sets have the same elements, regardless of their order.\n",
    "+ !=: checks if two sets are not equal.\n",
    "+ <: checks if the left set is a proper subset of the right set (i.e., all elements in the left set are also in the right set, but the right set has additional elements).\n",
    "+ <=: checks if the left set is a subset of the right set (i.e., all elements in the left set are also in the right set).\n",
    "+ >: checks if the left set is a proper superset of the right set (i.e., all elements in the right set are also in the left set, but the left set has additional elements).\n",
    "+ >=: checks if the left set is a superset of the right set (i.e., all elements in the right set are also in the left)."
   ]
  },
  {
   "cell_type": "code",
   "execution_count": 13,
   "id": "ef415c6f",
   "metadata": {},
   "outputs": [
    {
     "name": "stdout",
     "output_type": "stream",
     "text": [
      "True\n",
      "False\n",
      "False\n"
     ]
    }
   ],
   "source": [
    "Days1 = {\"Monday\",  \"Tuesday\", \"Wednesday\", \"Thursday\"}    \n",
    "Days2 = {\"Monday\", \"Tuesday\"}    \n",
    "Days3 = {\"Monday\", \"Tuesday\", \"Friday\"}    \n",
    "    \n",
    "#Days1 is the superset of Days2 hence it will print true.     \n",
    "print (Days1>Days2)     \n",
    "    \n",
    "#prints false since Days1 is not the subset of Days2     \n",
    "print (Days1<Days2)    \n",
    "    \n",
    "#prints false since Days2 and Days3 are not equivalent     \n",
    "print (Days2 == Days3)   "
   ]
  },
  {
   "cell_type": "markdown",
   "id": "95a02b8d",
   "metadata": {},
   "source": [
    "# FrozenSets"
   ]
  },
  {
   "cell_type": "markdown",
   "id": "ca1635de",
   "metadata": {},
   "source": [
    "Frozen set objects are unordered collections of unique elements, just like sets. They can be used the same way as sets, except they cannot be modified. Because they are immutable, frozen set objects can be used as elements of other sets or dictionary keys, while standard sets cannot.\n",
    "\n",
    "One of the main advantages of using frozen set objects is that they are hashable, meaning they can be used as keys in dictionaries or as elements of other sets. Their contents cannot change, so their hash values remain constant. Standard sets are not hashable because they can be modified, so their hash values can change."
   ]
  },
  {
   "cell_type": "code",
   "execution_count": 14,
   "id": "a3dd9671",
   "metadata": {},
   "outputs": [
    {
     "name": "stdout",
     "output_type": "stream",
     "text": [
      "<class 'frozenset'>\n",
      "\n",
      "printing the content of frozen set...\n",
      "1\n",
      "2\n",
      "3\n",
      "4\n",
      "5\n"
     ]
    },
    {
     "ename": "AttributeError",
     "evalue": "'frozenset' object has no attribute 'add'",
     "output_type": "error",
     "traceback": [
      "\u001b[1;31m---------------------------------------------------------------------------\u001b[0m",
      "\u001b[1;31mAttributeError\u001b[0m                            Traceback (most recent call last)",
      "\u001b[1;32m~\\AppData\\Local\\Temp\\ipykernel_17636\\3715075947.py\u001b[0m in \u001b[0;36m<module>\u001b[1;34m\u001b[0m\n\u001b[0;32m      4\u001b[0m \u001b[1;32mfor\u001b[0m \u001b[0mi\u001b[0m \u001b[1;32min\u001b[0m \u001b[0mFrozenset\u001b[0m\u001b[1;33m:\u001b[0m\u001b[1;33m\u001b[0m\u001b[1;33m\u001b[0m\u001b[0m\n\u001b[0;32m      5\u001b[0m     \u001b[0mprint\u001b[0m\u001b[1;33m(\u001b[0m\u001b[0mi\u001b[0m\u001b[1;33m)\u001b[0m\u001b[1;33m;\u001b[0m\u001b[1;33m\u001b[0m\u001b[1;33m\u001b[0m\u001b[0m\n\u001b[1;32m----> 6\u001b[1;33m \u001b[0mFrozenset\u001b[0m\u001b[1;33m.\u001b[0m\u001b[0madd\u001b[0m\u001b[1;33m(\u001b[0m\u001b[1;36m6\u001b[0m\u001b[1;33m)\u001b[0m \u001b[1;31m#gives an error since we cannot change the content of Frozenset after creation\u001b[0m\u001b[1;33m\u001b[0m\u001b[1;33m\u001b[0m\u001b[0m\n\u001b[0m",
      "\u001b[1;31mAttributeError\u001b[0m: 'frozenset' object has no attribute 'add'"
     ]
    }
   ],
   "source": [
    "Frozenset = frozenset([1,2,3,4,5])     \n",
    "print(type(Frozenset))    \n",
    "print(\"\\nprinting the content of frozen set...\")    \n",
    "for i in Frozenset:    \n",
    "    print(i);    \n",
    "Frozenset.add(6) #gives an error since we cannot change the content of Frozenset after creation     "
   ]
  },
  {
   "cell_type": "markdown",
   "id": "137e40cd",
   "metadata": {},
   "source": [
    "# Built-in set methods "
   ]
  },
  {
   "cell_type": "markdown",
   "id": "c2067a71",
   "metadata": {},
   "source": [
    "+  add(item)\tIt adds an item to the set. It has no effect if the item is already present in the set.\n",
    "+\tclear()\tIt deletes all the items from the set.\n",
    "+\tcopy()\tIt returns a shallow copy of the set.\n",
    "+\tdifference_update(....)\tIt modifies this set by removing all the items that are also present in the specified sets.\n",
    "+\tdiscard(item)\tIt removes the specified item from the set.\n",
    "+\tintersection()\tIt returns a new set that contains only the common elements of both the sets. (all the sets if more than two are specified).\n",
    "+\tintersection_update(....)\tIt removes the items from the original set that are not present in both the sets (all the sets if more than one are specified).\n",
    "+\tIsdisjoint(....)\tReturn True if two sets have a null intersection.\n",
    "+\tIssubset(....)\tReport whether another set contains this set.\n",
    "+\tIssuperset(....)\tReport whether this set contains another set.\n",
    "+\tpop()\tRemove and return an arbitrary set element that is the last element of the set. Raises KeyError if the set is empty.\n",
    "+\tremove(item)\tRemove an element from a set; it must be a member. If the element is not a member, raise a KeyError.\n",
    "+\tsymmetric_difference(....)\tRemove an element from a set; it must be a member. If the element is not a member, raise a KeyError.\n",
    "+\tsymmetric_difference_update(....)\tUpdate a set with the symmetric difference of itself and another.\n",
    "+\tunion(....)\tReturn the union of sets as a new set.\n",
    "(i.e. all elements that are in either set.)\n",
    "+\tupdate()\tUpdate a set with the union of itself and others."
   ]
  }
 ],
 "metadata": {
  "kernelspec": {
   "display_name": "Python 3 (ipykernel)",
   "language": "python",
   "name": "python3"
  },
  "language_info": {
   "codemirror_mode": {
    "name": "ipython",
    "version": 3
   },
   "file_extension": ".py",
   "mimetype": "text/x-python",
   "name": "python",
   "nbconvert_exporter": "python",
   "pygments_lexer": "ipython3",
   "version": "3.9.13"
  }
 },
 "nbformat": 4,
 "nbformat_minor": 5
}
