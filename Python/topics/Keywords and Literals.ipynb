{
 "cells": [
  {
   "cell_type": "markdown",
   "id": "dec9a763",
   "metadata": {},
   "source": [
    "# Python Keywords\n",
    "Every scripting language has designated words or keywords, with particular definitions and usage guidelines. Python is no exception. The fundamental constituent elements of any Python program are Python keywords.\n",
    "\n",
    "This tutorial will give you a basic overview of all Python keywords and a detailed discussion of some important keywords that are frequently used."
   ]
  },
  {
   "cell_type": "markdown",
   "id": "3a4ee054",
   "metadata": {},
   "source": [
    "+ False\n",
    "+ await\n",
    "+ else\n",
    "+ import\t+ pass\n",
    "+ None\t+ break\t+ except\t+ in\t+ raise\n",
    "+ True\tclass\tfinally\tis\treturn\n",
    "+ and\tcontinue\tfor\tlambda\ttry\n",
    "+ as\tdef\tfrom\tnonlocal\twhile\n",
    "+ assert\tdel\tglobal\tnot\twith\n",
    "+ async\telif\tif\tor\tyield"
   ]
  },
  {
   "cell_type": "markdown",
   "id": "25079075",
   "metadata": {},
   "source": [
    "# Python Literals\n",
    "Python Literals can be defined as data that is given in a variable or constant."
   ]
  },
  {
   "cell_type": "markdown",
   "id": "26a5d965",
   "metadata": {},
   "source": [
    "1. String literals:\n",
    "String literals can be formed by enclosing a text in the quotes. We can use both single as well as double quotes to create a string."
   ]
  },
  {
   "cell_type": "markdown",
   "id": "02038b02",
   "metadata": {},
   "source": [
    "ex : \"Aman\" , '12345' "
   ]
  },
  {
   "cell_type": "markdown",
   "id": "add755c8",
   "metadata": {},
   "source": [
    "2. Numeric literals:\n",
    "Numeric Literals are immutable. Numeric literals can belong to following four different numerical types."
   ]
  },
  {
   "cell_type": "markdown",
   "id": "0fbf09d9",
   "metadata": {},
   "source": [
    "Int(signed integers)-->\tLong(long integers)-->\tfloat(floating point)-->\tComplex(complex)"
   ]
  },
  {
   "cell_type": "markdown",
   "id": "c866c057",
   "metadata": {},
   "source": [
    "+ 0b - binary\n",
    "+ 0o - octa \n",
    "+ 0x - hexa"
   ]
  },
  {
   "cell_type": "code",
   "execution_count": 1,
   "id": "574c92bf",
   "metadata": {},
   "outputs": [
    {
     "name": "stdout",
     "output_type": "stream",
     "text": [
      "20 100 141 301\n",
      "100.5 150.0\n",
      "(5+3.14j) 3.14 5.0\n"
     ]
    }
   ],
   "source": [
    "x = 0b10100 #Binary Literals  \n",
    "y = 100 #Decimal Literal   \n",
    "z = 0o215 #Octal Literal  \n",
    "u = 0x12d #Hexadecimal Literal  \n",
    "  \n",
    "#Float Literal  \n",
    "float_1 = 100.5   \n",
    "float_2 = 1.5e2  \n",
    "  \n",
    "#Complex Literal   \n",
    "a = 5+3.14j  \n",
    "  \n",
    "print(x, y, z, u)  \n",
    "print(float_1, float_2)  \n",
    "print(a, a.imag, a.real)  "
   ]
  },
  {
   "cell_type": "markdown",
   "id": "2adc81a2",
   "metadata": {},
   "source": [
    "3. Boolean literals:\n",
    "A Boolean literal can have any of the two values: True or False."
   ]
  },
  {
   "cell_type": "code",
   "execution_count": 2,
   "id": "9c3b7604",
   "metadata": {},
   "outputs": [
    {
     "name": "stdout",
     "output_type": "stream",
     "text": [
      "x is True\n",
      "y is False\n",
      "z is False\n",
      "a: 11\n",
      "b: 10\n"
     ]
    }
   ],
   "source": [
    "x = (1 == True)  \n",
    "y = (2 == False)  \n",
    "z = (3 == True)  \n",
    "a = True + 10  \n",
    "b = False + 10  \n",
    "  \n",
    "print(\"x is\", x)  \n",
    "print(\"y is\", y)  \n",
    "print(\"z is\", z)  \n",
    "print(\"a:\", a)  \n",
    "print(\"b:\", b)  "
   ]
  },
  {
   "cell_type": "markdown",
   "id": "9de5711f",
   "metadata": {},
   "source": [
    "4. Special literals.\n",
    "+ Python contains one special literal i.e., None.\n",
    "\n",
    "None is used to specify to that field that is not created. It is also used for the end of lists in Python."
   ]
  },
  {
   "cell_type": "markdown",
   "id": "6694d0b4",
   "metadata": {},
   "source": [
    "5. Literal Collections.\n",
    "+ Python provides the four types of literal collection such as List literals, Tuple literals, Dict literals, and Set literals.\n",
    "\n",
    "List:\n",
    "\n",
    "+ List contains items of different data types. \n",
    "+ Lists are mutable i.e., modifiable.\n",
    "+ The values stored in List are separated by comma(,) and enclosed within square brackets([]). \n",
    "+ We can store different types of data in a List."
   ]
  },
  {
   "cell_type": "code",
   "execution_count": 7,
   "id": "6f7139c7",
   "metadata": {},
   "outputs": [
    {
     "name": "stdout",
     "output_type": "stream",
     "text": [
      "['John', 678, 20.4, 'Peter']\n",
      "['John', 678, 20.4, 'Peter', 456, 'Andrew']\n"
     ]
    }
   ],
   "source": [
    "#Example - List literals\n",
    "\n",
    "list=['John',678,20.4,'Peter']    \n",
    "list1=[456,'Andrew']    \n",
    "print(list)    \n",
    "print(list + list1)  "
   ]
  },
  {
   "cell_type": "markdown",
   "id": "7d7a3afa",
   "metadata": {},
   "source": [
    "Dictionary:\n",
    "\n",
    "+ Python dictionary stores the data in the key-value pair.\n",
    "+ It is enclosed by curly-braces {} and each pair is separated by the commas(,)."
   ]
  },
  {
   "cell_type": "code",
   "execution_count": 8,
   "id": "bebe11e0",
   "metadata": {},
   "outputs": [
    {
     "name": "stdout",
     "output_type": "stream",
     "text": [
      "{'name': 'Pater', 'Age': 18, 'Roll_nu': 101}\n"
     ]
    }
   ],
   "source": [
    "dict = {'name': 'Pater', 'Age':18,'Roll_nu':101}  \n",
    "print(dict)  "
   ]
  },
  {
   "cell_type": "markdown",
   "id": "465d5c5f",
   "metadata": {},
   "source": [
    "Tuple:\n",
    "\n",
    "+ Python tuple is a collection of different data-type. \n",
    "+ It is immutable which means it cannot be modified after creation.\n",
    "+ It is enclosed by the parentheses () and each element is separated by the comma(,)."
   ]
  },
  {
   "cell_type": "code",
   "execution_count": 9,
   "id": "31e97522",
   "metadata": {},
   "outputs": [
    {
     "name": "stdout",
     "output_type": "stream",
     "text": [
      "(10, 20, 'Dev', [2, 3, 4])\n"
     ]
    }
   ],
   "source": [
    "tup = (10,20,\"Dev\",[2,3,4])  \n",
    "print(tup) "
   ]
  },
  {
   "cell_type": "markdown",
   "id": "d8af004d",
   "metadata": {},
   "source": [
    "Set:\n",
    "\n",
    "+ Python set is the collection of the unordered dataset.\n",
    "+ It is enclosed by the {} and each element is separated by the comma(,)."
   ]
  },
  {
   "cell_type": "code",
   "execution_count": 10,
   "id": "48b11e44",
   "metadata": {},
   "outputs": [
    {
     "name": "stdout",
     "output_type": "stream",
     "text": [
      "{'guava', 'papaya', 'apple', 'grapes'}\n"
     ]
    }
   ],
   "source": [
    "set = {'apple','grapes','guava','papaya'}  \n",
    "print(set)  "
   ]
  },
  {
   "cell_type": "code",
   "execution_count": null,
   "id": "a77280f6",
   "metadata": {},
   "outputs": [],
   "source": []
  },
  {
   "cell_type": "code",
   "execution_count": null,
   "id": "679ec553",
   "metadata": {},
   "outputs": [],
   "source": []
  }
 ],
 "metadata": {
  "kernelspec": {
   "display_name": "Python 3 (ipykernel)",
   "language": "python",
   "name": "python3"
  },
  "language_info": {
   "codemirror_mode": {
    "name": "ipython",
    "version": 3
   },
   "file_extension": ".py",
   "mimetype": "text/x-python",
   "name": "python",
   "nbconvert_exporter": "python",
   "pygments_lexer": "ipython3",
   "version": "3.9.13"
  }
 },
 "nbformat": 4,
 "nbformat_minor": 5
}
