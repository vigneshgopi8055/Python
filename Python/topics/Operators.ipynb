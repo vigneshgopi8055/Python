{
 "cells": [
  {
   "cell_type": "markdown",
   "id": "917c27b7",
   "metadata": {},
   "source": [
    "# Python Operators\n",
    "Operators are used to perform operations on variables and values."
   ]
  },
  {
   "cell_type": "markdown",
   "id": "f24dbf03",
   "metadata": {},
   "source": [
    "Python divides the operators in the following groups:\n",
    "\n",
    "+ Arithmetic operators\n",
    "+ Assignment operators\n",
    "+ Comparison operators\n",
    "+ logical operators\n",
    "+ Identity operators\n",
    "+ Membership operators\n",
    "+ Bitwise operators"
   ]
  },
  {
   "cell_type": "code",
   "execution_count": 13,
   "id": "473b470f",
   "metadata": {},
   "outputs": [],
   "source": [
    "a = 5"
   ]
  },
  {
   "cell_type": "code",
   "execution_count": 14,
   "id": "a34aac76",
   "metadata": {},
   "outputs": [],
   "source": [
    "b = 4"
   ]
  },
  {
   "cell_type": "code",
   "execution_count": 15,
   "id": "31f7eeee",
   "metadata": {},
   "outputs": [],
   "source": [
    "c = a&b"
   ]
  },
  {
   "cell_type": "code",
   "execution_count": 17,
   "id": "e03a3497",
   "metadata": {},
   "outputs": [
    {
     "data": {
      "text/plain": [
       "'0b100'"
      ]
     },
     "execution_count": 17,
     "metadata": {},
     "output_type": "execute_result"
    }
   ],
   "source": [
    "bin(c)"
   ]
  },
  {
   "cell_type": "code",
   "execution_count": null,
   "id": "f8af889c",
   "metadata": {},
   "outputs": [],
   "source": []
  }
 ],
 "metadata": {
  "kernelspec": {
   "display_name": "Python 3 (ipykernel)",
   "language": "python",
   "name": "python3"
  },
  "language_info": {
   "codemirror_mode": {
    "name": "ipython",
    "version": 3
   },
   "file_extension": ".py",
   "mimetype": "text/x-python",
   "name": "python",
   "nbconvert_exporter": "python",
   "pygments_lexer": "ipython3",
   "version": "3.9.13"
  }
 },
 "nbformat": 4,
 "nbformat_minor": 5
}
