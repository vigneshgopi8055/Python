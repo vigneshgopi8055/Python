{
 "cells": [
  {
   "cell_type": "markdown",
   "id": "616ab2e5",
   "metadata": {},
   "source": [
    "# Break Statement\n",
    "The break is a keyword in python which is used to bring the program control out of the loop. The break statement breaks the loops one by one, i.e., in the case of nested loops, it breaks the inner loop first and then proceeds to outer loops. In other words, we can say that break is used to abort the current execution of the program and the control goes to the next line after the loop.\n",
    "\n",
    "The break is commonly used in the cases where we need to break the loop for a given condition."
   ]
  },
  {
   "cell_type": "code",
   "execution_count": 1,
   "id": "2acdee50",
   "metadata": {},
   "outputs": [
    {
     "name": "stdout",
     "output_type": "stream",
     "text": [
      "Current Letter:  P\n",
      "Current Letter:  y\n",
      "Current Letter:  t\n",
      "Current Letter:  h\n",
      "Current Letter:  o\n"
     ]
    }
   ],
   "source": [
    "for string in \"Python Loops\":  \n",
    "    if string == 'n':  \n",
    "         break  \n",
    "    print('Current Letter: ', string)  "
   ]
  },
  {
   "cell_type": "markdown",
   "id": "3fbfeff2",
   "metadata": {},
   "source": [
    "# Pass Statement\n",
    "Pass statements are used to create empty loops. Pass statement is also employed for classes, functions, and empty control statements.\n",
    "The null statement is another name for the pass statement. A Comment is not ignored by the Python interpreter, whereas a pass statement is not. Hence, they two are different Python keywords.\n",
    "\n",
    "We can use the pass statement as a placeholder when unsure what code to provide. So, we only have to place the pass on that line. Pass may be used when we don't wish any code to be executed. We can simply insert a pass in places where empty code is prohibited, such as loops, functions, class definitions, or if-else statements."
   ]
  },
  {
   "cell_type": "code",
   "execution_count": 3,
   "id": "6b881fb8",
   "metadata": {},
   "outputs": [
    {
     "name": "stdout",
     "output_type": "stream",
     "text": [
      "Last Letter: s\n"
     ]
    }
   ],
   "source": [
    "for string in \"Python Loops\":  \n",
    "    pass  \n",
    "print( 'Last Letter:', string)   "
   ]
  },
  {
   "cell_type": "code",
   "execution_count": 7,
   "id": "16eda000",
   "metadata": {},
   "outputs": [
    {
     "name": "stdout",
     "output_type": "stream",
     "text": [
      "b is greater than a\n"
     ]
    }
   ],
   "source": [
    "a = 33\n",
    "b = 2\n",
    "\n",
    "if b > a:\n",
    "  pass\n",
    "print('b is greater than a')"
   ]
  },
  {
   "cell_type": "markdown",
   "id": "4660c952",
   "metadata": {},
   "source": [
    "# Continue Statement\n",
    "In Python, the continue keyword return control of the iteration to the beginning of the Python for loop or Python while loop. All remaining lines in the prevailing iteration of the loop are skipped by the continue keyword, which returns execution to the beginning of the next iteration of the loop."
   ]
  },
  {
   "cell_type": "code",
   "execution_count": 9,
   "id": "1ef96141",
   "metadata": {},
   "outputs": [
    {
     "name": "stdout",
     "output_type": "stream",
     "text": [
      "Current Letter: W\n",
      "Current Letter: h\n",
      "Current Letter: l\n",
      "Current Letter:  \n",
      "Current Letter: L\n",
      "Current Letter: p\n",
      "Current Letter: s\n"
     ]
    }
   ],
   "source": [
    "for string in \"While Loops\":  \n",
    "    if string == \"o\" or string == \"i\" or string == \"e\":  \n",
    "         continue  \n",
    "    print('Current Letter:', string)  "
   ]
  },
  {
   "cell_type": "code",
   "execution_count": null,
   "id": "0d8c48c0",
   "metadata": {},
   "outputs": [],
   "source": []
  },
  {
   "cell_type": "code",
   "execution_count": null,
   "id": "38c2eb3a",
   "metadata": {},
   "outputs": [],
   "source": []
  }
 ],
 "metadata": {
  "kernelspec": {
   "display_name": "Python 3 (ipykernel)",
   "language": "python",
   "name": "python3"
  },
  "language_info": {
   "codemirror_mode": {
    "name": "ipython",
    "version": 3
   },
   "file_extension": ".py",
   "mimetype": "text/x-python",
   "name": "python",
   "nbconvert_exporter": "python",
   "pygments_lexer": "ipython3",
   "version": "3.9.13"
  }
 },
 "nbformat": 4,
 "nbformat_minor": 5
}
