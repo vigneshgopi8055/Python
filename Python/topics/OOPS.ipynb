{
 "cells": [
  {
   "cell_type": "markdown",
   "id": "3efca0d6",
   "metadata": {},
   "source": [
    "# in programming languages there are maimly 3 types of languages\n",
    "+ functional : Functional programming is all about organizing your code around the idea of using functions. Each function should be set up to perform a clearly defined task and ideally be a pure one (we’ll get to pure and impure functions in a bit).\n",
    "+ procedural : In procedural programming, we work with procedures, also known as routines, subroutines, or functions. A procedure is essentially a sequence of instructions or computational steps to be executed. \n",
    "+ object oriented : OOP systems allow developers to break down their software into reusable blueprint-like components that dictate a common structure that code entities can adhere to and identify themselves with. This is set in place using classes and objects.\n"
   ]
  },
  {
   "cell_type": "markdown",
   "id": "c2e40a35",
   "metadata": {},
   "source": [
    "+ python supports all the 3 types of languages.oops helps us to represent the real world concepts and entities\n"
   ]
  },
  {
   "cell_type": "markdown",
   "id": "9e64b2ca",
   "metadata": {},
   "source": [
    "# Class"
   ]
  },
  {
   "cell_type": "markdown",
   "id": "eb30c782",
   "metadata": {},
   "source": [
    "A class is a collection of objects which has state.\n",
    "A class can also be called a logical template to create the objects that share common properties and methods.\n",
    "+ it is set of properties behaviour and functions of objects"
   ]
  },
  {
   "cell_type": "markdown",
   "id": "06e7e4d3",
   "metadata": {},
   "source": [
    "# Objects"
   ]
  },
  {
   "cell_type": "markdown",
   "id": "dc57e46e",
   "metadata": {},
   "source": [
    "An Object is an instance of a Class. A class is like a blueprint while an instance is a copy of the class with actual values. Python is an object-oriented programming language that stresses objects i.e. it mainly emphasizes functions. Python Objects are basically an encapsulation of data variables and methods acting on that data into a single entity."
   ]
  },
  {
   "cell_type": "code",
   "execution_count": 3,
   "id": "9fed849b",
   "metadata": {},
   "outputs": [
    {
     "name": "stdout",
     "output_type": "stream",
     "text": [
      "7\n",
      "12\n"
     ]
    }
   ],
   "source": [
    "class computer:\n",
    "    def add(a,b):\n",
    "        print(a+b)\n",
    "        \n",
    "computer.add(3,4) \n",
    "computer.add(4,8)\n",
    "    "
   ]
  },
  {
   "cell_type": "code",
   "execution_count": 4,
   "id": "42f956cb",
   "metadata": {},
   "outputs": [
    {
     "name": "stdout",
     "output_type": "stream",
     "text": [
      "Toyota 2016\n"
     ]
    }
   ],
   "source": [
    "class car:  \n",
    "    def __init__(self,modelname, year):  \n",
    "        self.modelname = modelname  \n",
    "        self.year = year  \n",
    "    def display(self):  \n",
    "        print(self.modelname,self.year)  \n",
    "  \n",
    "c1 = car(\"Toyota\", 2016)  \n",
    "c1.display()  "
   ]
  },
  {
   "cell_type": "code",
   "execution_count": 5,
   "id": "ab139bcf",
   "metadata": {},
   "outputs": [
    {
     "name": "stdout",
     "output_type": "stream",
     "text": [
      "toyota 2003\n"
     ]
    }
   ],
   "source": [
    "class car:\n",
    "    def __init__(self,name,year):\n",
    "        self.name = name\n",
    "        self.year = year\n",
    "    def display(self):\n",
    "        print(self.name,self.year)\n",
    "        \n",
    "c1 = car('toyota',2003)\n",
    "c1.display()"
   ]
  },
  {
   "cell_type": "code",
   "execution_count": 12,
   "id": "9da2d941",
   "metadata": {},
   "outputs": [],
   "source": [
    "class employee:\n",
    "    def __init__(self,name,age,salary):\n",
    "        self.name = name\n",
    "        self.age = age\n",
    "        self.salary = salary\n",
    "    def printinfo(self):\n",
    "        print(f\"{self.name} is of age {self.age} with the salary of {self.salary}\")"
   ]
  },
  {
   "cell_type": "code",
   "execution_count": 13,
   "id": "8cc634ae",
   "metadata": {},
   "outputs": [
    {
     "name": "stdout",
     "output_type": "stream",
     "text": [
      "vignesh is of age 21 with the salary of 3000000\n"
     ]
    }
   ],
   "source": [
    "e1 = employee(\"vignesh\",21,3000000)\n",
    "e1.printinfo()\n"
   ]
  },
  {
   "cell_type": "markdown",
   "id": "3ed0543f",
   "metadata": {},
   "source": [
    "### self"
   ]
  },
  {
   "cell_type": "markdown",
   "id": "93374a6d",
   "metadata": {},
   "source": [
    "+ self parameter is used to refer the current instance of the class and also used to access the variables that belongs to class\n",
    "+ the self parameter automatically passes in the constructor"
   ]
  },
  {
   "cell_type": "markdown",
   "id": "2ec2e69f",
   "metadata": {},
   "source": [
    "### constructors "
   ]
  },
  {
   "cell_type": "markdown",
   "id": "5294f574",
   "metadata": {},
   "source": [
    " a constructor is a block of codes similar to the method. It is called when an instance of the class is created. At the time of calling constructor, memory for the object is allocated in the memory.\n",
    "\n",
    "It is a special type of method which is used to initialize the object."
   ]
  },
  {
   "cell_type": "markdown",
   "id": "008c02cc",
   "metadata": {},
   "source": [
    "### __init__"
   ]
  },
  {
   "cell_type": "markdown",
   "id": "b54fef4d",
   "metadata": {},
   "source": [
    "# variables"
   ]
  },
  {
   "cell_type": "markdown",
   "id": "94115097",
   "metadata": {},
   "source": [
    "in python we have two types of variable\n",
    "+ instance variable : which is not common for all objects.it is declared inside init method.\n",
    "+ class/static variable : which is common for all objects.it is declared outside init method and inside the class"
   ]
  },
  {
   "cell_type": "markdown",
   "id": "e32d73c2",
   "metadata": {},
   "source": [
    "# Namespace"
   ]
  },
  {
   "cell_type": "markdown",
   "id": "dd77b047",
   "metadata": {},
   "source": [
    "+ the  place where an object is created or stored is known as namespace\n",
    "+ class namespace\n",
    "+ object namespace"
   ]
  },
  {
   "cell_type": "code",
   "execution_count": 3,
   "id": "e72a43f1",
   "metadata": {},
   "outputs": [],
   "source": [
    "class car:\n",
    "    wheels = 4  #static variable,class namespace\n",
    "    def __init__(self,name,speed):\n",
    "        self.name = name  #instance variable , object namespace\n",
    "        self.speed = speed\n",
    "    def show(self):\n",
    "        print(\"name : \",self.name)\n",
    "        print(\"speed : \",self.speed)\n",
    "        print(\"wheels : \",self.wheels)"
   ]
  },
  {
   "cell_type": "code",
   "execution_count": 4,
   "id": "b1874e7a",
   "metadata": {},
   "outputs": [
    {
     "name": "stdout",
     "output_type": "stream",
     "text": [
      "name :  audi\n",
      "speed :  3000\n",
      "wheels :  4\n",
      "name :  bmw\n",
      "speed :  4500\n",
      "wheels :  4\n"
     ]
    }
   ],
   "source": [
    "c1 = car(\"audi\",3000)\n",
    "c2 = car(\"bmw\",4500)\n",
    "c1.show()\n",
    "c2.show()"
   ]
  },
  {
   "cell_type": "markdown",
   "id": "a88a67ea",
   "metadata": {},
   "source": [
    "The __init__ method is the Python equivalent of the C++ constructor in an object-oriented approach. The __init__ function is called every time an object is created from a class. The __init__ method lets the class initialize the object's attributes and serves no other purpose. It is only used within classes."
   ]
  },
  {
   "cell_type": "code",
   "execution_count": 59,
   "id": "aed1f38f",
   "metadata": {},
   "outputs": [],
   "source": [
    "class person:\n",
    "    def __init__(self,name,age,occupation):\n",
    "        self.name = name\n",
    "        self.age = age\n",
    "        self.occupation = occupation\n",
    "    def printinfo(self):\n",
    "        print(f\"name = {self.name} , age = {self.age} , occupation = {self.occupation}\")\n",
    "    def changename(self,newname):\n",
    "        self.name = newname\n",
    "        print(f\"name changed to {newname}\")\n",
    "        self.printinfo()\n",
    "        "
   ]
  },
  {
   "cell_type": "code",
   "execution_count": 60,
   "id": "7495cd2e",
   "metadata": {},
   "outputs": [
    {
     "name": "stdout",
     "output_type": "stream",
     "text": [
      "name = vignesh , age = 21 , occupation = developer\n",
      "name changed to maruti\n",
      "name = maruti , age = 21 , occupation = developer\n"
     ]
    }
   ],
   "source": [
    "a = person(\"vignesh\",21,\"developer\")\n",
    "b = person(\"john\",21,\"tester\")\n",
    "a.printinfo()\n",
    "a.changename(\"maruti\")"
   ]
  },
  {
   "cell_type": "markdown",
   "id": "4be7b66c",
   "metadata": {},
   "source": [
    "### Decorators "
   ]
  },
  {
   "cell_type": "markdown",
   "id": "b58423c2",
   "metadata": {},
   "source": [
    "Decorators are a very powerful and useful tool in Python since it allows programmers to modify the behaviour of a function or class. Decorators allow us to wrap another function in order to extend the behaviour of the wrapped function, without permanently modifying it. But before diving deep into decorators let us understand some concepts that will come in handy in learning the decorators."
   ]
  },
  {
   "cell_type": "markdown",
   "id": "f6d43ca5",
   "metadata": {},
   "source": [
    "### getters and setters  or accessors and mutators"
   ]
  },
  {
   "cell_type": "markdown",
   "id": "d987fb46",
   "metadata": {},
   "source": [
    "In Python, getters and setters are not the same as those in other object-oriented programming languages. Basically, the main purpose of using getters and setters in object-oriented programs is to ensure data encapsulation. Private variables in python are not actually hidden fields like in other object oriented languages. Getters and Setters in python are often used when:\n",
    "\n",
    "+ We use getters & setters to add validation logic around getting and setting a value.\n",
    "+ To avoid direct access of a class field i.e. private variables cannot be accessed directly or modified by external user."
   ]
  },
  {
   "cell_type": "code",
   "execution_count": 63,
   "id": "cda44a78",
   "metadata": {},
   "outputs": [],
   "source": [
    "class Example:\n",
    "    def __init__(self,age):\n",
    "        self.age = age\n",
    "    def printage(self):\n",
    "        print(self.age)\n",
    "    def get_age(self):\n",
    "        return self.age\n",
    "    def set_age(self,newage):\n",
    "        self.age = newage\n",
    "        self.printage()\n",
    "    def ten_age(self):\n",
    "        return self.age*10\n",
    "    "
   ]
  },
  {
   "cell_type": "code",
   "execution_count": 64,
   "id": "81835a97",
   "metadata": {},
   "outputs": [
    {
     "name": "stdout",
     "output_type": "stream",
     "text": [
      "25\n"
     ]
    },
    {
     "data": {
      "text/plain": [
       "250"
      ]
     },
     "execution_count": 64,
     "metadata": {},
     "output_type": "execute_result"
    }
   ],
   "source": [
    "a = Example(12)\n",
    "a.get_age()\n",
    "a.set_age(25)\n",
    "a.ten_age()"
   ]
  },
  {
   "cell_type": "markdown",
   "id": "afe564be",
   "metadata": {},
   "source": [
    "# Inheritance "
   ]
  },
  {
   "cell_type": "markdown",
   "id": "2cd40614",
   "metadata": {},
   "source": [
    "inheritance is the process in which the child class aquires all the properties and behaviour of the parent class\n",
    "types of inheritance:\n",
    "+ single inheritance\n",
    "+ multiple inheritance\n",
    "+ multi level inheritance\n",
    "+ hybrid inheritance\n",
    "+ heirarchial inheritance"
   ]
  },
  {
   "cell_type": "code",
   "execution_count": 9,
   "id": "1cf3112d",
   "metadata": {},
   "outputs": [
    {
     "name": "stdout",
     "output_type": "stream",
     "text": [
      "30\n",
      "200\n",
      "0.5\n"
     ]
    }
   ],
   "source": [
    "class Calculation1:  \n",
    "    def Summation(self,a,b):  \n",
    "        return a+b;  \n",
    "class Calculation2:  \n",
    "    def Multiplication(self,a,b):  \n",
    "        return a*b;  \n",
    "class Derived(Calculation1,Calculation2):  \n",
    "    def Divide(self,a,b):  \n",
    "        return a/b;  \n",
    "d = Derived()  \n",
    "print(d.Summation(10,20))  \n",
    "print(d.Multiplication(10,20))  \n",
    "print(d.Divide(10,20))  "
   ]
  },
  {
   "cell_type": "markdown",
   "id": "cea6fe4d",
   "metadata": {},
   "source": [
    "+ In python there are no access modifiers.\n",
    "+ if a variable is declared as self then it is said to be in public by default\n",
    "+ even though there is no private in python we use(\"__\") to make the instance private\n",
    "+ we use (\"_\") to indiacte protected"
   ]
  },
  {
   "cell_type": "markdown",
   "id": "5111b71f",
   "metadata": {},
   "source": [
    "### Class variable"
   ]
  },
  {
   "cell_type": "markdown",
   "id": "4caef83e",
   "metadata": {},
   "source": [
    "+ class variables are defined at the class level and are shared among all the instances of the class.\n",
    "+ they are usually created outside the method and used to store the details\n"
   ]
  },
  {
   "cell_type": "markdown",
   "id": "adcec09a",
   "metadata": {},
   "source": [
    "### Instance variable"
   ]
  },
  {
   "cell_type": "markdown",
   "id": "0961d9b8",
   "metadata": {},
   "source": [
    "+ Instance variables are defined at the instance level and are unique to each instance ofthe class.\n",
    "+ they are defined in the init method"
   ]
  },
  {
   "cell_type": "markdown",
   "id": "5e1408a1",
   "metadata": {},
   "source": [
    "### Single inheritance"
   ]
  },
  {
   "cell_type": "code",
   "execution_count": 18,
   "id": "59dad934",
   "metadata": {},
   "outputs": [
    {
     "name": "stdout",
     "output_type": "stream",
     "text": [
      "dog barking\n",
      "Animal Speaking\n"
     ]
    }
   ],
   "source": [
    "class Animal:  \n",
    "    def speak(self):  \n",
    "        print(\"Animal Speaking\")  \n",
    "#child class Dog inherits the base class Animal  \n",
    "class Dog(Animal):  \n",
    "    def bark(self):  \n",
    "        print(\"dog barking\")  \n",
    "d = Dog()  \n",
    "d.bark()  \n",
    "d.speak()  "
   ]
  },
  {
   "cell_type": "code",
   "execution_count": 24,
   "id": "e882df34",
   "metadata": {},
   "outputs": [
    {
     "data": {
      "text/plain": [
       "-1"
      ]
     },
     "execution_count": 24,
     "metadata": {},
     "output_type": "execute_result"
    }
   ],
   "source": [
    "class e1:\n",
    "    def __init__(self,a,b):\n",
    "        self.a = a\n",
    "        self.b = b\n",
    "    def add(self):\n",
    "        return self.a+self.b\n",
    "class e2(e1):\n",
    "    def __init__(self,a,b):\n",
    "        self.a = a\n",
    "        self.b = b\n",
    "    def sub(self):\n",
    "        return self.a-self.b\n",
    "fun = e2(3,4)\n",
    "fun.add()\n",
    "fun.sub()"
   ]
  },
  {
   "cell_type": "markdown",
   "id": "c02eeca8",
   "metadata": {},
   "source": [
    "### Multiple inheritance "
   ]
  },
  {
   "cell_type": "markdown",
   "id": "93348374",
   "metadata": {},
   "source": [
    "multiple inheritance is the process in which the child class is inherited from multiple parent class"
   ]
  },
  {
   "cell_type": "code",
   "execution_count": 1,
   "id": "aaace20d",
   "metadata": {},
   "outputs": [
    {
     "name": "stdout",
     "output_type": "stream",
     "text": [
      "Mammals can give direct birth.\n",
      "Winged animals can flap.\n"
     ]
    }
   ],
   "source": [
    "class Mammal:\n",
    "    def mammal_info(self):\n",
    "        print(\"Mammals can give direct birth.\")\n",
    "\n",
    "class WingedAnimal:\n",
    "    def winged_animal_info(self):\n",
    "        print(\"Winged animals can flap.\")\n",
    "\n",
    "class Bat(Mammal, WingedAnimal):\n",
    "    pass\n",
    "\n",
    "# create an object of Bat class\n",
    "b1 = Bat()\n",
    "\n",
    "b1.mammal_info()\n",
    "b1.winged_animal_info()"
   ]
  },
  {
   "cell_type": "markdown",
   "id": "afe33635",
   "metadata": {},
   "source": [
    "### Multi-level Inheritance "
   ]
  },
  {
   "cell_type": "markdown",
   "id": "c13b11e2",
   "metadata": {},
   "source": [
    "Multilevel Inheritance in Python is a type of Inheritance that involves inheriting a class that has already inherited some other class. That means the derived/subclass class inherits the features of the base class/parent class, and the new derived class inherits the features of the derived class."
   ]
  },
  {
   "cell_type": "code",
   "execution_count": 2,
   "id": "c58689fc",
   "metadata": {},
   "outputs": [
    {
     "name": "stdout",
     "output_type": "stream",
     "text": [
      "Srinivas 24 Hyderabad\n"
     ]
    }
   ],
   "source": [
    "class Parent:\n",
    "   def __init__(self,name):\n",
    "     self.name = name\n",
    "   def getName(self):\n",
    "     return self.name\n",
    "class Child(Parent):\n",
    "   def __init__(self,name,age):\n",
    "     Parent.__init__(self,name)\n",
    "     self.age = age\n",
    "   def getAge(self):\n",
    "     return self.age\n",
    "class Grandchild(Child):\n",
    "   def __init__(self,name,age,location):\n",
    "     Child.__init__(self,name,age)\n",
    "     self.location=location\n",
    "   def getLocation(self):\n",
    "     return self.location\n",
    "gc = Grandchild(\"Srinivas\",24,\"Hyderabad\")\n",
    "print(gc.getName(), gc.getAge(), gc.getLocation())"
   ]
  },
  {
   "cell_type": "markdown",
   "id": "8694ab57",
   "metadata": {},
   "source": [
    "# Hybrid Inheritance\n",
    "It combines multiple inheritances with multilevel inheritance. A class can have two or more parent classes, but only one of them can have derived classes. Here in the above block diagram, class D is derived from classes B and C, whereas class B is inherited from class A."
   ]
  },
  {
   "cell_type": "code",
   "execution_count": 3,
   "id": "99700a92",
   "metadata": {},
   "outputs": [
    {
     "name": "stdout",
     "output_type": "stream",
     "text": [
      "Constructor of Child class of Course and Branch is called\n",
      "Constructor of the Child Class 2 of Class University\n",
      "Constructor of the Child Class 1 of Class University\n",
      "Contructor of the Base class\n",
      "\n",
      "The Name of the student is: Tonny\n",
      "The Branch name is: Data Science\n",
      "The Course name is: CSE\n",
      "The University name is: MIT\n"
     ]
    }
   ],
   "source": [
    "# Creating a Base class named University:\n",
    "class University:\n",
    "  def __init__(self):\n",
    "    print(\"Contructor of the Base class\")\n",
    "    # Initializing a class variable named univ to store university name:\n",
    "    self.univ = \"MIT\"\n",
    "  def display(self):  # Method to print the University Name:\n",
    "    print(f\"The University name is: {self.univ}\")\n",
    "\n",
    "# 1st Derived or Child Class of University Class:\n",
    "class Course(University):\n",
    "  def __init__(self):\n",
    "    # using \"super\" keyword to access members of the parent class having same name:\n",
    "    print(\"Constructor of the Child Class 1 of Class University\")\n",
    "    University.__init__(self)\n",
    "    self.course = \"CSE\"\n",
    "  def display(self):  # Method to print the Course Name:\n",
    "    # using \"super\" keyword to access display method defined in the parent class:\n",
    "    print(f\"The Course name is: {self.course}\")\n",
    "    University.display(self)\n",
    "\n",
    "# 2nd Derived or Child Class of University Class:\n",
    "class Branch(University):\n",
    "  def __init__(self):\n",
    "    print(\"Constructor of the Child Class 2 of Class University\")\n",
    "    self.branch = \"Data Science\"\n",
    "  def display(self):  # Method to print the Branch Name:\n",
    "    print(f\"The Branch name is: {self.branch}\")\n",
    "\n",
    "# Derived or Child Class of Class Course and Branch:\n",
    "class Student(Course, Branch):\n",
    "  def __init__(self):\n",
    "    print(\"Constructor of Child class of Course and Branch is called\")\n",
    "    self.name = \"Tonny\"\n",
    "    Branch.__init__(self)\n",
    "    Course.__init__(self)\n",
    "  def display(self):\n",
    "    print(f\"The Name of the student is: {self.name}\")\n",
    "    Branch.display(self)\n",
    "    Course.display(self)\n",
    "\n",
    "# Object Instantiation:\n",
    "ob = Student()  # Object named ob of the class Student.\n",
    "print()\n",
    "ob.display()    # Calling the display method of Student class."
   ]
  },
  {
   "cell_type": "markdown",
   "id": "fad0d1b8",
   "metadata": {},
   "source": [
    "# Hierarchical inheritance\n",
    "When more than one derived classes are created from a single base – it is called hierarchical inheritance.\n",
    "\n",
    "In this program, we have a parent (base) class name Details and two child (derived) classes named Employee and Doctor."
   ]
  },
  {
   "cell_type": "code",
   "execution_count": 4,
   "id": "e208d87f",
   "metadata": {},
   "outputs": [
    {
     "name": "stdout",
     "output_type": "stream",
     "text": [
      "Employee Object\n",
      "Id:  1\n",
      "Name:  Prem Sharma\n",
      "Gender:  Male\n",
      "Company:  gmr\n",
      "Department:  excavation\n",
      "\n",
      "Doctor Object\n",
      "Id:  1\n",
      "Name:  pankaj\n",
      "Gender:  male\n",
      "Hospital:  aiims\n",
      "Department:  eyes\n"
     ]
    }
   ],
   "source": [
    "# Python code to demonstrate example of \n",
    "# hierarchical inheritance\n",
    "\n",
    "class Details:\n",
    "    def __init__(self):\n",
    "        self.__id=\"<No Id>\"\n",
    "        self.__name=\"<No Name>\"\n",
    "        self.__gender=\"<No Gender>\"\n",
    "    def setData(self,id,name,gender):\n",
    "        self.__id=id\n",
    "        self.__name=name\n",
    "        self.__gender=gender\n",
    "    def showData(self):\n",
    "        print(\"Id: \",self.__id)\n",
    "        print(\"Name: \", self.__name)\n",
    "        print(\"Gender: \", self.__gender)\n",
    "\n",
    "class Employee(Details): #Inheritance\n",
    "    def __init__(self):\n",
    "        self.__company=\"<No Company>\"\n",
    "        self.__dept=\"<No Dept>\"\n",
    "    def setEmployee(self,id,name,gender,comp,dept):\n",
    "        self.setData(id,name,gender)\n",
    "        self.__company=comp\n",
    "        self.__dept=dept\n",
    "    def showEmployee(self):\n",
    "        self.showData()\n",
    "        print(\"Company: \", self.__company)\n",
    "        print(\"Department: \", self.__dept)\n",
    "\n",
    "class Doctor(Details): #Inheritance\n",
    "    def __init__(self):\n",
    "        self.__hospital=\"<No Hospital>\"\n",
    "        self.__dept=\"<No Dept>\"\n",
    "    def setEmployee(self,id,name,gender,hos,dept):\n",
    "        self.setData(id,name,gender)\n",
    "        self.__hospital=hos\n",
    "        self.__dept=dept\n",
    "    def showEmployee(self):\n",
    "        self.showData()\n",
    "        print(\"Hospital: \", self.__hospital)\n",
    "        print(\"Department: \", self.__dept)\n",
    "\n",
    "def main():\n",
    "    print(\"Employee Object\")\n",
    "    e=Employee()\n",
    "    e.setEmployee(1,\"Prem Sharma\",\"Male\",\"gmr\",\"excavation\")\n",
    "    e.showEmployee()\n",
    "    print(\"\\nDoctor Object\")\n",
    "    d = Doctor()\n",
    "    d.setEmployee(1, \"pankaj\", \"male\", \"aiims\", \"eyes\")\n",
    "    d.showEmployee()\n",
    "\n",
    "if __name__==\"__main__\":\n",
    "    main()\n"
   ]
  },
  {
   "cell_type": "markdown",
   "id": "4f71d71d",
   "metadata": {},
   "source": [
    "# Abstraction in Python\n",
    "Abstraction is used to hide the internal functionality of the function from the users. The users only interact with the basic implementation of the function, but inner working is hidden. User is familiar with that \"what function does\" but they don't know \"how it does.\""
   ]
  },
  {
   "cell_type": "markdown",
   "id": "768dd4e0",
   "metadata": {},
   "source": [
    "# dir()"
   ]
  },
  {
   "cell_type": "markdown",
   "id": "59d75aa1",
   "metadata": {},
   "source": [
    "dir is used to retirn the list of attributes or methods"
   ]
  },
  {
   "cell_type": "code",
   "execution_count": 7,
   "id": "e4c65fca",
   "metadata": {},
   "outputs": [
    {
     "data": {
      "text/plain": [
       "['__add__',\n",
       " '__class__',\n",
       " '__class_getitem__',\n",
       " '__contains__',\n",
       " '__delattr__',\n",
       " '__delitem__',\n",
       " '__dir__',\n",
       " '__doc__',\n",
       " '__eq__',\n",
       " '__format__',\n",
       " '__ge__',\n",
       " '__getattribute__',\n",
       " '__getitem__',\n",
       " '__gt__',\n",
       " '__hash__',\n",
       " '__iadd__',\n",
       " '__imul__',\n",
       " '__init__',\n",
       " '__init_subclass__',\n",
       " '__iter__',\n",
       " '__le__',\n",
       " '__len__',\n",
       " '__lt__',\n",
       " '__mul__',\n",
       " '__ne__',\n",
       " '__new__',\n",
       " '__reduce__',\n",
       " '__reduce_ex__',\n",
       " '__repr__',\n",
       " '__reversed__',\n",
       " '__rmul__',\n",
       " '__setattr__',\n",
       " '__setitem__',\n",
       " '__sizeof__',\n",
       " '__str__',\n",
       " '__subclasshook__',\n",
       " 'append',\n",
       " 'clear',\n",
       " 'copy',\n",
       " 'count',\n",
       " 'extend',\n",
       " 'index',\n",
       " 'insert',\n",
       " 'pop',\n",
       " 'remove',\n",
       " 'reverse',\n",
       " 'sort']"
      ]
     },
     "execution_count": 7,
     "metadata": {},
     "output_type": "execute_result"
    }
   ],
   "source": [
    "x = [1,2,3]\n",
    "dir(x)\n"
   ]
  },
  {
   "cell_type": "markdown",
   "id": "d0e9ad74",
   "metadata": {},
   "source": [
    "# __dict__"
   ]
  },
  {
   "cell_type": "markdown",
   "id": "f6aae021",
   "metadata": {},
   "source": [
    "dict attribute returns a dictionary representation of an object"
   ]
  },
  {
   "cell_type": "code",
   "execution_count": 8,
   "id": "a93326c1",
   "metadata": {},
   "outputs": [
    {
     "name": "stdout",
     "output_type": "stream",
     "text": [
      "{'name': 'vignesh', 'age': 21}\n"
     ]
    }
   ],
   "source": [
    "class person:\n",
    "    def __init__(self,name,age):\n",
    "        self.name = name\n",
    "        self.age = age\n",
    "        \n",
    "p = person(\"vignesh\",21)\n",
    "print(p.__dict__)"
   ]
  },
  {
   "cell_type": "markdown",
   "id": "a73ad7da",
   "metadata": {},
   "source": [
    "# help()"
   ]
  },
  {
   "cell_type": "markdown",
   "id": "96e8e42a",
   "metadata": {},
   "source": [
    "help method is used to get the help documentation of an object"
   ]
  },
  {
   "cell_type": "code",
   "execution_count": 9,
   "id": "2cb48fb0",
   "metadata": {},
   "outputs": [
    {
     "name": "stdout",
     "output_type": "stream",
     "text": [
      "{'name': 'vignesh', 'age': 21}\n",
      "Help on class person in module __main__:\n",
      "\n",
      "class person(builtins.object)\n",
      " |  person(name, age)\n",
      " |  \n",
      " |  Methods defined here:\n",
      " |  \n",
      " |  __init__(self, name, age)\n",
      " |      Initialize self.  See help(type(self)) for accurate signature.\n",
      " |  \n",
      " |  ----------------------------------------------------------------------\n",
      " |  Data descriptors defined here:\n",
      " |  \n",
      " |  __dict__\n",
      " |      dictionary for instance variables (if defined)\n",
      " |  \n",
      " |  __weakref__\n",
      " |      list of weak references to the object (if defined)\n",
      "\n",
      "None\n"
     ]
    }
   ],
   "source": [
    "class person:\n",
    "    def __init__(self,name,age):\n",
    "        self.name = name\n",
    "        self.age = age\n",
    "        \n",
    "p = person(\"vignesh\",21)\n",
    "print(p.__dict__)\n",
    "print(help(person))"
   ]
  },
  {
   "cell_type": "code",
   "execution_count": 44,
   "id": "a1c4212e",
   "metadata": {},
   "outputs": [],
   "source": [
    "#single inheritance\n",
    "class Square:\n",
    "     def __init__(self, side):\n",
    "         self.side = side\n",
    " \n",
    "     def area(self):\n",
    "         return self.side * self.side\n",
    " \n",
    "class Cube(Square):\n",
    "     def area(self):\n",
    "         return super().area() * 6\n",
    " \n",
    "     def volume(self):\n",
    "         return super().area() * self.side()"
   ]
  },
  {
   "cell_type": "code",
   "execution_count": 45,
   "id": "5c15559a",
   "metadata": {},
   "outputs": [],
   "source": [
    "s1 = Cube(6)"
   ]
  },
  {
   "cell_type": "code",
   "execution_count": 46,
   "id": "538eae4c",
   "metadata": {},
   "outputs": [
    {
     "data": {
      "text/plain": [
       "216"
      ]
     },
     "execution_count": 46,
     "metadata": {},
     "output_type": "execute_result"
    }
   ],
   "source": [
    "s1.area()"
   ]
  },
  {
   "cell_type": "code",
   "execution_count": 52,
   "id": "ab8a840d",
   "metadata": {},
   "outputs": [],
   "source": [
    "class rectangle:\n",
    "    def __init__(self,length,breadth):\n",
    "        self.length = length\n",
    "        self.breadth = breadth\n",
    "    def area(self):\n",
    "        return self.length*self.breadth\n",
    "class cuboid(rectangle):\n",
    "    def __init__(self,length,breadth,height):\n",
    "        self.length = length\n",
    "        self.breadth = breadth\n",
    "        self.height = height\n",
    "    def area(self):\n",
    "        return super().area()*self.height"
   ]
  },
  {
   "cell_type": "code",
   "execution_count": 53,
   "id": "92ca6030",
   "metadata": {},
   "outputs": [],
   "source": [
    "c1 = cuboid(10,20,30)"
   ]
  },
  {
   "cell_type": "code",
   "execution_count": 54,
   "id": "697e11cb",
   "metadata": {},
   "outputs": [
    {
     "data": {
      "text/plain": [
       "6000"
      ]
     },
     "execution_count": 54,
     "metadata": {},
     "output_type": "execute_result"
    }
   ],
   "source": [
    "c1.area()"
   ]
  },
  {
   "cell_type": "code",
   "execution_count": 55,
   "id": "3f1b1a8d",
   "metadata": {},
   "outputs": [],
   "source": [
    "#multi-level inheritance"
   ]
  },
  {
   "cell_type": "code",
   "execution_count": 74,
   "id": "101ab6ca",
   "metadata": {},
   "outputs": [],
   "source": [
    "class box:\n",
    "    def __init__(self,length,breadth):\n",
    "        self.length = length\n",
    "        self.breadth = breadth\n",
    "    def show(self):\n",
    "        print(\"length : \",self.length)\n",
    "        print(\"breadth : \",self.breadth)\n",
    "class boxheight(box):\n",
    "    def __init__(self,length,breadth,height):\n",
    "        super().__init__(length,breadth)\n",
    "        self.height = height\n",
    "    def show(self):\n",
    "        super().show()\n",
    "        print(\"height : \",self.height)\n",
    "class boxweight(boxheight):\n",
    "    def __init__(self,length,breadth,height,weight):\n",
    "        super().__init__(length,breadth,height)\n",
    "        self.weight = weight\n",
    "    def show(self):\n",
    "        super().show()\n",
    "        print(\"weight : \",self.weight)"
   ]
  },
  {
   "cell_type": "code",
   "execution_count": 75,
   "id": "8a9e6599",
   "metadata": {},
   "outputs": [],
   "source": [
    "b1 = boxweight(10,20,30,100)"
   ]
  },
  {
   "cell_type": "code",
   "execution_count": 76,
   "id": "ae500217",
   "metadata": {},
   "outputs": [
    {
     "name": "stdout",
     "output_type": "stream",
     "text": [
      "length :  10\n",
      "breadth :  20\n",
      "height :  30\n",
      "weight :  100\n"
     ]
    }
   ],
   "source": [
    "b1.show()"
   ]
  },
  {
   "cell_type": "code",
   "execution_count": 77,
   "id": "743f2f30",
   "metadata": {},
   "outputs": [],
   "source": [
    "#multiple inheritance"
   ]
  },
  {
   "cell_type": "code",
   "execution_count": 85,
   "id": "b3d0308b",
   "metadata": {},
   "outputs": [],
   "source": [
    "class A:\n",
    "    def show(self):\n",
    "        print(\"this is in class A\")\n",
    "class B:\n",
    "    def show(self):\n",
    "        print(\"this is in class B\")\n",
    "        \n",
    "class C(A,B):\n",
    "    def show(self):\n",
    "        super().show()\n",
    "        print(\"this is in class C\")"
   ]
  },
  {
   "cell_type": "code",
   "execution_count": 86,
   "id": "a7390ca8",
   "metadata": {},
   "outputs": [],
   "source": [
    "c1 = C()"
   ]
  },
  {
   "cell_type": "code",
   "execution_count": 87,
   "id": "cfed7fd7",
   "metadata": {},
   "outputs": [
    {
     "name": "stdout",
     "output_type": "stream",
     "text": [
      "this is in class A\n",
      "this is in class C\n"
     ]
    }
   ],
   "source": [
    "c1.show()"
   ]
  },
  {
   "cell_type": "markdown",
   "id": "6828a1e0",
   "metadata": {},
   "source": [
    "# Polymorphism"
   ]
  },
  {
   "cell_type": "markdown",
   "id": "26eba052",
   "metadata": {},
   "source": [
    "In Python, Polymorphism lets us define methods in the child class that have the same name as the methods in the parent class. In inheritance, the child class inherits the methods from the parent class. However, it is possible to modify a method in a child class that it has inherited from the parent class."
   ]
  },
  {
   "cell_type": "markdown",
   "id": "fcf7fa36",
   "metadata": {},
   "source": [
    "there are 4 ways in implementing polymorphism\n",
    "+ duck typing\n",
    "+ operator overloading\n",
    "+ method overloading\n",
    "+ method overriding"
   ]
  },
  {
   "cell_type": "markdown",
   "id": "d3e8e124",
   "metadata": {},
   "source": [
    "### 1.Duck typing "
   ]
  },
  {
   "cell_type": "code",
   "execution_count": 93,
   "id": "9093fb79",
   "metadata": {},
   "outputs": [
    {
     "name": "stdout",
     "output_type": "stream",
     "text": [
      "fly with wings\n",
      "fly with fuel\n"
     ]
    },
    {
     "ename": "AttributeError",
     "evalue": "'Fish' object has no attribute 'fly'",
     "output_type": "error",
     "traceback": [
      "\u001b[1;31m---------------------------------------------------------------------------\u001b[0m",
      "\u001b[1;31mAttributeError\u001b[0m                            Traceback (most recent call last)",
      "\u001b[1;32m~\\AppData\\Local\\Temp\\ipykernel_12988\\1039274033.py\u001b[0m in \u001b[0;36m<module>\u001b[1;34m\u001b[0m\n\u001b[0;32m     16\u001b[0m \u001b[1;33m\u001b[0m\u001b[0m\n\u001b[0;32m     17\u001b[0m \u001b[1;32mfor\u001b[0m \u001b[0mobj\u001b[0m \u001b[1;32min\u001b[0m \u001b[0mBird\u001b[0m\u001b[1;33m(\u001b[0m\u001b[1;33m)\u001b[0m\u001b[1;33m,\u001b[0m\u001b[0mAirplane\u001b[0m\u001b[1;33m(\u001b[0m\u001b[1;33m)\u001b[0m\u001b[1;33m,\u001b[0m\u001b[0mFish\u001b[0m\u001b[1;33m(\u001b[0m\u001b[1;33m)\u001b[0m\u001b[1;33m:\u001b[0m\u001b[1;33m\u001b[0m\u001b[1;33m\u001b[0m\u001b[0m\n\u001b[1;32m---> 18\u001b[1;33m     \u001b[0mobj\u001b[0m\u001b[1;33m.\u001b[0m\u001b[0mfly\u001b[0m\u001b[1;33m(\u001b[0m\u001b[1;33m)\u001b[0m\u001b[1;33m\u001b[0m\u001b[1;33m\u001b[0m\u001b[0m\n\u001b[0m",
      "\u001b[1;31mAttributeError\u001b[0m: 'Fish' object has no attribute 'fly'"
     ]
    }
   ],
   "source": [
    "# Python program to demonstrate\n",
    "# duck typing\n",
    "\n",
    "\n",
    "class Bird:\n",
    "    def fly(self):\n",
    "        print(\"fly with wings\")\n",
    "\n",
    "class Airplane:\n",
    "    def fly(self):\n",
    "        print(\"fly with fuel\")\n",
    "\n",
    "class Fish:\n",
    "    def swim(self):\n",
    "        print(\"fish swim in sea\")\n",
    "\n",
    "for obj in Bird(),Airplane(),Fish():\n",
    "    obj.fly()"
   ]
  },
  {
   "cell_type": "markdown",
   "id": "2a17cbf1",
   "metadata": {},
   "source": [
    "# Abstract class and Abstract method"
   ]
  },
  {
   "cell_type": "code",
   "execution_count": 94,
   "id": "7a025bbd",
   "metadata": {},
   "outputs": [],
   "source": [
    "from abc import ABC,abstractmethod"
   ]
  },
  {
   "cell_type": "code",
   "execution_count": 103,
   "id": "4e77aa11",
   "metadata": {},
   "outputs": [],
   "source": [
    "class computer(ABC):\n",
    "    @abstractmethod\n",
    "    def process(self):\n",
    "        pass"
   ]
  },
  {
   "cell_type": "code",
   "execution_count": 104,
   "id": "0d9b7626",
   "metadata": {},
   "outputs": [
    {
     "ename": "TypeError",
     "evalue": "Can't instantiate abstract class computer with abstract method process",
     "output_type": "error",
     "traceback": [
      "\u001b[1;31m---------------------------------------------------------------------------\u001b[0m",
      "\u001b[1;31mTypeError\u001b[0m                                 Traceback (most recent call last)",
      "\u001b[1;32m~\\AppData\\Local\\Temp\\ipykernel_12988\\1880681815.py\u001b[0m in \u001b[0;36m<module>\u001b[1;34m\u001b[0m\n\u001b[1;32m----> 1\u001b[1;33m \u001b[0mc1\u001b[0m \u001b[1;33m=\u001b[0m \u001b[0mcomputer\u001b[0m\u001b[1;33m(\u001b[0m\u001b[1;33m)\u001b[0m\u001b[1;33m\u001b[0m\u001b[1;33m\u001b[0m\u001b[0m\n\u001b[0m",
      "\u001b[1;31mTypeError\u001b[0m: Can't instantiate abstract class computer with abstract method process"
     ]
    }
   ],
   "source": [
    "c1 = computer()"
   ]
  },
  {
   "cell_type": "code",
   "execution_count": 105,
   "id": "06b4cc79",
   "metadata": {},
   "outputs": [],
   "source": [
    "class computer(ABC):\n",
    "    @abstractmethod\n",
    "    def process(self):\n",
    "        pass\n",
    "class laptop(computer):\n",
    "    def process(self):\n",
    "        print(\"running\")"
   ]
  },
  {
   "cell_type": "markdown",
   "id": "c3aca77d",
   "metadata": {},
   "source": [
    "c1 = computer()"
   ]
  },
  {
   "cell_type": "code",
   "execution_count": 106,
   "id": "556acfdc",
   "metadata": {},
   "outputs": [],
   "source": [
    "c1 = laptop()"
   ]
  },
  {
   "cell_type": "code",
   "execution_count": 107,
   "id": "4e7f45f8",
   "metadata": {},
   "outputs": [
    {
     "name": "stdout",
     "output_type": "stream",
     "text": [
      "running\n"
     ]
    }
   ],
   "source": [
    "c1.process()"
   ]
  },
  {
   "cell_type": "markdown",
   "id": "c644a20a",
   "metadata": {},
   "source": [
    "# Iterators"
   ]
  },
  {
   "cell_type": "markdown",
   "id": "4ceba2ab",
   "metadata": {},
   "source": [
    "An iterator is an object that contains a countable number of values.\n",
    "\n",
    "An iterator is an object that can be iterated upon, meaning that you can traverse through all the values.\n",
    "\n",
    "Technically, in Python, an iterator is an object which implements the iterator protocol, which consist of the methods __iter__() and __next__().\n",
    "\n"
   ]
  },
  {
   "cell_type": "code",
   "execution_count": 1,
   "id": "8538169e",
   "metadata": {},
   "outputs": [
    {
     "name": "stdout",
     "output_type": "stream",
     "text": [
      "2\n"
     ]
    }
   ],
   "source": [
    "nums = [2,8,4,7,10]\n",
    "it = iter(nums)\n",
    "print(it.__next__())"
   ]
  },
  {
   "cell_type": "code",
   "execution_count": 2,
   "id": "680f4ead",
   "metadata": {},
   "outputs": [
    {
     "name": "stdout",
     "output_type": "stream",
     "text": [
      "8\n"
     ]
    }
   ],
   "source": [
    "print(it.__next__())"
   ]
  },
  {
   "cell_type": "code",
   "execution_count": 3,
   "id": "5c426828",
   "metadata": {},
   "outputs": [
    {
     "name": "stdout",
     "output_type": "stream",
     "text": [
      "4\n"
     ]
    }
   ],
   "source": [
    "print(it.__next__())"
   ]
  },
  {
   "cell_type": "code",
   "execution_count": 4,
   "id": "862b5879",
   "metadata": {},
   "outputs": [
    {
     "name": "stdout",
     "output_type": "stream",
     "text": [
      "7\n"
     ]
    }
   ],
   "source": [
    "print(it.__next__())"
   ]
  },
  {
   "cell_type": "code",
   "execution_count": 5,
   "id": "0e389184",
   "metadata": {},
   "outputs": [
    {
     "name": "stdout",
     "output_type": "stream",
     "text": [
      "10\n"
     ]
    }
   ],
   "source": [
    "print(it.__next__())"
   ]
  },
  {
   "cell_type": "code",
   "execution_count": 6,
   "id": "40cb0af1",
   "metadata": {},
   "outputs": [
    {
     "ename": "StopIteration",
     "evalue": "",
     "output_type": "error",
     "traceback": [
      "\u001b[1;31m---------------------------------------------------------------------------\u001b[0m",
      "\u001b[1;31mStopIteration\u001b[0m                             Traceback (most recent call last)",
      "\u001b[1;32m~\\AppData\\Local\\Temp\\ipykernel_12516\\4042985278.py\u001b[0m in \u001b[0;36m<module>\u001b[1;34m\u001b[0m\n\u001b[1;32m----> 1\u001b[1;33m \u001b[0mprint\u001b[0m\u001b[1;33m(\u001b[0m\u001b[0mit\u001b[0m\u001b[1;33m.\u001b[0m\u001b[0m__next__\u001b[0m\u001b[1;33m(\u001b[0m\u001b[1;33m)\u001b[0m\u001b[1;33m)\u001b[0m\u001b[1;33m\u001b[0m\u001b[1;33m\u001b[0m\u001b[0m\n\u001b[0m",
      "\u001b[1;31mStopIteration\u001b[0m: "
     ]
    }
   ],
   "source": [
    "print(it.__next__())"
   ]
  },
  {
   "cell_type": "markdown",
   "id": "9873855b",
   "metadata": {},
   "source": [
    "# Generators"
   ]
  },
  {
   "cell_type": "markdown",
   "id": "1628c9e8",
   "metadata": {},
   "source": [
    "A generator function in Python is defined like a normal function, but whenever it needs to generate a value, it does so with the yield keyword rather than return. If the body of a def contains yield, the function automatically becomes a Python generator function. "
   ]
  },
  {
   "cell_type": "markdown",
   "id": "14029df5",
   "metadata": {},
   "source": [
    "In Python, similar to defining a normal function, we can define a generator function using the def keyword, but instead of the return statement we use the yield statement."
   ]
  },
  {
   "cell_type": "code",
   "execution_count": 7,
   "id": "bad03ad5",
   "metadata": {},
   "outputs": [
    {
     "name": "stdout",
     "output_type": "stream",
     "text": [
      "0\n",
      "1\n",
      "2\n"
     ]
    }
   ],
   "source": [
    "def my_generator(n):\n",
    "\n",
    "    # initialize counter\n",
    "    value = 0\n",
    "\n",
    "    # loop until counter is less than n\n",
    "    while value < n:\n",
    "\n",
    "        # produce the current value of the counter\n",
    "        yield value\n",
    "\n",
    "        # increment the counter\n",
    "        value += 1\n",
    "\n",
    "# iterate over the generator object produced by my_generator\n",
    "for value in my_generator(3):\n",
    "\n",
    "    # print each value produced by generator\n",
    "    print(value)"
   ]
  },
  {
   "cell_type": "markdown",
   "id": "ddc42a6f",
   "metadata": {},
   "source": [
    "The yield keyword in Python is similar to a return statement used for returning values in Python which returns a generator object to the one who calls the function which contains yield, instead of simply returning a value"
   ]
  },
  {
   "cell_type": "code",
   "execution_count": null,
   "id": "a7811ec5",
   "metadata": {},
   "outputs": [],
   "source": []
  }
 ],
 "metadata": {
  "kernelspec": {
   "display_name": "Python 3 (ipykernel)",
   "language": "python",
   "name": "python3"
  },
  "language_info": {
   "codemirror_mode": {
    "name": "ipython",
    "version": 3
   },
   "file_extension": ".py",
   "mimetype": "text/x-python",
   "name": "python",
   "nbconvert_exporter": "python",
   "pygments_lexer": "ipython3",
   "version": "3.9.13"
  }
 },
 "nbformat": 4,
 "nbformat_minor": 5
}
