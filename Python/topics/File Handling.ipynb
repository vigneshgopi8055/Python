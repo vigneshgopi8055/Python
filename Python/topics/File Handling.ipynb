{
 "cells": [
  {
   "cell_type": "markdown",
   "id": "fb008c71",
   "metadata": {},
   "source": [
    "The file handling plays an important role when the data needs to be stored permanently into the file. A file is a named location on disk to store related information. We can access the stored information (non-volatile) after the program termination.\n",
    "\n",
    "The file-handling implementation is slightly lengthy or complicated in the other programming language, but it is easier and shorter in Python."
   ]
  },
  {
   "cell_type": "markdown",
   "id": "80b51919",
   "metadata": {},
   "source": [
    "In Python, files are treated in two modes as text or binary. The file may be in the text or binary format, and each line of a file is ended with the special character.\n",
    "\n",
    "Hence, a file operation can be done in the following order.\n",
    "\n",
    "+ Open a file\n",
    "+ Read or write - Performing operation\n",
    "+ Close the file"
   ]
  },
  {
   "cell_type": "markdown",
   "id": "4518b1fe",
   "metadata": {},
   "source": [
    "# Opening a file"
   ]
  },
  {
   "cell_type": "markdown",
   "id": "db67e821",
   "metadata": {},
   "source": [
    "Python provides an open() function that accepts two arguments, file name and access mode in which the file is accessed. The function returns a file object which can be used to perform various operations like reading, writing, etc."
   ]
  },
  {
   "cell_type": "markdown",
   "id": "d1c749e6",
   "metadata": {},
   "source": [
    "Syntax:\n",
    "\n",
    "file object = open(<#file-name>, <#access-mode>, <#buffering>)    "
   ]
  },
  {
   "cell_type": "code",
   "execution_count": 11,
   "id": "ddfa14d4",
   "metadata": {},
   "outputs": [
    {
     "name": "stdout",
     "output_type": "stream",
     "text": [
      "<_io.TextIOWrapper name='vignesh.txt' mode='r' encoding='cp1252'>\n",
      "kj34rio23jtpk3tk2[3kp3kfpj3rpji23kjp13k4r'k3][pfj0qi3ji3j[p3jtpm13rmo13n4tioj\n"
     ]
    }
   ],
   "source": [
    "fileptr = open(\"vignesh.txt\",\"r\")    \n",
    "    \n",
    "print(fileptr)\n",
    "txt = fileptr.read()\n",
    "print(txt)\n",
    "fileptr.close()\n",
    "    "
   ]
  },
  {
   "cell_type": "code",
   "execution_count": 13,
   "id": "77ed8e7a",
   "metadata": {},
   "outputs": [
    {
     "name": "stdout",
     "output_type": "stream",
     "text": [
      "<_io.TextIOWrapper name='vignesh2' mode='w' encoding='cp1252'>\n"
     ]
    }
   ],
   "source": [
    "f = open('vignesh2','w')\n",
    "print(f)"
   ]
  },
  {
   "cell_type": "markdown",
   "id": "f1508848",
   "metadata": {},
   "source": [
    "+ read(r) : read mode opens the file and throws an error if the file doesnt exist. This is the default mode\n",
    "+ write(w) : write mode opens the file for writing only and creates a new file if the file doesn't exist\n",
    "+ append(a): this mode appends or adds the data to the existing file and also creates new file if it doesn't exist\n",
    "+ create(x) : this mode helps in creating a file and gives an error if the file already exists\n",
    "+ binary(b) : used to handle binary files(ex : pdfs,images..etc)"
   ]
  },
  {
   "cell_type": "code",
   "execution_count": 17,
   "id": "eec0d3b3",
   "metadata": {},
   "outputs": [
    {
     "name": "stdout",
     "output_type": "stream",
     "text": [
      "hello vignesh\n"
     ]
    }
   ],
   "source": [
    "f = open('vignesh2','w')\n",
    "f.write(\"hello vignesh\")\n",
    "\n",
    "fileptr = open('vignesh2','r')\n",
    "txt = fileptr.read()\n",
    "print(txt)\n",
    "f.close()\n",
    "fileptr.close()"
   ]
  },
  {
   "cell_type": "markdown",
   "id": "de52d923",
   "metadata": {},
   "source": [
    "# The with statement"
   ]
  },
  {
   "cell_type": "markdown",
   "id": "3d4ff728",
   "metadata": {},
   "source": [
    "we use with statement we we doesnt use the function close().The with statement was introduced in python 2.5. The with statement is useful in the case of manipulating the files. It is used in the scenario where a pair of statements is to be executed with a block of code in between."
   ]
  },
  {
   "cell_type": "code",
   "execution_count": 24,
   "id": "e62d3503",
   "metadata": {},
   "outputs": [],
   "source": [
    "with open('vignesh2.txt','a') as f:\n",
    "    f.write('how are you')"
   ]
  },
  {
   "cell_type": "code",
   "execution_count": 26,
   "id": "c6f96381",
   "metadata": {},
   "outputs": [
    {
     "name": "stdout",
     "output_type": "stream",
     "text": [
      "how are youhow are youhow are you\n"
     ]
    }
   ],
   "source": [
    "fileptr = open('vignesh2.txt','r')\n",
    "txt = fileptr.read()\n",
    "print(txt)\n",
    "f.close()"
   ]
  },
  {
   "cell_type": "code",
   "execution_count": 34,
   "id": "569a676e",
   "metadata": {},
   "outputs": [
    {
     "ename": "FileExistsError",
     "evalue": "[Errno 17] File exists: 'example'",
     "output_type": "error",
     "traceback": [
      "\u001b[1;31m---------------------------------------------------------------------------\u001b[0m",
      "\u001b[1;31mFileExistsError\u001b[0m                           Traceback (most recent call last)",
      "\u001b[1;32m~\\AppData\\Local\\Temp\\ipykernel_2900\\3285889560.py\u001b[0m in \u001b[0;36m<module>\u001b[1;34m\u001b[0m\n\u001b[1;32m----> 1\u001b[1;33m \u001b[0mf\u001b[0m \u001b[1;33m=\u001b[0m \u001b[0mopen\u001b[0m\u001b[1;33m(\u001b[0m\u001b[1;34m'example'\u001b[0m\u001b[1;33m,\u001b[0m\u001b[1;34m'x'\u001b[0m\u001b[1;33m)\u001b[0m\u001b[1;33m\u001b[0m\u001b[1;33m\u001b[0m\u001b[0m\n\u001b[0m",
      "\u001b[1;31mFileExistsError\u001b[0m: [Errno 17] File exists: 'example'"
     ]
    }
   ],
   "source": [
    "f = open('example','x')"
   ]
  },
  {
   "cell_type": "code",
   "execution_count": 28,
   "id": "51475d43",
   "metadata": {},
   "outputs": [
    {
     "name": "stdout",
     "output_type": "stream",
     "text": [
      "<_io.TextIOWrapper name='example' mode='x' encoding='cp1252'>\n"
     ]
    }
   ],
   "source": [
    "print(f)"
   ]
  },
  {
   "cell_type": "code",
   "execution_count": 33,
   "id": "0a5205ea",
   "metadata": {},
   "outputs": [
    {
     "ename": "UnsupportedOperation",
     "evalue": "not writable",
     "output_type": "error",
     "traceback": [
      "\u001b[1;31m---------------------------------------------------------------------------\u001b[0m",
      "\u001b[1;31mUnsupportedOperation\u001b[0m                      Traceback (most recent call last)",
      "\u001b[1;32m~\\AppData\\Local\\Temp\\ipykernel_2900\\3297955766.py\u001b[0m in \u001b[0;36m<module>\u001b[1;34m\u001b[0m\n\u001b[1;32m----> 1\u001b[1;33m \u001b[0mf\u001b[0m\u001b[1;33m.\u001b[0m\u001b[0mwrite\u001b[0m\u001b[1;33m(\u001b[0m\u001b[1;34m\"this is an example file\"\u001b[0m\u001b[1;33m)\u001b[0m\u001b[1;33m\u001b[0m\u001b[1;33m\u001b[0m\u001b[0m\n\u001b[0m",
      "\u001b[1;31mUnsupportedOperation\u001b[0m: not writable"
     ]
    }
   ],
   "source": [
    "f.write(\"this is an example file\")"
   ]
  },
  {
   "cell_type": "code",
   "execution_count": 35,
   "id": "91a1213a",
   "metadata": {},
   "outputs": [
    {
     "name": "stdout",
     "output_type": "stream",
     "text": [
      "hello this is example text\n"
     ]
    }
   ],
   "source": [
    "f = open('example','r')\n",
    "txt = f.read()\n",
    "print(txt)"
   ]
  },
  {
   "cell_type": "markdown",
   "id": "e05ea937",
   "metadata": {},
   "source": [
    "# readlines() method"
   ]
  },
  {
   "cell_type": "markdown",
   "id": "fc4fb6dc",
   "metadata": {},
   "source": [
    "read line method is used to read the file line by line"
   ]
  },
  {
   "cell_type": "code",
   "execution_count": null,
   "id": "b8ab309c",
   "metadata": {},
   "outputs": [],
   "source": []
  }
 ],
 "metadata": {
  "kernelspec": {
   "display_name": "Python 3 (ipykernel)",
   "language": "python",
   "name": "python3"
  },
  "language_info": {
   "codemirror_mode": {
    "name": "ipython",
    "version": 3
   },
   "file_extension": ".py",
   "mimetype": "text/x-python",
   "name": "python",
   "nbconvert_exporter": "python",
   "pygments_lexer": "ipython3",
   "version": "3.9.13"
  }
 },
 "nbformat": 4,
 "nbformat_minor": 5
}
