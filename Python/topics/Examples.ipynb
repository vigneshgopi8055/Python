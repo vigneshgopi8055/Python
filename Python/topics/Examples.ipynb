{
 "cells": [
  {
   "cell_type": "markdown",
   "id": "192f1aeb",
   "metadata": {},
   "source": [
    "# Simple calculator"
   ]
  },
  {
   "cell_type": "code",
   "execution_count": 1,
   "id": "29288bb7",
   "metadata": {},
   "outputs": [
    {
     "name": "stdout",
     "output_type": "stream",
     "text": [
      "Enter the value of a : 5\n",
      "Enter the value of b : 6\n",
      "Enter the operator+\n",
      "11\n"
     ]
    }
   ],
   "source": [
    "\n",
    "    a = int(input('Enter the value of a : '))\n",
    "    b = int(input('Enter the value of b : '))\n",
    "    op = str(input('Enter the operator'))\n",
    "    if(op == '+'):\n",
    "        print(a+b)\n",
    "    elif(op == '-'):\n",
    "        print(a-b)\n",
    "    elif(op == '*'):\n",
    "        print(a*b)\n",
    "    elif(op == '/'):\n",
    "        print(a/b)\n",
    "    elif(op == '**'):\n",
    "        print(a**b)\n",
    "    elif(op == '//'):\n",
    "        print(a//b)\n",
    "    else:\n",
    "        print('invalid operator')\n",
    "        \n",
    "    "
   ]
  },
  {
   "cell_type": "markdown",
   "id": "83f764ba",
   "metadata": {},
   "source": [
    "# Python program to print a table"
   ]
  },
  {
   "cell_type": "code",
   "execution_count": 2,
   "id": "78924196",
   "metadata": {},
   "outputs": [
    {
     "name": "stdout",
     "output_type": "stream",
     "text": [
      "enter the table99\n",
      "99 x 1 = 99\n",
      "99 x 2 = 198\n",
      "99 x 3 = 297\n",
      "99 x 4 = 396\n",
      "99 x 5 = 495\n",
      "99 x 6 = 594\n",
      "99 x 7 = 693\n",
      "99 x 8 = 792\n",
      "99 x 9 = 891\n",
      "99 x 10 = 990\n"
     ]
    }
   ],
   "source": [
    "n = int(input('enter the table'))\n",
    "i = 1\n",
    "while(i<=10):\n",
    "    print(n ,'x' , i , '=' , n*i)\n",
    "    i = i+1"
   ]
  },
  {
   "cell_type": "markdown",
   "id": "b811a020",
   "metadata": {},
   "source": [
    "# Python program for sum of squares of the first 15 natural numbers using a while loop. "
   ]
  },
  {
   "cell_type": "code",
   "execution_count": 3,
   "id": "a90d62ec",
   "metadata": {},
   "outputs": [
    {
     "name": "stdout",
     "output_type": "stream",
     "text": [
      "1240\n"
     ]
    }
   ],
   "source": [
    "sum = 0\n",
    "i = 1\n",
    "while(i<=15):\n",
    "    sum = sum+i**2\n",
    "    i = i+1\n",
    "print(sum)"
   ]
  },
  {
   "cell_type": "markdown",
   "id": "e0674a9d",
   "metadata": {},
   "source": [
    "# Prime Numbers and Python While Loop\n",
    "Using a while loop, we will construct a Python program to verify if the given integer is a prime number or not."
   ]
  },
  {
   "cell_type": "code",
   "execution_count": 4,
   "id": "fcd29d43",
   "metadata": {},
   "outputs": [
    {
     "name": "stdout",
     "output_type": "stream",
     "text": [
      "enter the number: 3\n",
      "3 is a prime number\n"
     ]
    }
   ],
   "source": [
    "num = int(input('enter the number: '))\n",
    "if num > 1:\n",
    "    # Iterate from 2 to n / 2\n",
    "    for i in range(2, int(num/2)+1):\n",
    "        # If num is divisible by any number between\n",
    "        # 2 and n / 2, it is not prime\n",
    "        if (num % i) == 0:\n",
    "            print(num, \"is not a prime number\")\n",
    "            break\n",
    "    else:\n",
    "        print(num, \"is a prime number\")\n",
    "else:\n",
    "    print(num, \"is not a prime number\")"
   ]
  },
  {
   "cell_type": "markdown",
   "id": "f465b4a2",
   "metadata": {},
   "source": [
    "# Factorial of a number"
   ]
  },
  {
   "cell_type": "code",
   "execution_count": 5,
   "id": "600174ad",
   "metadata": {},
   "outputs": [
    {
     "name": "stdout",
     "output_type": "stream",
     "text": [
      "enter the value5\n",
      "120\n"
     ]
    }
   ],
   "source": [
    "n = int(input('enter the value'))\n",
    "fact = 1\n",
    "for i in range(1,n+1):\n",
    "    fact = fact*i\n",
    "print(fact)"
   ]
  },
  {
   "cell_type": "markdown",
   "id": "3d050c05",
   "metadata": {},
   "source": [
    "# Fibonacci series"
   ]
  },
  {
   "cell_type": "code",
   "execution_count": 6,
   "id": "02b37fa9",
   "metadata": {},
   "outputs": [
    {
     "name": "stdout",
     "output_type": "stream",
     "text": [
      "Enter the value10\n",
      "0\n",
      "1\n",
      "1\n",
      "2\n",
      "3\n",
      "5\n",
      "8\n",
      "13\n",
      "21\n",
      "34\n",
      "55\n"
     ]
    }
   ],
   "source": [
    "n = int(input('Enter the value'))\n",
    "n1 = 0\n",
    "n2 = 1\n",
    "print(n1)\n",
    "print(n2)\n",
    "for i in range(2,n+1):\n",
    "    n3 = n1+n2\n",
    "    n1 = n2\n",
    "    n2 = n3\n",
    "    print(n3)"
   ]
  },
  {
   "cell_type": "code",
   "execution_count": 7,
   "id": "ef91794f",
   "metadata": {},
   "outputs": [
    {
     "name": "stdout",
     "output_type": "stream",
     "text": [
      "Current Letter: W\n",
      "Current Letter: h\n",
      "Current Letter: l\n",
      "Current Letter:  \n",
      "Current Letter: L\n",
      "Current Letter: p\n",
      "Current Letter: s\n"
     ]
    }
   ],
   "source": [
    "for string in \"While Loops\":  \n",
    "    if string == \"o\" or string == \"i\" or string == \"e\":  \n",
    "         continue  \n",
    "    print('Current Letter:', string)  "
   ]
  },
  {
   "cell_type": "code",
   "execution_count": 8,
   "id": "509ac445",
   "metadata": {},
   "outputs": [
    {
     "name": "stdout",
     "output_type": "stream",
     "text": [
      "Current Letter:  P\n",
      "Current Letter:  y\n",
      "Current Letter:  t\n",
      "Current Letter:  h\n",
      "Current Letter:  o\n"
     ]
    }
   ],
   "source": [
    "for string in \"Python Loops\":  \n",
    "    if string == 'n':  \n",
    "         break  \n",
    "    print('Current Letter: ', string)  "
   ]
  },
  {
   "cell_type": "code",
   "execution_count": 10,
   "id": "194a7bb7",
   "metadata": {},
   "outputs": [
    {
     "name": "stdout",
     "output_type": "stream",
     "text": [
      "Last Letter: s\n"
     ]
    }
   ],
   "source": [
    "for string in \"Python Loops\":  \n",
    "    pass  \n",
    "print( 'Last Letter:', string)   "
   ]
  },
  {
   "cell_type": "markdown",
   "id": "c169f760",
   "metadata": {},
   "source": [
    "# Swapping numbers"
   ]
  },
  {
   "cell_type": "markdown",
   "id": "4d7c99b9",
   "metadata": {},
   "source": [
    "Using a temporary variable"
   ]
  },
  {
   "cell_type": "code",
   "execution_count": 1,
   "id": "f4ff17dd",
   "metadata": {},
   "outputs": [
    {
     "name": "stdout",
     "output_type": "stream",
     "text": [
      "10\n",
      "5\n"
     ]
    }
   ],
   "source": [
    "# Python program to swap two variables\n",
    "\n",
    "x = 5\n",
    "y = 10\n",
    "temp = x\n",
    "x = y\n",
    "y = temp\n",
    "print(x)\n",
    "print(y)"
   ]
  },
  {
   "cell_type": "markdown",
   "id": "8d364f80",
   "metadata": {},
   "source": [
    "Without Using Temporary Variable"
   ]
  },
  {
   "cell_type": "code",
   "execution_count": 2,
   "id": "568b0e69",
   "metadata": {},
   "outputs": [
    {
     "name": "stdout",
     "output_type": "stream",
     "text": [
      "x = 10\n",
      "y = 5\n"
     ]
    }
   ],
   "source": [
    "x = 5\n",
    "y = 10\n",
    "\n",
    "x, y = y, x\n",
    "print(\"x =\", x)\n",
    "print(\"y =\", y)"
   ]
  },
  {
   "cell_type": "markdown",
   "id": "b3e0989a",
   "metadata": {},
   "source": [
    "Addition and Subtraction"
   ]
  },
  {
   "cell_type": "code",
   "execution_count": 3,
   "id": "c8bd4794",
   "metadata": {},
   "outputs": [
    {
     "name": "stdout",
     "output_type": "stream",
     "text": [
      "10\n",
      "5\n"
     ]
    }
   ],
   "source": [
    "x = 5\n",
    "y = 10\n",
    "x = x + y\n",
    "y = x - y\n",
    "x = x - y\n",
    "print(x)\n",
    "print(y)"
   ]
  },
  {
   "cell_type": "markdown",
   "id": "a7d0be8c",
   "metadata": {},
   "source": [
    "Multiplication and Division"
   ]
  },
  {
   "cell_type": "code",
   "execution_count": 4,
   "id": "2f08c656",
   "metadata": {},
   "outputs": [
    {
     "name": "stdout",
     "output_type": "stream",
     "text": [
      "10.0\n",
      "5.0\n"
     ]
    }
   ],
   "source": [
    "x = 5\n",
    "y = 10\n",
    "x = x * y\n",
    "y = x / y\n",
    "x = x / y\n",
    "print(x)\n",
    "print(y)"
   ]
  },
  {
   "cell_type": "markdown",
   "id": "56786919",
   "metadata": {},
   "source": [
    "XOR swap\n",
    "\n",
    "This algorithm works for integers only"
   ]
  },
  {
   "cell_type": "code",
   "execution_count": 5,
   "id": "a630a5bb",
   "metadata": {},
   "outputs": [
    {
     "name": "stdout",
     "output_type": "stream",
     "text": [
      "10\n",
      "5\n"
     ]
    }
   ],
   "source": [
    "x = 5\n",
    "y = 10\n",
    "x = x ^ y\n",
    "y = x ^ y\n",
    "x = x ^ y\n",
    "print(x)\n",
    "print(y)"
   ]
  },
  {
   "cell_type": "markdown",
   "id": "2c21442a",
   "metadata": {},
   "source": [
    "# write a python program to print greeting according to the time "
   ]
  },
  {
   "cell_type": "code",
   "execution_count": 16,
   "id": "d9df2014",
   "metadata": {},
   "outputs": [
    {
     "name": "stdout",
     "output_type": "stream",
     "text": [
      "12:21:30\n",
      "good afternoon\n"
     ]
    }
   ],
   "source": [
    "import time\n",
    "timestamp = time.strftime('%H:%M:%S')\n",
    "hours = int(time.strftime('%H'))\n",
    "minutes = int(time.strftime('%M'))\n",
    "seconds = int(time.strftime('%S'))\n",
    "print(timestamp)\n",
    "if(hours<=11 and minutes <=59):\n",
    "    print(\"good morning\")\n",
    "elif(hours>=12 or hours<3):\n",
    "    print(\"good afternoon\")\n",
    "elif(hours>=3 or hours <6):\n",
    "    print(\"good evening\")\n",
    "else:\n",
    "    print(\"good night\")\n"
   ]
  },
  {
   "cell_type": "code",
   "execution_count": 1,
   "id": "8c13cf5f",
   "metadata": {},
   "outputs": [
    {
     "data": {
      "text/plain": [
       "1"
      ]
     },
     "execution_count": 1,
     "metadata": {},
     "output_type": "execute_result"
    }
   ],
   "source": [
    "7>>2"
   ]
  },
  {
   "cell_type": "code",
   "execution_count": 2,
   "id": "632e3652",
   "metadata": {},
   "outputs": [
    {
     "data": {
      "text/plain": [
       "28"
      ]
     },
     "execution_count": 2,
     "metadata": {},
     "output_type": "execute_result"
    }
   ],
   "source": [
    "7<<2"
   ]
  },
  {
   "cell_type": "code",
   "execution_count": 3,
   "id": "564d489b",
   "metadata": {},
   "outputs": [
    {
     "data": {
      "text/plain": [
       "'0b111'"
      ]
     },
     "execution_count": 3,
     "metadata": {},
     "output_type": "execute_result"
    }
   ],
   "source": [
    "bin(7)"
   ]
  },
  {
   "cell_type": "code",
   "execution_count": 4,
   "id": "5e4e99cd",
   "metadata": {},
   "outputs": [
    {
     "data": {
      "text/plain": [
       "'0b10'"
      ]
     },
     "execution_count": 4,
     "metadata": {},
     "output_type": "execute_result"
    }
   ],
   "source": [
    "bin(2)"
   ]
  },
  {
   "cell_type": "code",
   "execution_count": 5,
   "id": "2b0b32d2",
   "metadata": {},
   "outputs": [
    {
     "data": {
      "text/plain": [
       "381"
      ]
     },
     "execution_count": 5,
     "metadata": {},
     "output_type": "execute_result"
    }
   ],
   "source": [
    "125|265"
   ]
  },
  {
   "cell_type": "code",
   "execution_count": 6,
   "id": "2ab1bb32",
   "metadata": {},
   "outputs": [
    {
     "name": "stdout",
     "output_type": "stream",
     "text": [
      "hello world\n",
      "hello world\n",
      "hello world\n",
      "hello world\n",
      "hello world\n",
      "hello world\n",
      "hello world\n",
      "hello world\n",
      "hello world\n",
      "hello world\n"
     ]
    }
   ],
   "source": [
    "i = 0\n",
    "while(i<10):\n",
    "    print(\"hello world\")\n",
    "    i+=1"
   ]
  },
  {
   "cell_type": "markdown",
   "id": "c91815f6",
   "metadata": {},
   "source": [
    "#  Numbers that are not divisible by 3 and 5 between 1-100"
   ]
  },
  {
   "cell_type": "code",
   "execution_count": 9,
   "id": "5ce8762e",
   "metadata": {},
   "outputs": [
    {
     "name": "stdout",
     "output_type": "stream",
     "text": [
      "1\n",
      "2\n",
      "4\n",
      "7\n",
      "8\n",
      "11\n",
      "13\n",
      "14\n",
      "16\n",
      "17\n",
      "19\n",
      "22\n",
      "23\n",
      "26\n",
      "28\n",
      "29\n",
      "31\n",
      "32\n",
      "34\n",
      "37\n",
      "38\n",
      "41\n",
      "43\n",
      "44\n",
      "46\n",
      "47\n",
      "49\n",
      "52\n",
      "53\n",
      "56\n",
      "58\n",
      "59\n",
      "61\n",
      "62\n",
      "64\n",
      "67\n",
      "68\n",
      "71\n",
      "73\n",
      "74\n",
      "76\n",
      "77\n",
      "79\n",
      "82\n",
      "83\n",
      "86\n",
      "88\n",
      "89\n",
      "91\n",
      "92\n",
      "94\n",
      "97\n",
      "98\n"
     ]
    }
   ],
   "source": [
    "for i in range(1,101):\n",
    "    if(i%3==0 or i%5== 0):\n",
    "        continue\n",
    "    print(i)"
   ]
  },
  {
   "cell_type": "markdown",
   "id": "dbb1b651",
   "metadata": {},
   "source": [
    "# printing square pattern"
   ]
  },
  {
   "cell_type": "code",
   "execution_count": 14,
   "id": "bd573557",
   "metadata": {},
   "outputs": [
    {
     "name": "stdout",
     "output_type": "stream",
     "text": [
      "# # # # # \n",
      "# # # # # \n",
      "# # # # # \n",
      "# # # # # \n",
      "# # # # # \n"
     ]
    }
   ],
   "source": [
    "for i in range(5):\n",
    "    for j in range(5):\n",
    "        print('#',end=\" \")\n",
    "    print()\n",
    "    "
   ]
  },
  {
   "cell_type": "markdown",
   "id": "1ada27d6",
   "metadata": {},
   "source": [
    "# printing triangle"
   ]
  },
  {
   "cell_type": "code",
   "execution_count": 15,
   "id": "bb76fa91",
   "metadata": {},
   "outputs": [
    {
     "name": "stdout",
     "output_type": "stream",
     "text": [
      "\n",
      "# \n",
      "# # \n",
      "# # # \n",
      "# # # # \n"
     ]
    }
   ],
   "source": [
    "for i in range(5):\n",
    "    for j in range(i):\n",
    "        print(\"#\",end = \" \")\n",
    "    print()"
   ]
  },
  {
   "cell_type": "code",
   "execution_count": 17,
   "id": "50a078ed",
   "metadata": {},
   "outputs": [
    {
     "name": "stdout",
     "output_type": "stream",
     "text": [
      "\n",
      "# \n",
      "# # \n",
      "# # # \n",
      "# # # # \n"
     ]
    }
   ],
   "source": [
    "for i in range(5):\n",
    "    for j in range(i):\n",
    "        print(\"#\",end = \" \")\n",
    "    print()"
   ]
  },
  {
   "cell_type": "code",
   "execution_count": 19,
   "id": "a04f0cf9",
   "metadata": {},
   "outputs": [
    {
     "name": "stdout",
     "output_type": "stream",
     "text": [
      "0 0 0 0 0 \n",
      "1 1 1 1 \n",
      "2 2 2 \n",
      "3 3 \n",
      "4 \n"
     ]
    }
   ],
   "source": [
    "for i in range(5):\n",
    "    for j in range(5-i):\n",
    "        print(i,end = \" \")\n",
    "        \n",
    "    print()"
   ]
  },
  {
   "cell_type": "markdown",
   "id": "dbd42991",
   "metadata": {},
   "source": [
    "# Prime numbers"
   ]
  },
  {
   "cell_type": "code",
   "execution_count": 28,
   "id": "f5af15df",
   "metadata": {},
   "outputs": [
    {
     "name": "stdout",
     "output_type": "stream",
     "text": [
      "enter the number3\n",
      "prime\n"
     ]
    }
   ],
   "source": [
    "x = int(input(\"enter the number\"))\n",
    "if(x>1):\n",
    "    \n",
    "    \n",
    "    for i in range(2,int(x/2)+1):\n",
    "        if(x%i==0):\n",
    "            print(\"not prime\")\n",
    "            break\n",
    "    else:\n",
    "        print(\"prime\")\n",
    "else:\n",
    "    print(\"not prime\")"
   ]
  },
  {
   "cell_type": "code",
   "execution_count": 29,
   "id": "a327be61",
   "metadata": {},
   "outputs": [
    {
     "name": "stdout",
     "output_type": "stream",
     "text": [
      "enter the number: 5\n",
      "5 is a prime number\n"
     ]
    }
   ],
   "source": [
    "num = int(input('enter the number: '))\n",
    "if num > 1:\n",
    "    # Iterate from 2 to n / 2\n",
    "    for i in range(2, int(num/2)+1):\n",
    "        # If num is divisible by any number between\n",
    "        # 2 and n / 2, it is not prime\n",
    "        if (num % i) == 0:\n",
    "            print(num, \"is not a prime number\")\n",
    "            break\n",
    "    else:\n",
    "        print(num, \"is a prime number\")\n",
    "else:\n",
    "    print(num, \"is not a prime number\")"
   ]
  },
  {
   "cell_type": "markdown",
   "id": "3f11f7be",
   "metadata": {},
   "source": [
    "# Factorial "
   ]
  },
  {
   "cell_type": "code",
   "execution_count": 31,
   "id": "31ddba64",
   "metadata": {},
   "outputs": [
    {
     "name": "stdout",
     "output_type": "stream",
     "text": [
      "enter the number5\n",
      "120\n"
     ]
    }
   ],
   "source": [
    "x = int(input(\"enter the number\"))\n",
    "res = 1\n",
    "for i in range(1,x+1):\n",
    "    res = res*i\n",
    "print(res)"
   ]
  },
  {
   "cell_type": "code",
   "execution_count": 32,
   "id": "17902f74",
   "metadata": {},
   "outputs": [],
   "source": [
    "import numpy as np"
   ]
  },
  {
   "cell_type": "code",
   "execution_count": 33,
   "id": "f0a6d80f",
   "metadata": {},
   "outputs": [],
   "source": [
    "a = np.array([1,2,3,4,5])"
   ]
  },
  {
   "cell_type": "code",
   "execution_count": 34,
   "id": "8a4d2c8b",
   "metadata": {},
   "outputs": [
    {
     "data": {
      "text/plain": [
       "array([1, 2, 3, 4, 5])"
      ]
     },
     "execution_count": 34,
     "metadata": {},
     "output_type": "execute_result"
    }
   ],
   "source": [
    "a"
   ]
  },
  {
   "cell_type": "code",
   "execution_count": 35,
   "id": "06795c83",
   "metadata": {},
   "outputs": [
    {
     "data": {
      "text/plain": [
       "numpy.ndarray"
      ]
     },
     "execution_count": 35,
     "metadata": {},
     "output_type": "execute_result"
    }
   ],
   "source": [
    "type(a)"
   ]
  },
  {
   "cell_type": "code",
   "execution_count": 36,
   "id": "cfaaa65a",
   "metadata": {},
   "outputs": [],
   "source": [
    "b = np.arange(0,20,2)"
   ]
  },
  {
   "cell_type": "code",
   "execution_count": 37,
   "id": "a1880aa3",
   "metadata": {},
   "outputs": [
    {
     "data": {
      "text/plain": [
       "array([ 0,  2,  4,  6,  8, 10, 12, 14, 16, 18])"
      ]
     },
     "execution_count": 37,
     "metadata": {},
     "output_type": "execute_result"
    }
   ],
   "source": [
    "b"
   ]
  },
  {
   "cell_type": "code",
   "execution_count": 41,
   "id": "6ec726a0",
   "metadata": {},
   "outputs": [],
   "source": [
    "c = np.linspace(1,10,10)"
   ]
  },
  {
   "cell_type": "code",
   "execution_count": 42,
   "id": "f1a53377",
   "metadata": {},
   "outputs": [
    {
     "data": {
      "text/plain": [
       "array([ 1.,  2.,  3.,  4.,  5.,  6.,  7.,  8.,  9., 10.])"
      ]
     },
     "execution_count": 42,
     "metadata": {},
     "output_type": "execute_result"
    }
   ],
   "source": [
    "c"
   ]
  },
  {
   "cell_type": "code",
   "execution_count": 43,
   "id": "0b941ee5",
   "metadata": {},
   "outputs": [],
   "source": [
    "d = np.array([[1,2,3],[4,5,6],[7,8,9]])"
   ]
  },
  {
   "cell_type": "code",
   "execution_count": 44,
   "id": "11c7cb55",
   "metadata": {},
   "outputs": [
    {
     "data": {
      "text/plain": [
       "array([[1, 2, 3],\n",
       "       [4, 5, 6],\n",
       "       [7, 8, 9]])"
      ]
     },
     "execution_count": 44,
     "metadata": {},
     "output_type": "execute_result"
    }
   ],
   "source": [
    "d"
   ]
  },
  {
   "cell_type": "code",
   "execution_count": 48,
   "id": "6675f964",
   "metadata": {},
   "outputs": [],
   "source": [
    "d = np.zeros([3,3])"
   ]
  },
  {
   "cell_type": "code",
   "execution_count": 49,
   "id": "3fa4c1e5",
   "metadata": {},
   "outputs": [
    {
     "data": {
      "text/plain": [
       "array([[0., 0., 0.],\n",
       "       [0., 0., 0.],\n",
       "       [0., 0., 0.]])"
      ]
     },
     "execution_count": 49,
     "metadata": {},
     "output_type": "execute_result"
    }
   ],
   "source": [
    "d"
   ]
  },
  {
   "cell_type": "code",
   "execution_count": 50,
   "id": "e8876741",
   "metadata": {},
   "outputs": [],
   "source": [
    "d = np.ones([3,3])"
   ]
  },
  {
   "cell_type": "code",
   "execution_count": 51,
   "id": "2e3d13ac",
   "metadata": {},
   "outputs": [
    {
     "data": {
      "text/plain": [
       "array([[1., 1., 1.],\n",
       "       [1., 1., 1.],\n",
       "       [1., 1., 1.]])"
      ]
     },
     "execution_count": 51,
     "metadata": {},
     "output_type": "execute_result"
    }
   ],
   "source": [
    "d"
   ]
  },
  {
   "cell_type": "code",
   "execution_count": 55,
   "id": "46c1d064",
   "metadata": {},
   "outputs": [],
   "source": [
    "d = np.eye(4)"
   ]
  },
  {
   "cell_type": "code",
   "execution_count": 56,
   "id": "64f4fda2",
   "metadata": {},
   "outputs": [
    {
     "data": {
      "text/plain": [
       "array([[1., 0., 0., 0.],\n",
       "       [0., 1., 0., 0.],\n",
       "       [0., 0., 1., 0.],\n",
       "       [0., 0., 0., 1.]])"
      ]
     },
     "execution_count": 56,
     "metadata": {},
     "output_type": "execute_result"
    }
   ],
   "source": [
    "d"
   ]
  },
  {
   "cell_type": "code",
   "execution_count": 1,
   "id": "991798bb",
   "metadata": {},
   "outputs": [
    {
     "data": {
      "text/plain": [
       "'0b100'"
      ]
     },
     "execution_count": 1,
     "metadata": {},
     "output_type": "execute_result"
    }
   ],
   "source": [
    "a = 4\n",
    "bin(a)"
   ]
  },
  {
   "cell_type": "code",
   "execution_count": 2,
   "id": "00bbd056",
   "metadata": {},
   "outputs": [
    {
     "data": {
      "text/plain": [
       "'0o4'"
      ]
     },
     "execution_count": 2,
     "metadata": {},
     "output_type": "execute_result"
    }
   ],
   "source": [
    "oct(a)"
   ]
  },
  {
   "cell_type": "code",
   "execution_count": 3,
   "id": "0b2014fc",
   "metadata": {},
   "outputs": [
    {
     "data": {
      "text/plain": [
       "'0x4'"
      ]
     },
     "execution_count": 3,
     "metadata": {},
     "output_type": "execute_result"
    }
   ],
   "source": [
    "hex(a)"
   ]
  },
  {
   "cell_type": "code",
   "execution_count": 4,
   "id": "10beb452",
   "metadata": {},
   "outputs": [],
   "source": [
    "a = 3\n",
    "b = 4\n",
    "a,b = b,a"
   ]
  },
  {
   "cell_type": "code",
   "execution_count": 5,
   "id": "9f834c87",
   "metadata": {},
   "outputs": [
    {
     "data": {
      "text/plain": [
       "4"
      ]
     },
     "execution_count": 5,
     "metadata": {},
     "output_type": "execute_result"
    }
   ],
   "source": [
    "a\n"
   ]
  },
  {
   "cell_type": "code",
   "execution_count": 6,
   "id": "74196255",
   "metadata": {},
   "outputs": [
    {
     "data": {
      "text/plain": [
       "3"
      ]
     },
     "execution_count": 6,
     "metadata": {},
     "output_type": "execute_result"
    }
   ],
   "source": [
    "b"
   ]
  },
  {
   "cell_type": "code",
   "execution_count": 7,
   "id": "8d82d939",
   "metadata": {},
   "outputs": [],
   "source": [
    "a = a+b\n",
    "b = a-b\n",
    "a = a - b"
   ]
  },
  {
   "cell_type": "code",
   "execution_count": 8,
   "id": "1577ba4b",
   "metadata": {},
   "outputs": [
    {
     "data": {
      "text/plain": [
       "3"
      ]
     },
     "execution_count": 8,
     "metadata": {},
     "output_type": "execute_result"
    }
   ],
   "source": [
    "a"
   ]
  },
  {
   "cell_type": "code",
   "execution_count": 9,
   "id": "12abe063",
   "metadata": {},
   "outputs": [
    {
     "data": {
      "text/plain": [
       "4"
      ]
     },
     "execution_count": 9,
     "metadata": {},
     "output_type": "execute_result"
    }
   ],
   "source": [
    "b"
   ]
  },
  {
   "cell_type": "markdown",
   "id": "7ff10bc8",
   "metadata": {},
   "source": [
    "# Kvargs"
   ]
  },
  {
   "cell_type": "code",
   "execution_count": 14,
   "id": "56090bfb",
   "metadata": {},
   "outputs": [
    {
     "name": "stdout",
     "output_type": "stream",
     "text": [
      "vignesh\n",
      "{'age': 21, 'place': 'hyd'}\n",
      "age 21\n",
      "place hyd\n"
     ]
    }
   ],
   "source": [
    "def person(name,**data):\n",
    "    print(name)\n",
    "    print(data)\n",
    "    for i,j in data.items():\n",
    "        print(i,j)\n",
    "    \n",
    "p = person(\"vignesh\" , age = 21, place=\"hyd\")"
   ]
  },
  {
   "cell_type": "code",
   "execution_count": 17,
   "id": "c40fc2d9",
   "metadata": {},
   "outputs": [
    {
     "name": "stdout",
     "output_type": "stream",
     "text": [
      "even :  5\n",
      "odd :  5\n"
     ]
    }
   ],
   "source": [
    "lst = [1,2,3,4,5,6,7,8,9,10]\n",
    "def count(lst):\n",
    "    even = 0\n",
    "    odd = 0\n",
    "    for i in lst:\n",
    "        if(i%2==0):\n",
    "            even+=1\n",
    "        else:\n",
    "            odd+=1\n",
    "    print(\"even : \" , even)\n",
    "    print(\"odd : \" , odd)\n",
    "count(lst)"
   ]
  },
  {
   "cell_type": "code",
   "execution_count": 13,
   "id": "6b3cb037",
   "metadata": {},
   "outputs": [
    {
     "name": "stdout",
     "output_type": "stream",
     "text": [
      "0\n",
      "1\n",
      "1\n",
      "2\n",
      "3\n",
      "5\n",
      "8\n",
      "13\n",
      "21\n",
      "34\n",
      "55\n"
     ]
    }
   ],
   "source": [
    "def fib(n):\n",
    "    a = 0\n",
    "    b = 1\n",
    "    if n == 1:\n",
    "        print(a)\n",
    "    elif(n<1):\n",
    "        print(\"invalid number\")\n",
    "    else:\n",
    "        print(a)\n",
    "        print(b)\n",
    "        for i in range(2,n+1):\n",
    "            c = a+b\n",
    "            a = b\n",
    "            b = c\n",
    "            print(c)\n",
    "fib(10)"
   ]
  },
  {
   "cell_type": "code",
   "execution_count": 16,
   "id": "85d77e2e",
   "metadata": {},
   "outputs": [
    {
     "data": {
      "text/plain": [
       "120"
      ]
     },
     "execution_count": 16,
     "metadata": {},
     "output_type": "execute_result"
    }
   ],
   "source": [
    "def fact(n):\n",
    "    res = 1\n",
    "    for i in range(1,n+1):\n",
    "        res = res*i\n",
    "    return res\n",
    "\n",
    "fact(5)\n",
    "        "
   ]
  },
  {
   "cell_type": "code",
   "execution_count": null,
   "id": "dea17fe4",
   "metadata": {},
   "outputs": [],
   "source": []
  }
 ],
 "metadata": {
  "kernelspec": {
   "display_name": "Python 3 (ipykernel)",
   "language": "python",
   "name": "python3"
  },
  "language_info": {
   "codemirror_mode": {
    "name": "ipython",
    "version": 3
   },
   "file_extension": ".py",
   "mimetype": "text/x-python",
   "name": "python",
   "nbconvert_exporter": "python",
   "pygments_lexer": "ipython3",
   "version": "3.9.13"
  }
 },
 "nbformat": 4,
 "nbformat_minor": 5
}
