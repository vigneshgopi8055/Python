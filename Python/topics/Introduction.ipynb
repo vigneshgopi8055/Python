{
 "cells": [
  {
   "cell_type": "markdown",
   "id": "d28a9849",
   "metadata": {},
   "source": [
    "Python is a general-purpose, dynamic, high-level, and interpreted programming language. It supports Object Oriented programming approach to develop applications. It is simple and easy to learn and provides lots of high-level data structures.\n",
    "\n",
    "Python is an easy-to-learn yet powerful and versatile scripting language, which makes it attractive for Application Development.\n",
    "\n",
    "With its interpreted nature, Python's syntax and dynamic typing make it an ideal language for scripting and rapid application development.\n",
    "\n",
    "Python supports multiple programming patterns, including object-oriented, imperative, and functional or procedural programming styles.\n",
    "\n",
    "Python is not intended to work in a particular area, such as web programming. It is a multipurpose programming language because it can be used with web, enterprise, 3D CAD, etc.\n",
    "\n",
    "We don't need to use data types to declare variable because it is dynamically typed, so we can write a=10 to assign an integer value in an integer variable.\n",
    "\n",
    "Python makes development and debugging fast because no compilation step is included in Python development, and the edit-test-debug cycle is very fast.\n",
    "\n",
    "Python has many web-based assets, open-source projects, and a vibrant community. Learning the language, working together on projects, and contributing to the Python ecosystem are all made very easy for developers.\n",
    "\n",
    "\n",
    "Because of its straightforward language framework, Python is easier to understand and write code in. This makes it a fantastic programming language for novices. Additionally, it assists seasoned programmers in writing clearer, error-free code.\n",
    "\n",
    "Python is an open-source, cost-free programming language. It is utilized in several sectors and disciplines as a result.\n",
    "\n",
    "In Python, code readability and maintainability are important. As a result, even if the code was developed by someone else, it is easy to understand and adapt by some other developer.\n",
    "\n",
    "Python has many third-party libraries that can be used to make its functionality easier. These libraries cover many domains, for example, web development, scientific computing, data analysis, and more."
   ]
  },
  {
   "cell_type": "markdown",
   "id": "aaf2f2b5",
   "metadata": {},
   "source": [
    "### Python has been an inspiration for many other coding languages such as Ruby, Cobra, Boo, CoffeeScript ECMAScript, Groovy, Swift Go, OCaml, Julia, etc."
   ]
  },
  {
   "cell_type": "markdown",
   "id": "e61b4e83",
   "metadata": {},
   "source": [
    "Python 3.11.4, documentation released on 6 June 2023 is the latest version of python"
   ]
  },
  {
   "cell_type": "markdown",
   "id": "bcdd370f",
   "metadata": {},
   "source": [
    "# What is programming "
   ]
  },
  {
   "cell_type": "markdown",
   "id": "61c7a1b8",
   "metadata": {},
   "source": [
    "Programming Language\n",
    "As we know, to communicate with a person, we need a specific language, similarly to communicate with computers, programmers also need a language is called Programming language.\n",
    "\n",
    "Before learning the programming language, let's understand what is language?\n",
    "\n",
    "What is Language?\n",
    "Language is a mode of communication that is used to share ideas, opinions with each other. For example, if we want to teach someone, we need a language that is understandable by both communicators.\n",
    "\n",
    "What is a Programming Language?\n",
    "A programming language is a computer language that is used by programmers (developers) to communicate with computers. It is a set of instructions written in any specific language ( C, C++, Java, Python) to perform a specific task."
   ]
  },
  {
   "cell_type": "markdown",
   "id": "96ab5ef8",
   "metadata": {},
   "source": [
    "# Types fo programming languages"
   ]
  },
  {
   "cell_type": "markdown",
   "id": "e5654621",
   "metadata": {},
   "source": [
    "### 1. Low-level programming language"
   ]
  },
  {
   "cell_type": "markdown",
   "id": "cebb3c19",
   "metadata": {},
   "source": [
    "Low-level language is machine-dependent (0s and 1s) programming language. The processor runs low- level programs directly without the need of a compiler or interpreter, so the programs written in low-level language can be run very fast.\n",
    "\n",
    "Low-level language is further divided into two parts -\n",
    "\n",
    "i. Machine Language\n",
    "\n",
    "Machine language is a type of low-level programming language. It is also called as machine code or object code. Machine language is easier to read because it is normally displayed in binary or hexadecimal form (base 16) form. It does not require a translator to convert the programs because computers directly understand the machine language programs.\n",
    "\n",
    "The advantage of machine language is that it helps the programmer to execute the programs faster than the high-level programming language.\n",
    "\n",
    "ii. Assembly Language\n",
    "\n",
    "Assembly language (ASM) is also a type of low-level programming language that is designed for specific processors. It represents the set of instructions in a symbolic and human-understandable form. It uses an assembler to convert the assembly language to machine language.\n",
    "\n",
    "\n",
    "The advantage of assembly language is that it requires less memory and less execution time to execute a program."
   ]
  },
  {
   "cell_type": "markdown",
   "id": "558d25ea",
   "metadata": {},
   "source": [
    "### 2. High-level programming language"
   ]
  },
  {
   "cell_type": "markdown",
   "id": "e9d5e52b",
   "metadata": {},
   "source": [
    "High-level programming language (HLL) is designed for developing user-friendly software programs and websites. This programming language requires a compiler or interpreter to translate the program into machine language (execute the program).\n",
    "\n",
    "The main advantage of a high-level language is that it is easy to read, write, and maintain.\n",
    "\n",
    "High-level programming language includes Python, Java, JavaScript, PHP, C#, C++, Objective C, Cobol, Perl, Pascal, LISP, FORTRAN, and Swift programming language.\n",
    "\n",
    "A high-level language is further divided into three parts -\n",
    "\n",
    "\n",
    "i. Procedural Oriented programming language\n",
    "\n",
    "Procedural Oriented Programming (POP) language is derived from structured programming and based upon the procedure call concept. It divides a program into small procedures called routines or functions.\n",
    "\n",
    "Procedural Oriented programming language is used by a software programmer to create a program that can be accomplished by using a programming editor like IDE, Adobe Dreamweaver, or Microsoft Visual Studio.\n",
    "\n",
    "\n",
    "The advantage of POP language is that it helps programmers to easily track the program flow and code can be reused in different parts of the program.\n",
    "\n",
    "The advantage of POP language is that it helps programmers to easily track the program flow and code can be reused in different parts of the program.\n",
    "Example: C, FORTRAN, Basic, Pascal, etc.\n",
    "\n",
    "ii. Object-Oriented Programming language\n",
    "\n",
    "Object-Oriented Programming (OOP) language is based upon the objects. In this programming language, programs are divided into small parts called objects. It is used to implement real-world entities like inheritance, polymorphism, abstraction, etc in the program to makes the program resusable, efficient, and easy-to-use.\n",
    "\n",
    "The main advantage of object-oriented programming is that OOP is faster and easier to execute, maintain, modify, as well as debug.\n",
    "\n",
    "Note: Object-Oriented Programming language follows a bottom-up approach.\n",
    "Example: C++, Java, Python, C#, etc.\n",
    "\n",
    "iii. Natural language\n",
    "\n",
    "Natural language is a part of human languages such as English, Russian, German, and Japanese. It is used by machines to understand, manipulate, and interpret human's language. It is used by developers to perform tasks such as translation, automatic summarization, Named Entity Recognition (NER), relationship extraction, and topic segmentation.\n",
    "\n",
    "The main advantage of natural language is that it helps users to ask questions in any subject and directly respond within seconds."
   ]
  },
  {
   "cell_type": "markdown",
   "id": "2211f0a2",
   "metadata": {},
   "source": [
    "### 3. Middle-level programming language"
   ]
  },
  {
   "cell_type": "markdown",
   "id": "787b3e86",
   "metadata": {},
   "source": [
    "Middle-level programming language lies between the low-level programming language and high-level programming language. It is also known as the intermediate programming language and pseudo-language.\n",
    "\n",
    "A middle-level programming language's advantages are that it supports the features of high-level programming, it is a user-friendly language, and closely related to machine language and human language.\n",
    "\n",
    "Example: C, C++, language"
   ]
  },
  {
   "cell_type": "markdown",
   "id": "4dd46fb2",
   "metadata": {},
   "source": [
    "# Why Python"
   ]
  },
  {
   "cell_type": "markdown",
   "id": "8d786acd",
   "metadata": {},
   "source": [
    "Python provides many useful features to the programmer. These features make it the most popular and widely used language. We have listed below few-essential features of Python.\n",
    "\n",
    "+ Easy to use and Learn: Python has a simple and easy-to-understand syntax, unlike traditional languages like C, C++, Java, etc., making it easy for beginners to learn.\n",
    "+ Expressive Language: It allows programmers to express complex concepts in just a few lines of code or reduces Developer's Time.\n",
    "+ Interpreted Language: Python does not require compilation, allowing rapid development and testing. It uses Interpreter instead of Compiler.\n",
    "+ Object-Oriented Language: It supports object-oriented programming, making writing reusable and modular code easy.\n",
    "+ Open Source Language: Python is open source and free to use, distribute and modify.\n",
    "+ Extensible: Python can be extended with modules written in C, C++, or other languages.\n",
    "+ Learn Standard Library: Python's standard library contains many modules and functions that can be used for various tasks, such as string manipulation, web programming, and more.\n",
    "+ GUI Programming Support: Python provides several GUI frameworks, such as Tkinter and PyQt, allowing developers to create desktop applications easily.\n",
    "+ Integrated: Python can easily integrate with other languages and technologies, such as C/C++, Java, and . NET.\n",
    "+ Embeddable: Python code can be embedded into other applications as a scripting language.\n",
    "+ Dynamic Memory Allocation: Python automatically manages memory allocation, making it easier for developers to write complex programs without worrying about memory management.\n",
    "+ Wide Range of Libraries and Frameworks: Python has a vast collection of libraries and frameworks, such as NumPy, Pandas, Django, and Flask, that can be used to solve a wide range of problems.\n",
    "+ Versatility: Python is a universal language in various domains such as web development, machine learning, data analysis, scientific computing, and more.\n",
    "+ Large Community: Python has a vast and active community of developers contributing to its development and offering support. This makes it easy for beginners to get help and learn from experienced developers.\n",
    "+ Career Opportunities: Python is a highly popular language in the job market. Learning Python can open up several career opportunities in data science, artificial intelligence, web development, and more.\n",
    "+ High Demand: With the growing demand for automation and digital transformation, the need for Python developers is rising. Many industries seek skilled Python developers to help build their digital infrastructure.\n",
    "+ Increased Productivity: Python has a simple syntax and powerful libraries that can help developers write code faster and more efficiently. This can increase productivity and save time for developers and organizations.\n",
    "+ Big Data and Machine Learning: Python has become the go-to language for big data and machine learning. Python has become popular among data scientists and machine learning engineers with libraries like NumPy, Pandas, Scikit-learn, TensorFlow, and more."
   ]
  },
  {
   "cell_type": "markdown",
   "id": "7bfc991c",
   "metadata": {},
   "source": [
    "# Where is Python used?"
   ]
  },
  {
   "cell_type": "markdown",
   "id": "3c719e5b",
   "metadata": {},
   "source": [
    "Python is a general-purpose, popular programming language, and it is used in almost every technical field. The various areas of Python use are given below.\n",
    "\n",
    "+ Data Science: Data Science is a vast field, and Python is an important language for this field because of its simplicity, ease of use, and availability of powerful data analysis and visualization libraries like NumPy, Pandas, and Matplotlib.\n",
    "+ Desktop Applications: PyQt and Tkinter are useful libraries that can be used in GUI - Graphical User Interface-based Desktop Applications. There are better languages for this field, but it can be used with other languages for making Applications.\n",
    "+ Console-based Applications: Python is also commonly used to create command-line or console-based applications because of its ease of use and support for advanced features such as input/output redirection and piping.\n",
    "+ Mobile Applications: While Python is not commonly used for creating mobile applications, it can still be combined with frameworks like Kivy or BeeWare to create cross-platform mobile applications.\n",
    "+ Software Development: Python is considered one of the best software-making languages. Python is easily compatible with both from Small Scale to Large Scale software.\n",
    "+ Artificial Intelligence: AI is an emerging Technology, and Python is a perfect language for artificial intelligence and machine learning because of the availability of powerful libraries such as TensorFlow, Keras, and PyTorch.\n",
    "+ Web Applications: Python is commonly used in web development on the backend with frameworks like Django and Flask and on the front end with tools like JavaScript and HTML.\n",
    "+ Enterprise Applications: Python can be used to develop large-scale enterprise applications with features such as distributed computing, networking, and parallel processing.\n",
    "+ 3D CAD Applications: Python can be used for 3D computer-aided design (CAD) applications through libraries such as Blender.\n",
    "+ Machine Learning: Python is widely used for machine learning due to its simplicity, ease of use, and availability of powerful machine learning libraries.\n",
    "+ Computer Vision or Image Processing Applications: Python can be used for computer vision and image processing applications through powerful libraries such as OpenCV and Scikit-image.\n",
    "+ Speech Recognition: Python can be used for speech recognition applications through libraries such as SpeechRecognition and PyAudio.\n",
    "+ Scientific computing: Libraries like NumPy, SciPy, and Pandas provide advanced numerical computing capabilities for tasks like data analysis, machine learning, and more.\n",
    "+ Education: Python's easy-to-learn syntax and availability of many resources make it an ideal language for teaching programming to beginners.\n",
    "+ Testing: Python is used for writing automated tests, providing frameworks like unit tests and pytest that help write test cases and generate reports.\n",
    "+ Gaming: Python has libraries like Pygame, which provide a platform for developing games using Python.\n",
    "+ IoT: Python is used in IoT for developing scripts and applications for devices like Raspberry Pi, Arduino, and others.\n",
    "+ Networking: Python is used in networking for developing scripts and applications for network automation, monitoring, and management.\n",
    "+ DevOps: Python is widely used in DevOps for automation and scripting of infrastructure management, configuration management, and deployment processes.\n",
    "+ Finance: Python has libraries like Pandas, Scikit-learn, and Statsmodels for financial modeling and analysis.\n",
    "+ Audio and Music: Python has libraries like Pyaudio, which is used for audio processing, synthesis, and analysis, and Music21, which is used for music analysis and generation.\n",
    "+ Writing scripts: Python is used for writing utility scripts to automate tasks like file operations, web scraping, and data processing."
   ]
  },
  {
   "cell_type": "markdown",
   "id": "b468bbd3",
   "metadata": {},
   "source": [
    "# Python History and Versions\n",
    "+ Python laid its foundation in the late 1980s.\n",
    "+ The implementation of Python was started in December 1989 by Guido Van Rossum at CWI in Netherland.\n",
    "+ In February 1991, Guido Van Rossum published the code (labeled version 0.9.0) to alt.sources.\n",
    "+ In 1994, Python 1.0 was released with new features like lambda, map, filter, and reduce.\n",
    "+ Python 2.0 added new features such as list comprehensions, garbage collection systems.\n",
    "+ On December 3, 2008, Python 3.0 (also called \"Py3K\") was released. It was designed to rectify the fundamental flaw of the language.\n",
    "+ ABC programming language is said to be the predecessor of Python language, which was capable of Exception Handling and interfacing with the Amoeba Operating System.\n"
   ]
  },
  {
   "cell_type": "markdown",
   "id": "70e46bbf",
   "metadata": {},
   "source": [
    "# Why the Name Python?\n",
    "There is a fact behind choosing the name Python. Guido van Rossum was reading the script of a popular BBC comedy series \"Monty Python's Flying Circus\". It was late on-air 1970s.\n",
    "\n",
    "Van Rossum wanted to select a name which unique, sort, and little-bit mysterious. So he decided to select naming Python after the \"Monty Python's Flying Circus\" for their newly created programming language.\n",
    "\n",
    "The comedy series was creative and well random. It talks about everything. Thus it is slow and unpredictable, which made it very interesting.\n",
    "\n",
    "Python is also versatile and widely used in every technical field, such as Machine Learning, Artificial Intelligence, Web Development, Mobile Application, Desktop Application, Scientific Calculation, etc."
   ]
  },
  {
   "cell_type": "markdown",
   "id": "15afa9a6",
   "metadata": {},
   "source": [
    "# Usage of Python\n",
    "Python is a general purpose, open source, high-level programming language and also provides number of libraries and frameworks. Python has gained popularity because of its simplicity, easy syntax and user-friendly environment. The usage of Python as follows.\n",
    "\n",
    "\n",
    "+ Desktop Applications\n",
    "+ Web Applications\n",
    "+ Data Science\n",
    "+ Artificial Intelligence\n",
    "+ Machine Learning\n",
    "+ Scientific Computing\n",
    "+ Robotics\n",
    "+ Internet of Things (IoT)\n",
    "+ Gaming\n",
    "+ Mobile Apps\n",
    "+ Data Analysis and Preprocessing"
   ]
  },
  {
   "cell_type": "markdown",
   "id": "567de2c8",
   "metadata": {},
   "source": [
    "# Internal execution of python"
   ]
  },
  {
   "cell_type": "markdown",
   "id": "79d4d054",
   "metadata": {},
   "source": [
    "Python converts the source code into a series of byte codes. So within python, compilation stage happens, but directly into byte code and this byte code can’t be identified by CPU. So there is a need for a mediator to do this task. Here an interpreter comes into existence called the python virtual machine.\n",
    "The python virtual machine takes care of the execution of byte codes."
   ]
  },
  {
   "cell_type": "markdown",
   "id": "2523f9c1",
   "metadata": {},
   "source": [
    "The Python source code goes through the following to generate an executable code : \n",
    " \n",
    "\n",
    "+ Step 1: The python compiler reads a python source code or instruction. Then it verifies that the instruction is well-formatted, i.e. it checks the syntax of each line. If it encounters an error, it immediately halts the translation and shows an error message.\n",
    "+ Step 2: If there is no error, i.e. if the python instruction or source code is well-formatted then the compiler translates it into its equivalent form in an intermediate language called “Byte code”.\n",
    "+ Step 3: Byte code is then sent to the Python Virtual Machine(PVM) which is the python interpreter. PVM converts the python byte code into machine-executable code. If an error occurs during this interpretation then the conversion is halted with an error message."
   ]
  },
  {
   "cell_type": "code",
   "execution_count": null,
   "id": "dcfaa1b7",
   "metadata": {},
   "outputs": [],
   "source": []
  }
 ],
 "metadata": {
  "kernelspec": {
   "display_name": "Python 3 (ipykernel)",
   "language": "python",
   "name": "python3"
  },
  "language_info": {
   "codemirror_mode": {
    "name": "ipython",
    "version": 3
   },
   "file_extension": ".py",
   "mimetype": "text/x-python",
   "name": "python",
   "nbconvert_exporter": "python",
   "pygments_lexer": "ipython3",
   "version": "3.9.13"
  }
 },
 "nbformat": 4,
 "nbformat_minor": 5
}
