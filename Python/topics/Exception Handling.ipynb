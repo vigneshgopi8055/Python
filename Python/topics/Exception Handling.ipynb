{
 "cells": [
  {
   "cell_type": "markdown",
   "id": "0895041f",
   "metadata": {},
   "source": [
    "# Python Exceptions\n",
    "An exception is an unexpected event that occurs during program execution. For example,"
   ]
  },
  {
   "cell_type": "code",
   "execution_count": 1,
   "id": "7497db84",
   "metadata": {},
   "outputs": [
    {
     "ename": "ZeroDivisionError",
     "evalue": "division by zero",
     "output_type": "error",
     "traceback": [
      "\u001b[1;31m---------------------------------------------------------------------------\u001b[0m",
      "\u001b[1;31mZeroDivisionError\u001b[0m                         Traceback (most recent call last)",
      "\u001b[1;32m~\\AppData\\Local\\Temp\\ipykernel_8840\\3194537256.py\u001b[0m in \u001b[0;36m<module>\u001b[1;34m\u001b[0m\n\u001b[1;32m----> 1\u001b[1;33m \u001b[0mx\u001b[0m \u001b[1;33m=\u001b[0m \u001b[1;36m7\u001b[0m\u001b[1;33m/\u001b[0m\u001b[1;36m0\u001b[0m\u001b[1;33m\u001b[0m\u001b[1;33m\u001b[0m\u001b[0m\n\u001b[0m",
      "\u001b[1;31mZeroDivisionError\u001b[0m: division by zero"
     ]
    }
   ],
   "source": [
    "x = 7/0"
   ]
  },
  {
   "cell_type": "markdown",
   "id": "3d8bba52",
   "metadata": {},
   "source": [
    "# Python Error and Exception\n",
    "Errors represent conditions such as compilation error, syntax error, error in the logical part of the code, library incompatibility, infinite recursion, etc.\n",
    "\n",
    "Errors are usually beyond the control of the programmer and we should not try to handle errors.\n",
    "\n",
    "Exceptions can be caught and handled by the program."
   ]
  },
  {
   "cell_type": "markdown",
   "id": "8b4fd13f",
   "metadata": {},
   "source": [
    "types of errors\n",
    "+ compile time error\n",
    "+ logical error\n",
    "+ runtime error"
   ]
  },
  {
   "cell_type": "markdown",
   "id": "7814c49b",
   "metadata": {},
   "source": [
    "> exceptions are the runtime errors"
   ]
  },
  {
   "cell_type": "code",
   "execution_count": 4,
   "id": "99acea0c",
   "metadata": {},
   "outputs": [
    {
     "name": "stdout",
     "output_type": "stream",
     "text": [
      "cannot divide with zero\n",
      "bye\n"
     ]
    }
   ],
   "source": [
    "a = 5\n",
    "b = 0\n",
    "try:\n",
    "    print(a/b)\n",
    "except Exception:\n",
    "    print(\"cannot divide with zero\")\n",
    "print(\"bye\")"
   ]
  },
  {
   "cell_type": "code",
   "execution_count": 9,
   "id": "2e7d38d7",
   "metadata": {},
   "outputs": [
    {
     "name": "stdout",
     "output_type": "stream",
     "text": [
      "cannot divide with zero division by zero\n",
      "bye\n"
     ]
    }
   ],
   "source": [
    "a = 5\n",
    "b = 0\n",
    "try:\n",
    "    print(a/b)\n",
    "except Exception as e:\n",
    "    print(\"cannot divide with zero\",e)\n",
    "print(\"bye\")"
   ]
  },
  {
   "cell_type": "markdown",
   "id": "9468c5e2",
   "metadata": {},
   "source": [
    "finally statement doesnot bother about the exceptions it executes."
   ]
  },
  {
   "cell_type": "code",
   "execution_count": 10,
   "id": "6cc46ecb",
   "metadata": {},
   "outputs": [
    {
     "name": "stdout",
     "output_type": "stream",
     "text": [
      "resource open\n",
      "2.5\n",
      "resouce cloased\n"
     ]
    }
   ],
   "source": [
    "a = 5\n",
    "b = 2\n",
    "try:\n",
    "    print(\"resource open\")\n",
    "    print(a/b)\n",
    "except:\n",
    "    print(\"division not possible\")\n",
    "finally:\n",
    "    print(\"resouce cloased\")"
   ]
  },
  {
   "cell_type": "code",
   "execution_count": null,
   "id": "e588b162",
   "metadata": {},
   "outputs": [],
   "source": []
  }
 ],
 "metadata": {
  "kernelspec": {
   "display_name": "Python 3 (ipykernel)",
   "language": "python",
   "name": "python3"
  },
  "language_info": {
   "codemirror_mode": {
    "name": "ipython",
    "version": 3
   },
   "file_extension": ".py",
   "mimetype": "text/x-python",
   "name": "python",
   "nbconvert_exporter": "python",
   "pygments_lexer": "ipython3",
   "version": "3.9.13"
  }
 },
 "nbformat": 4,
 "nbformat_minor": 5
}
