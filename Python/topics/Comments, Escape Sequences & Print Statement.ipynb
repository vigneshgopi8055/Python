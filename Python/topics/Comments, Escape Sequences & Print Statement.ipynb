{
 "cells": [
  {
   "cell_type": "code",
   "execution_count": 1,
   "id": "57ad899e",
   "metadata": {},
   "outputs": [
    {
     "name": "stdout",
     "output_type": "stream",
     "text": [
      "hello world.good morning\n"
     ]
    }
   ],
   "source": [
    "print(\"hello world.good morning\")"
   ]
  },
  {
   "cell_type": "code",
   "execution_count": 2,
   "id": "5a114ff1",
   "metadata": {},
   "outputs": [
    {
     "name": "stdout",
     "output_type": "stream",
     "text": [
      "hello world.\n",
      "good morning\n"
     ]
    }
   ],
   "source": [
    "print(\"hello world.\\ngood morning.\")"
   ]
  },
  {
   "cell_type": "markdown",
   "id": "77eb3487",
   "metadata": {},
   "source": [
    "\\ is known as escape sequence charecter"
   ]
  },
  {
   "cell_type": "code",
   "execution_count": 3,
   "id": "7e011fde",
   "metadata": {},
   "outputs": [
    {
     "name": "stdout",
     "output_type": "stream",
     "text": [
      "hello world.\n",
      "good morning.\n"
     ]
    }
   ],
   "source": [
    "#hey vignesh\n",
    "print(\"hello world.\\ngood morning.\")"
   ]
  },
  {
   "cell_type": "code",
   "execution_count": 7,
   "id": "e89010e4",
   "metadata": {},
   "outputs": [
    {
     "data": {
      "text/plain": [
       "'\\nhello my name is vignesh.\\ngood morining.\\nhow are u.\\n'"
      ]
     },
     "execution_count": 7,
     "metadata": {},
     "output_type": "execute_result"
    }
   ],
   "source": [
    "'''\n",
    "hello my name is vignesh.\n",
    "good morining.\n",
    "how are u.\n",
    "'''"
   ]
  },
  {
   "cell_type": "code",
   "execution_count": 8,
   "id": "c8ad6638",
   "metadata": {},
   "outputs": [
    {
     "name": "stdout",
     "output_type": "stream",
     "text": [
      "hey 5 7\n"
     ]
    }
   ],
   "source": [
    "print('hey' , 5 , 7)"
   ]
  },
  {
   "cell_type": "code",
   "execution_count": 12,
   "id": "bb492bc2",
   "metadata": {},
   "outputs": [
    {
     "name": "stdout",
     "output_type": "stream",
     "text": [
      "hey$5$7009"
     ]
    }
   ],
   "source": [
    "print('hey' , 5 , 7 , sep = '$' , end = '009')"
   ]
  },
  {
   "cell_type": "code",
   "execution_count": null,
   "id": "7bc4495f",
   "metadata": {},
   "outputs": [],
   "source": []
  }
 ],
 "metadata": {
  "kernelspec": {
   "display_name": "Python 3 (ipykernel)",
   "language": "python",
   "name": "python3"
  },
  "language_info": {
   "codemirror_mode": {
    "name": "ipython",
    "version": 3
   },
   "file_extension": ".py",
   "mimetype": "text/x-python",
   "name": "python",
   "nbconvert_exporter": "python",
   "pygments_lexer": "ipython3",
   "version": "3.9.13"
  }
 },
 "nbformat": 4,
 "nbformat_minor": 5
}
